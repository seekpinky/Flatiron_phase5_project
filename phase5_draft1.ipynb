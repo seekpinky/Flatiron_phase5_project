{
 "cells": [
  {
   "cell_type": "code",
   "execution_count": null,
   "id": "65b16e20",
   "metadata": {},
   "outputs": [],
   "source": []
  },
  {
   "cell_type": "markdown",
   "id": "83c7603e",
   "metadata": {},
   "source": [
    "# 1.1 Introduction"
   ]
  },
  {
   "cell_type": "markdown",
   "id": "3f002695",
   "metadata": {},
   "source": [
    "# 1.2 Reference"
   ]
  },
  {
   "cell_type": "markdown",
   "id": "36222ee2",
   "metadata": {},
   "source": [
    "# 2.1 Import library and data"
   ]
  },
  {
   "cell_type": "markdown",
   "id": "e2202663",
   "metadata": {},
   "source": [
    "import libeary that is used for the analysis"
   ]
  },
  {
   "cell_type": "code",
   "execution_count": 685,
   "id": "2c1fdc4c",
   "metadata": {},
   "outputs": [],
   "source": [
    "# data analysis and wrangling\n",
    "import pandas as pd\n",
    "from pandas import DataFrame\n",
    "import numpy as np\n",
    "import random as rnd\n",
    "import math\n",
    "import seaborn as sns\n",
    "from matplotlib import pyplot as plt\n",
    "from scipy import stats as stats\n",
    "\n",
    "# visualization\n",
    "import seaborn as sns\n",
    "sns.set_style('darkgrid')\n",
    "import matplotlib.pyplot as plt\n",
    "%matplotlib inline\n",
    "\n",
    "# scaling and train test split\n",
    "from sklearn.model_selection import train_test_split,cross_val_score\n",
    "from sklearn.preprocessing import MinMaxScaler\n",
    "\n",
    "# pipeline setup\n",
    "\n",
    "from sklearn.pipeline import Pipeline\n",
    "from sklearn.impute import SimpleImputer\n",
    "from sklearn.preprocessing import LabelEncoder\n",
    "from sklearn.preprocessing import OrdinalEncoder\n",
    "from sklearn.preprocessing import OneHotEncoder\n",
    "from sklearn.preprocessing import StandardScaler\n",
    "from sklearn.preprocessing import Normalizer\n",
    "from sklearn.preprocessing import MaxAbsScaler\n",
    "from sklearn.compose import ColumnTransformer\n",
    "from sklearn.impute import KNNImputer\n",
    "from sklearn.dummy import DummyClassifier\n",
    "from sklearn.linear_model import LogisticRegression\n",
    "from sklearn.neighbors import KNeighborsClassifier\n",
    "from sklearn.tree import DecisionTreeClassifier\n",
    "\n",
    "# cross validation\n",
    "from sklearn.model_selection import KFold\n",
    "# Import the evaluation matrics\n",
    "from sklearn.metrics import precision_score, recall_score, accuracy_score, f1_score\n",
    "\n",
    "from sklearn.metrics import precision_score, recall_score, plot_confusion_matrix\n",
    "from sklearn.model_selection import train_test_split, GridSearchCV,\\\n",
    "cross_val_score, RandomizedSearchCV\n",
    "\n",
    "\n",
    "from sklearn.tree import DecisionTreeClassifier \n",
    "from sklearn.metrics import accuracy_score, roc_curve, auc\n",
    "from sklearn.preprocessing import OneHotEncoder\n",
    "from sklearn import tree\n",
    "\n",
    "# evaluation on test data\n",
    "from sklearn import metrics\n",
    "from sklearn.metrics import mean_squared_error,mean_absolute_error,explained_variance_score\n",
    "from sklearn.metrics import classification_report,confusion_matrix\n",
    "# import library for Gradient Boosting\n",
    "from sklearn.ensemble import AdaBoostClassifier, GradientBoostingClassifier"
   ]
  },
  {
   "cell_type": "markdown",
   "id": "29b744ff",
   "metadata": {},
   "source": [
    "Read the data into a pandas dataframe:"
   ]
  },
  {
   "cell_type": "code",
   "execution_count": 686,
   "id": "5ad57127",
   "metadata": {},
   "outputs": [],
   "source": [
    "file_path_1 = ('\\\\Users\\\\eggfr\\\\Flatiron\\\\Flatiron_phase5_project\\\\data\\\\Auto_Train_Dataset.csv')\n",
    "file_path_2 = ('\\\\Users\\\\eggfr\\\\Flatiron\\\\Flatiron_phase5_project\\\\data\\\\Auto_Data_Dictionary.csv')"
   ]
  },
  {
   "cell_type": "code",
   "execution_count": 687,
   "id": "d7814f4e",
   "metadata": {
    "scrolled": true
   },
   "outputs": [
    {
     "name": "stderr",
     "output_type": "stream",
     "text": [
      "C:\\Users\\eggfr\\AppData\\Local\\Temp\\ipykernel_7052\\4212711854.py:1: DtypeWarning: Columns (1,7,8,16,17,18,19,20,35) have mixed types. Specify dtype option on import or set low_memory=False.\n",
      "  autoloan_raw_df = pd.read_csv(file_path_1,encoding='unicode_escape')\n"
     ]
    },
    {
     "data": {
      "text/html": [
       "<div>\n",
       "<style scoped>\n",
       "    .dataframe tbody tr th:only-of-type {\n",
       "        vertical-align: middle;\n",
       "    }\n",
       "\n",
       "    .dataframe tbody tr th {\n",
       "        vertical-align: top;\n",
       "    }\n",
       "\n",
       "    .dataframe thead th {\n",
       "        text-align: right;\n",
       "    }\n",
       "</style>\n",
       "<table border=\"1\" class=\"dataframe\">\n",
       "  <thead>\n",
       "    <tr style=\"text-align: right;\">\n",
       "      <th></th>\n",
       "      <th>ID</th>\n",
       "      <th>Client_Income</th>\n",
       "      <th>Car_Owned</th>\n",
       "      <th>Bike_Owned</th>\n",
       "      <th>Active_Loan</th>\n",
       "      <th>House_Own</th>\n",
       "      <th>Child_Count</th>\n",
       "      <th>Credit_Amount</th>\n",
       "      <th>Loan_Annuity</th>\n",
       "      <th>Accompany_Client</th>\n",
       "      <th>...</th>\n",
       "      <th>Client_Permanent_Match_Tag</th>\n",
       "      <th>Client_Contact_Work_Tag</th>\n",
       "      <th>Type_Organization</th>\n",
       "      <th>Score_Source_1</th>\n",
       "      <th>Score_Source_2</th>\n",
       "      <th>Score_Source_3</th>\n",
       "      <th>Social_Circle_Default</th>\n",
       "      <th>Phone_Change</th>\n",
       "      <th>Credit_Bureau</th>\n",
       "      <th>Default</th>\n",
       "    </tr>\n",
       "  </thead>\n",
       "  <tbody>\n",
       "    <tr>\n",
       "      <th>0</th>\n",
       "      <td>12142509</td>\n",
       "      <td>6750</td>\n",
       "      <td>0.00</td>\n",
       "      <td>0.00</td>\n",
       "      <td>1.00</td>\n",
       "      <td>0.00</td>\n",
       "      <td>0.00</td>\n",
       "      <td>61190.55</td>\n",
       "      <td>3416.85</td>\n",
       "      <td>Alone</td>\n",
       "      <td>...</td>\n",
       "      <td>Yes</td>\n",
       "      <td>Yes</td>\n",
       "      <td>Self-employed</td>\n",
       "      <td>0.57</td>\n",
       "      <td>0.48</td>\n",
       "      <td>NaN</td>\n",
       "      <td>0.02</td>\n",
       "      <td>63.00</td>\n",
       "      <td>NaN</td>\n",
       "      <td>0</td>\n",
       "    </tr>\n",
       "    <tr>\n",
       "      <th>1</th>\n",
       "      <td>12138936</td>\n",
       "      <td>20250</td>\n",
       "      <td>1.00</td>\n",
       "      <td>0.00</td>\n",
       "      <td>1.00</td>\n",
       "      <td>NaN</td>\n",
       "      <td>0.00</td>\n",
       "      <td>15282</td>\n",
       "      <td>1826.55</td>\n",
       "      <td>Alone</td>\n",
       "      <td>...</td>\n",
       "      <td>Yes</td>\n",
       "      <td>Yes</td>\n",
       "      <td>Government</td>\n",
       "      <td>0.56</td>\n",
       "      <td>0.22</td>\n",
       "      <td>NaN</td>\n",
       "      <td>NaN</td>\n",
       "      <td>NaN</td>\n",
       "      <td>NaN</td>\n",
       "      <td>0</td>\n",
       "    </tr>\n",
       "    <tr>\n",
       "      <th>2</th>\n",
       "      <td>12181264</td>\n",
       "      <td>18000</td>\n",
       "      <td>0.00</td>\n",
       "      <td>0.00</td>\n",
       "      <td>1.00</td>\n",
       "      <td>0.00</td>\n",
       "      <td>1.00</td>\n",
       "      <td>59527.35</td>\n",
       "      <td>2788.2</td>\n",
       "      <td>Alone</td>\n",
       "      <td>...</td>\n",
       "      <td>Yes</td>\n",
       "      <td>Yes</td>\n",
       "      <td>Self-employed</td>\n",
       "      <td>NaN</td>\n",
       "      <td>0.55</td>\n",
       "      <td>0.33</td>\n",
       "      <td>0.07</td>\n",
       "      <td>277.00</td>\n",
       "      <td>0.00</td>\n",
       "      <td>0</td>\n",
       "    </tr>\n",
       "    <tr>\n",
       "      <th>3</th>\n",
       "      <td>12188929</td>\n",
       "      <td>15750</td>\n",
       "      <td>0.00</td>\n",
       "      <td>0.00</td>\n",
       "      <td>1.00</td>\n",
       "      <td>1.00</td>\n",
       "      <td>0.00</td>\n",
       "      <td>53870.4</td>\n",
       "      <td>2295.45</td>\n",
       "      <td>Alone</td>\n",
       "      <td>...</td>\n",
       "      <td>Yes</td>\n",
       "      <td>Yes</td>\n",
       "      <td>XNA</td>\n",
       "      <td>NaN</td>\n",
       "      <td>0.14</td>\n",
       "      <td>0.63</td>\n",
       "      <td>NaN</td>\n",
       "      <td>1700.00</td>\n",
       "      <td>3.00</td>\n",
       "      <td>0</td>\n",
       "    </tr>\n",
       "    <tr>\n",
       "      <th>4</th>\n",
       "      <td>12133385</td>\n",
       "      <td>33750</td>\n",
       "      <td>1.00</td>\n",
       "      <td>0.00</td>\n",
       "      <td>1.00</td>\n",
       "      <td>0.00</td>\n",
       "      <td>2.00</td>\n",
       "      <td>133988.4</td>\n",
       "      <td>3547.35</td>\n",
       "      <td>Alone</td>\n",
       "      <td>...</td>\n",
       "      <td>Yes</td>\n",
       "      <td>Yes</td>\n",
       "      <td>Business Entity Type 3</td>\n",
       "      <td>0.51</td>\n",
       "      <td>0.30</td>\n",
       "      <td>0.36</td>\n",
       "      <td>0.20</td>\n",
       "      <td>674.00</td>\n",
       "      <td>1.00</td>\n",
       "      <td>0</td>\n",
       "    </tr>\n",
       "  </tbody>\n",
       "</table>\n",
       "<p>5 rows × 40 columns</p>\n",
       "</div>"
      ],
      "text/plain": [
       "         ID Client_Income  Car_Owned  Bike_Owned  Active_Loan  House_Own  \\\n",
       "0  12142509          6750       0.00        0.00         1.00       0.00   \n",
       "1  12138936         20250       1.00        0.00         1.00        NaN   \n",
       "2  12181264         18000       0.00        0.00         1.00       0.00   \n",
       "3  12188929         15750       0.00        0.00         1.00       1.00   \n",
       "4  12133385         33750       1.00        0.00         1.00       0.00   \n",
       "\n",
       "   Child_Count Credit_Amount Loan_Annuity Accompany_Client  ...  \\\n",
       "0         0.00      61190.55      3416.85            Alone  ...   \n",
       "1         0.00         15282      1826.55            Alone  ...   \n",
       "2         1.00      59527.35       2788.2            Alone  ...   \n",
       "3         0.00       53870.4      2295.45            Alone  ...   \n",
       "4         2.00      133988.4      3547.35            Alone  ...   \n",
       "\n",
       "  Client_Permanent_Match_Tag Client_Contact_Work_Tag       Type_Organization  \\\n",
       "0                        Yes                     Yes           Self-employed   \n",
       "1                        Yes                     Yes              Government   \n",
       "2                        Yes                     Yes           Self-employed   \n",
       "3                        Yes                     Yes                     XNA   \n",
       "4                        Yes                     Yes  Business Entity Type 3   \n",
       "\n",
       "  Score_Source_1 Score_Source_2 Score_Source_3 Social_Circle_Default  \\\n",
       "0           0.57           0.48            NaN                  0.02   \n",
       "1           0.56           0.22            NaN                   NaN   \n",
       "2            NaN           0.55           0.33                  0.07   \n",
       "3            NaN           0.14           0.63                   NaN   \n",
       "4           0.51           0.30           0.36                  0.20   \n",
       "\n",
       "  Phone_Change Credit_Bureau Default  \n",
       "0        63.00           NaN       0  \n",
       "1          NaN           NaN       0  \n",
       "2       277.00          0.00       0  \n",
       "3      1700.00          3.00       0  \n",
       "4       674.00          1.00       0  \n",
       "\n",
       "[5 rows x 40 columns]"
      ]
     },
     "execution_count": 687,
     "metadata": {},
     "output_type": "execute_result"
    }
   ],
   "source": [
    "autoloan_raw_df = pd.read_csv(file_path_1,encoding='unicode_escape') \n",
    "autoloan_raw_df.head()"
   ]
  },
  {
   "cell_type": "markdown",
   "id": "1c916028",
   "metadata": {},
   "source": [
    "There are 121856 rows and 40 variables in this dataset."
   ]
  },
  {
   "cell_type": "code",
   "execution_count": 688,
   "id": "5f8b4cca",
   "metadata": {},
   "outputs": [
    {
     "name": "stdout",
     "output_type": "stream",
     "text": [
      "<class 'pandas.core.frame.DataFrame'>\n",
      "RangeIndex: 121856 entries, 0 to 121855\n",
      "Data columns (total 40 columns):\n",
      " #   Column                      Non-Null Count   Dtype  \n",
      "---  ------                      --------------   -----  \n",
      " 0   ID                          121856 non-null  int64  \n",
      " 1   Client_Income               118249 non-null  object \n",
      " 2   Car_Owned                   118275 non-null  float64\n",
      " 3   Bike_Owned                  118232 non-null  float64\n",
      " 4   Active_Loan                 118221 non-null  float64\n",
      " 5   House_Own                   118195 non-null  float64\n",
      " 6   Child_Count                 118218 non-null  float64\n",
      " 7   Credit_Amount               118224 non-null  object \n",
      " 8   Loan_Annuity                117044 non-null  object \n",
      " 9   Accompany_Client            120110 non-null  object \n",
      " 10  Client_Income_Type          118155 non-null  object \n",
      " 11  Client_Education            118211 non-null  object \n",
      " 12  Client_Marital_Status       118383 non-null  object \n",
      " 13  Client_Gender               119443 non-null  object \n",
      " 14  Loan_Contract_Type          118205 non-null  object \n",
      " 15  Client_Housing_Type         118169 non-null  object \n",
      " 16  Population_Region_Relative  116999 non-null  object \n",
      " 17  Age_Days                    118256 non-null  object \n",
      " 18  Employed_Days               118207 non-null  object \n",
      " 19  Registration_Days           118242 non-null  object \n",
      " 20  ID_Days                     115888 non-null  object \n",
      " 21  Own_House_Age               41761 non-null   float64\n",
      " 22  Mobile_Tag                  121856 non-null  int64  \n",
      " 23  Homephone_Tag               121856 non-null  int64  \n",
      " 24  Workphone_Working           121856 non-null  int64  \n",
      " 25  Client_Occupation           80421 non-null   object \n",
      " 26  Client_Family_Members       119446 non-null  float64\n",
      " 27  Cleint_City_Rating          119447 non-null  float64\n",
      " 28  Application_Process_Day     119428 non-null  float64\n",
      " 29  Application_Process_Hour    118193 non-null  float64\n",
      " 30  Client_Permanent_Match_Tag  121856 non-null  object \n",
      " 31  Client_Contact_Work_Tag     121856 non-null  object \n",
      " 32  Type_Organization           118247 non-null  object \n",
      " 33  Score_Source_1              53021 non-null   float64\n",
      " 34  Score_Source_2              116170 non-null  float64\n",
      " 35  Score_Source_3              94935 non-null   object \n",
      " 36  Social_Circle_Default       59928 non-null   float64\n",
      " 37  Phone_Change                118192 non-null  float64\n",
      " 38  Credit_Bureau               103316 non-null  float64\n",
      " 39  Default                     121856 non-null  int64  \n",
      "dtypes: float64(15), int64(5), object(20)\n",
      "memory usage: 37.2+ MB\n"
     ]
    }
   ],
   "source": [
    "autoloan_raw_df.info()"
   ]
  },
  {
   "cell_type": "markdown",
   "id": "2c8650bc",
   "metadata": {
    "scrolled": false
   },
   "source": [
    "autoloan_raw_df.isna().sum()"
   ]
  },
  {
   "cell_type": "markdown",
   "id": "3013f204",
   "metadata": {},
   "source": [
    "# 2.2 Data Undestanding and Identifying Features and Target"
   ]
  },
  {
   "cell_type": "code",
   "execution_count": null,
   "id": "9c8decad",
   "metadata": {},
   "outputs": [],
   "source": []
  },
  {
   "cell_type": "markdown",
   "id": "ee970058",
   "metadata": {},
   "source": [
    "Once the data is loaded into a pandas dataframe, the next step is identifying which columns represent features and which column represents the target. In this project, we are going to focus on classifying whether loans is defaulted using data collected from a project competition in Hackathon platform via kaggle, which can be found from this link.\n",
    "https://www.kaggle.com/datasets/saurabhbagchi/dish-network-hackathon?select=Test_Dataset.csv\n",
    "\n",
    "The page provides two datasets, TrainDataset and TestDataset. This model building is to be done on TrainDataset. Testdataset from the link isnt used as ['Default'] data is missing. \n",
    "\n",
    "In the test_train split section, we are going to assign X to be the features and y to be the target, which is the ['Default'] variable. Also, this is an  inbalanced dataset, around 8% loans is defaulted. \n",
    "\n",
    "There is 121856 total rows of data. There is 39 columns of features. The first column respondent_id is a unique and random identifier. The remaining 38 features are described in the data library desceiption. \n",
    "\n",
    "Amount of loan that is defaulted is shown below.\n"
   ]
  },
  {
   "cell_type": "code",
   "execution_count": 689,
   "id": "f6474d66",
   "metadata": {},
   "outputs": [
    {
     "data": {
      "text/plain": [
       "0   0.92\n",
       "1   0.08\n",
       "Name: Default, dtype: float64"
      ]
     },
     "execution_count": 689,
     "metadata": {},
     "output_type": "execute_result"
    }
   ],
   "source": [
    "autoloan_raw_df['Default'].value_counts(normalize=True)"
   ]
  },
  {
   "cell_type": "code",
   "execution_count": 690,
   "id": "ca2da8e8",
   "metadata": {},
   "outputs": [],
   "source": [
    "autoloan_lib_raw_df = pd.read_csv(file_path_2,encoding='unicode_escape') \n"
   ]
  },
  {
   "cell_type": "markdown",
   "id": "dec5b0c3",
   "metadata": {},
   "source": [
    "Data library description is shown as below."
   ]
  },
  {
   "cell_type": "code",
   "execution_count": 691,
   "id": "080b01ee",
   "metadata": {
    "scrolled": false
   },
   "outputs": [
    {
     "data": {
      "text/html": [
       "<style type=\"text/css\">\n",
       "#T_635d5 th {\n",
       "  text-align: left;\n",
       "}\n",
       "#T_635d5_row0_col0, #T_635d5_row0_col1, #T_635d5_row1_col0, #T_635d5_row1_col1, #T_635d5_row2_col0, #T_635d5_row2_col1, #T_635d5_row3_col0, #T_635d5_row3_col1, #T_635d5_row4_col0, #T_635d5_row4_col1, #T_635d5_row5_col0, #T_635d5_row5_col1, #T_635d5_row6_col0, #T_635d5_row6_col1, #T_635d5_row7_col0, #T_635d5_row7_col1, #T_635d5_row8_col0, #T_635d5_row8_col1, #T_635d5_row9_col0, #T_635d5_row9_col1, #T_635d5_row10_col0, #T_635d5_row10_col1, #T_635d5_row11_col0, #T_635d5_row11_col1, #T_635d5_row12_col0, #T_635d5_row12_col1, #T_635d5_row13_col0, #T_635d5_row13_col1, #T_635d5_row14_col0, #T_635d5_row14_col1, #T_635d5_row15_col0, #T_635d5_row15_col1, #T_635d5_row16_col0, #T_635d5_row16_col1, #T_635d5_row17_col0, #T_635d5_row17_col1, #T_635d5_row18_col0, #T_635d5_row18_col1, #T_635d5_row19_col0, #T_635d5_row19_col1, #T_635d5_row20_col0, #T_635d5_row20_col1, #T_635d5_row21_col0, #T_635d5_row21_col1, #T_635d5_row22_col0, #T_635d5_row22_col1, #T_635d5_row23_col0, #T_635d5_row23_col1, #T_635d5_row24_col0, #T_635d5_row24_col1, #T_635d5_row25_col0, #T_635d5_row25_col1, #T_635d5_row26_col0, #T_635d5_row26_col1, #T_635d5_row27_col0, #T_635d5_row27_col1, #T_635d5_row28_col0, #T_635d5_row28_col1, #T_635d5_row29_col0, #T_635d5_row29_col1, #T_635d5_row30_col0, #T_635d5_row30_col1, #T_635d5_row31_col0, #T_635d5_row31_col1, #T_635d5_row32_col0, #T_635d5_row32_col1, #T_635d5_row33_col0, #T_635d5_row33_col1, #T_635d5_row34_col0, #T_635d5_row34_col1, #T_635d5_row35_col0, #T_635d5_row35_col1, #T_635d5_row36_col0, #T_635d5_row36_col1, #T_635d5_row37_col0, #T_635d5_row37_col1, #T_635d5_row38_col0, #T_635d5_row38_col1, #T_635d5_row39_col0, #T_635d5_row39_col1 {\n",
       "  text-align: left;\n",
       "}\n",
       "</style>\n",
       "<table id=\"T_635d5\">\n",
       "  <thead>\n",
       "    <tr>\n",
       "      <th class=\"blank level0\" >&nbsp;</th>\n",
       "      <th id=\"T_635d5_level0_col0\" class=\"col_heading level0 col0\" >Variable</th>\n",
       "      <th id=\"T_635d5_level0_col1\" class=\"col_heading level0 col1\" >Description</th>\n",
       "    </tr>\n",
       "  </thead>\n",
       "  <tbody>\n",
       "    <tr>\n",
       "      <th id=\"T_635d5_level0_row0\" class=\"row_heading level0 row0\" >0</th>\n",
       "      <td id=\"T_635d5_row0_col0\" class=\"data row0 col0\" >ID</td>\n",
       "      <td id=\"T_635d5_row0_col1\" class=\"data row0 col1\" >Client Loan application ID</td>\n",
       "    </tr>\n",
       "    <tr>\n",
       "      <th id=\"T_635d5_level0_row1\" class=\"row_heading level0 row1\" >1</th>\n",
       "      <td id=\"T_635d5_row1_col0\" class=\"data row1 col0\" >Client_Income</td>\n",
       "      <td id=\"T_635d5_row1_col1\" class=\"data row1 col1\" >Client Income in $</td>\n",
       "    </tr>\n",
       "    <tr>\n",
       "      <th id=\"T_635d5_level0_row2\" class=\"row_heading level0 row2\" >2</th>\n",
       "      <td id=\"T_635d5_row2_col0\" class=\"data row2 col0\" >Car_Owned</td>\n",
       "      <td id=\"T_635d5_row2_col1\" class=\"data row2 col1\" >Any Car owned by client before applying for the loan for another car (0 means No and 1 means otherwise)</td>\n",
       "    </tr>\n",
       "    <tr>\n",
       "      <th id=\"T_635d5_level0_row3\" class=\"row_heading level0 row3\" >3</th>\n",
       "      <td id=\"T_635d5_row3_col0\" class=\"data row3 col0\" >Bike_Owned</td>\n",
       "      <td id=\"T_635d5_row3_col1\" class=\"data row3 col1\" >Any bike owned by client (0 means No and 1 means otherwise)</td>\n",
       "    </tr>\n",
       "    <tr>\n",
       "      <th id=\"T_635d5_level0_row4\" class=\"row_heading level0 row4\" >4</th>\n",
       "      <td id=\"T_635d5_row4_col0\" class=\"data row4 col0\" >Active_Loan</td>\n",
       "      <td id=\"T_635d5_row4_col1\" class=\"data row4 col1\" >Any other active loan at the time of aplication of loan (0 means No and 1 means otherwise)</td>\n",
       "    </tr>\n",
       "    <tr>\n",
       "      <th id=\"T_635d5_level0_row5\" class=\"row_heading level0 row5\" >5</th>\n",
       "      <td id=\"T_635d5_row5_col0\" class=\"data row5 col0\" >House_Own</td>\n",
       "      <td id=\"T_635d5_row5_col1\" class=\"data row5 col1\" >Any house owned by client (0 means No and 1 means otherwise)</td>\n",
       "    </tr>\n",
       "    <tr>\n",
       "      <th id=\"T_635d5_level0_row6\" class=\"row_heading level0 row6\" >6</th>\n",
       "      <td id=\"T_635d5_row6_col0\" class=\"data row6 col0\" >Child_Count</td>\n",
       "      <td id=\"T_635d5_row6_col1\" class=\"data row6 col1\" >Number of children the client has</td>\n",
       "    </tr>\n",
       "    <tr>\n",
       "      <th id=\"T_635d5_level0_row7\" class=\"row_heading level0 row7\" >7</th>\n",
       "      <td id=\"T_635d5_row7_col0\" class=\"data row7 col0\" >Credit_Amount</td>\n",
       "      <td id=\"T_635d5_row7_col1\" class=\"data row7 col1\" >Credit amount of the loan in $</td>\n",
       "    </tr>\n",
       "    <tr>\n",
       "      <th id=\"T_635d5_level0_row8\" class=\"row_heading level0 row8\" >8</th>\n",
       "      <td id=\"T_635d5_row8_col0\" class=\"data row8 col0\" >Loan_Annuity</td>\n",
       "      <td id=\"T_635d5_row8_col1\" class=\"data row8 col1\" >Loan annuity in $</td>\n",
       "    </tr>\n",
       "    <tr>\n",
       "      <th id=\"T_635d5_level0_row9\" class=\"row_heading level0 row9\" >9</th>\n",
       "      <td id=\"T_635d5_row9_col0\" class=\"data row9 col0\" >Accompany_Client</td>\n",
       "      <td id=\"T_635d5_row9_col1\" class=\"data row9 col1\" >Who accompanied the client when client applied for the loan</td>\n",
       "    </tr>\n",
       "    <tr>\n",
       "      <th id=\"T_635d5_level0_row10\" class=\"row_heading level0 row10\" >10</th>\n",
       "      <td id=\"T_635d5_row10_col0\" class=\"data row10 col0\" >Client_Income_Type</td>\n",
       "      <td id=\"T_635d5_row10_col1\" class=\"data row10 col1\" >Clients income type</td>\n",
       "    </tr>\n",
       "    <tr>\n",
       "      <th id=\"T_635d5_level0_row11\" class=\"row_heading level0 row11\" >11</th>\n",
       "      <td id=\"T_635d5_row11_col0\" class=\"data row11 col0\" >Client_Education</td>\n",
       "      <td id=\"T_635d5_row11_col1\" class=\"data row11 col1\" >Highest level of education ahieved by client</td>\n",
       "    </tr>\n",
       "    <tr>\n",
       "      <th id=\"T_635d5_level0_row12\" class=\"row_heading level0 row12\" >12</th>\n",
       "      <td id=\"T_635d5_row12_col0\" class=\"data row12 col0\" >Client_Marital_Status</td>\n",
       "      <td id=\"T_635d5_row12_col1\" class=\"data row12 col1\" >Marital status of client (D- Divorced, S- Single, M- Married, W- Widowed)</td>\n",
       "    </tr>\n",
       "    <tr>\n",
       "      <th id=\"T_635d5_level0_row13\" class=\"row_heading level0 row13\" >13</th>\n",
       "      <td id=\"T_635d5_row13_col0\" class=\"data row13 col0\" >Client_Gender</td>\n",
       "      <td id=\"T_635d5_row13_col1\" class=\"data row13 col1\" >Gender of the Client</td>\n",
       "    </tr>\n",
       "    <tr>\n",
       "      <th id=\"T_635d5_level0_row14\" class=\"row_heading level0 row14\" >14</th>\n",
       "      <td id=\"T_635d5_row14_col0\" class=\"data row14 col0\" >Loan_Contract_Type</td>\n",
       "      <td id=\"T_635d5_row14_col1\" class=\"data row14 col1\" >Loan Type (CL- Cash Loan, RL- Revolving Loan)</td>\n",
       "    </tr>\n",
       "    <tr>\n",
       "      <th id=\"T_635d5_level0_row15\" class=\"row_heading level0 row15\" >15</th>\n",
       "      <td id=\"T_635d5_row15_col0\" class=\"data row15 col0\" >Client_Housing_Type</td>\n",
       "      <td id=\"T_635d5_row15_col1\" class=\"data row15 col1\" >Client Housing situation</td>\n",
       "    </tr>\n",
       "    <tr>\n",
       "      <th id=\"T_635d5_level0_row16\" class=\"row_heading level0 row16\" >16</th>\n",
       "      <td id=\"T_635d5_row16_col0\" class=\"data row16 col0\" >Population_Region_Relative</td>\n",
       "      <td id=\"T_635d5_row16_col1\" class=\"data row16 col1\" >Relative population of the region where the client is living. Higher value means the client is living in more populated area</td>\n",
       "    </tr>\n",
       "    <tr>\n",
       "      <th id=\"T_635d5_level0_row17\" class=\"row_heading level0 row17\" >17</th>\n",
       "      <td id=\"T_635d5_row17_col0\" class=\"data row17 col0\" >Age_Days</td>\n",
       "      <td id=\"T_635d5_row17_col1\" class=\"data row17 col1\" >Age of the client at the time of application submission</td>\n",
       "    </tr>\n",
       "    <tr>\n",
       "      <th id=\"T_635d5_level0_row18\" class=\"row_heading level0 row18\" >18</th>\n",
       "      <td id=\"T_635d5_row18_col0\" class=\"data row18 col0\" >Employed_Days</td>\n",
       "      <td id=\"T_635d5_row18_col1\" class=\"data row18 col1\" >Days before the application, the client started earning</td>\n",
       "    </tr>\n",
       "    <tr>\n",
       "      <th id=\"T_635d5_level0_row19\" class=\"row_heading level0 row19\" >19</th>\n",
       "      <td id=\"T_635d5_row19_col0\" class=\"data row19 col0\" >Registration_Days</td>\n",
       "      <td id=\"T_635d5_row19_col1\" class=\"data row19 col1\" >Days before the loan application, the client changed his/her registration</td>\n",
       "    </tr>\n",
       "    <tr>\n",
       "      <th id=\"T_635d5_level0_row20\" class=\"row_heading level0 row20\" >20</th>\n",
       "      <td id=\"T_635d5_row20_col0\" class=\"data row20 col0\" >ID_Days</td>\n",
       "      <td id=\"T_635d5_row20_col1\" class=\"data row20 col1\" >Days before the loan application, the client changed his/her identity document with which the loan was applied</td>\n",
       "    </tr>\n",
       "    <tr>\n",
       "      <th id=\"T_635d5_level0_row21\" class=\"row_heading level0 row21\" >21</th>\n",
       "      <td id=\"T_635d5_row21_col0\" class=\"data row21 col0\" >Own_House_Age</td>\n",
       "      <td id=\"T_635d5_row21_col1\" class=\"data row21 col1\" >Age of Client's house in years</td>\n",
       "    </tr>\n",
       "    <tr>\n",
       "      <th id=\"T_635d5_level0_row22\" class=\"row_heading level0 row22\" >22</th>\n",
       "      <td id=\"T_635d5_row22_col0\" class=\"data row22 col0\" >Mobile_Tag</td>\n",
       "      <td id=\"T_635d5_row22_col1\" class=\"data row22 col1\" >Mobile Number provided by Client (1 means Yes and 0 means No)</td>\n",
       "    </tr>\n",
       "    <tr>\n",
       "      <th id=\"T_635d5_level0_row23\" class=\"row_heading level0 row23\" >23</th>\n",
       "      <td id=\"T_635d5_row23_col0\" class=\"data row23 col0\" >Homephone_Tag</td>\n",
       "      <td id=\"T_635d5_row23_col1\" class=\"data row23 col1\" >Homephone Number provided by Client (1 means Yes and 0 means No)</td>\n",
       "    </tr>\n",
       "    <tr>\n",
       "      <th id=\"T_635d5_level0_row24\" class=\"row_heading level0 row24\" >24</th>\n",
       "      <td id=\"T_635d5_row24_col0\" class=\"data row24 col0\" >Workphone_Working</td>\n",
       "      <td id=\"T_635d5_row24_col1\" class=\"data row24 col1\" >Was workphone number reachable (1 means Yes and 0 means No)</td>\n",
       "    </tr>\n",
       "    <tr>\n",
       "      <th id=\"T_635d5_level0_row25\" class=\"row_heading level0 row25\" >25</th>\n",
       "      <td id=\"T_635d5_row25_col0\" class=\"data row25 col0\" >Client_Occupation</td>\n",
       "      <td id=\"T_635d5_row25_col1\" class=\"data row25 col1\" >Client Occupation type</td>\n",
       "    </tr>\n",
       "    <tr>\n",
       "      <th id=\"T_635d5_level0_row26\" class=\"row_heading level0 row26\" >26</th>\n",
       "      <td id=\"T_635d5_row26_col0\" class=\"data row26 col0\" >Client_Family_Members</td>\n",
       "      <td id=\"T_635d5_row26_col1\" class=\"data row26 col1\" >Number of family members does client have</td>\n",
       "    </tr>\n",
       "    <tr>\n",
       "      <th id=\"T_635d5_level0_row27\" class=\"row_heading level0 row27\" >27</th>\n",
       "      <td id=\"T_635d5_row27_col0\" class=\"data row27 col0\" >Cleint_City_Rating</td>\n",
       "      <td id=\"T_635d5_row27_col1\" class=\"data row27 col1\" >Client city rating. 3 denotes best and 2 denotes good and 1 denotes average</td>\n",
       "    </tr>\n",
       "    <tr>\n",
       "      <th id=\"T_635d5_level0_row28\" class=\"row_heading level0 row28\" >28</th>\n",
       "      <td id=\"T_635d5_row28_col0\" class=\"data row28 col0\" >Application_Process_Day</td>\n",
       "      <td id=\"T_635d5_row28_col1\" class=\"data row28 col1\" >Day of the week on which client applied for the loan (0-Sun, 1-Mon,2-Tues, 3-Wed, 4-Thrus,5-Fri, 6-Sat)</td>\n",
       "    </tr>\n",
       "    <tr>\n",
       "      <th id=\"T_635d5_level0_row29\" class=\"row_heading level0 row29\" >29</th>\n",
       "      <td id=\"T_635d5_row29_col0\" class=\"data row29 col0\" >Application_Process_Hour</td>\n",
       "      <td id=\"T_635d5_row29_col1\" class=\"data row29 col1\" >hour of the day on which client applied for the loan</td>\n",
       "    </tr>\n",
       "    <tr>\n",
       "      <th id=\"T_635d5_level0_row30\" class=\"row_heading level0 row30\" >30</th>\n",
       "      <td id=\"T_635d5_row30_col0\" class=\"data row30 col0\" >Client_Permanent_Match_Tag</td>\n",
       "      <td id=\"T_635d5_row30_col1\" class=\"data row30 col1\" >Indication if client contact address does not match permanent address.</td>\n",
       "    </tr>\n",
       "    <tr>\n",
       "      <th id=\"T_635d5_level0_row31\" class=\"row_heading level0 row31\" >31</th>\n",
       "      <td id=\"T_635d5_row31_col0\" class=\"data row31 col0\" >Client_Contact_Work_Tag</td>\n",
       "      <td id=\"T_635d5_row31_col1\" class=\"data row31 col1\" >Indication if client work address does not match contact address.</td>\n",
       "    </tr>\n",
       "    <tr>\n",
       "      <th id=\"T_635d5_level0_row32\" class=\"row_heading level0 row32\" >32</th>\n",
       "      <td id=\"T_635d5_row32_col0\" class=\"data row32 col0\" >Type_Organization</td>\n",
       "      <td id=\"T_635d5_row32_col1\" class=\"data row32 col1\" >Type of organization where client works</td>\n",
       "    </tr>\n",
       "    <tr>\n",
       "      <th id=\"T_635d5_level0_row33\" class=\"row_heading level0 row33\" >33</th>\n",
       "      <td id=\"T_635d5_row33_col0\" class=\"data row33 col0\" >Score_Source_1</td>\n",
       "      <td id=\"T_635d5_row33_col1\" class=\"data row33 col1\" >Score sourced from other source. This is a normalzied socre</td>\n",
       "    </tr>\n",
       "    <tr>\n",
       "      <th id=\"T_635d5_level0_row34\" class=\"row_heading level0 row34\" >34</th>\n",
       "      <td id=\"T_635d5_row34_col0\" class=\"data row34 col0\" >Score_Source_2</td>\n",
       "      <td id=\"T_635d5_row34_col1\" class=\"data row34 col1\" >Score sourced from other source. This is a normalzied socre</td>\n",
       "    </tr>\n",
       "    <tr>\n",
       "      <th id=\"T_635d5_level0_row35\" class=\"row_heading level0 row35\" >35</th>\n",
       "      <td id=\"T_635d5_row35_col0\" class=\"data row35 col0\" >Score_Source_3</td>\n",
       "      <td id=\"T_635d5_row35_col1\" class=\"data row35 col1\" >Score sourced from other source. This is a normalzied socre</td>\n",
       "    </tr>\n",
       "    <tr>\n",
       "      <th id=\"T_635d5_level0_row36\" class=\"row_heading level0 row36\" >36</th>\n",
       "      <td id=\"T_635d5_row36_col0\" class=\"data row36 col0\" >Social_Circle_Default</td>\n",
       "      <td id=\"T_635d5_row36_col1\" class=\"data row36 col1\" >How many friends/family member of client defaulted on any loan payment in last 60 days</td>\n",
       "    </tr>\n",
       "    <tr>\n",
       "      <th id=\"T_635d5_level0_row37\" class=\"row_heading level0 row37\" >37</th>\n",
       "      <td id=\"T_635d5_row37_col0\" class=\"data row37 col0\" >Phone_Change</td>\n",
       "      <td id=\"T_635d5_row37_col1\" class=\"data row37 col1\" >How many days before the loan application, client changed his/her phone</td>\n",
       "    </tr>\n",
       "    <tr>\n",
       "      <th id=\"T_635d5_level0_row38\" class=\"row_heading level0 row38\" >38</th>\n",
       "      <td id=\"T_635d5_row38_col0\" class=\"data row38 col0\" >Credit_Bureau</td>\n",
       "      <td id=\"T_635d5_row38_col1\" class=\"data row38 col1\" >Total number of enquiries in last year</td>\n",
       "    </tr>\n",
       "    <tr>\n",
       "      <th id=\"T_635d5_level0_row39\" class=\"row_heading level0 row39\" >39</th>\n",
       "      <td id=\"T_635d5_row39_col0\" class=\"data row39 col0\" >Default</td>\n",
       "      <td id=\"T_635d5_row39_col1\" class=\"data row39 col1\" >1 means the client defaulted on loan payments and 0 means otherwise</td>\n",
       "    </tr>\n",
       "  </tbody>\n",
       "</table>\n"
      ],
      "text/plain": [
       "<pandas.io.formats.style.Styler at 0x27c00046a00>"
      ]
     },
     "execution_count": 691,
     "metadata": {},
     "output_type": "execute_result"
    }
   ],
   "source": [
    "# let's take a look of the meaning of each columns\n",
    "def left_align(df: DataFrame):\n",
    "    left_aligned_df = df.style.set_properties(**{'text-align': 'left'})\n",
    "    left_aligned_df = left_aligned_df.set_table_styles(\n",
    "        [dict(selector='th', props=[('text-align', 'left')])]\n",
    "    )\n",
    "    return left_aligned_df\n",
    "left_align(autoloan_lib_raw_df)"
   ]
  },
  {
   "cell_type": "markdown",
   "id": "2e09b6e8",
   "metadata": {},
   "source": [
    "# Train Test Split"
   ]
  },
  {
   "cell_type": "markdown",
   "id": "8120b41e",
   "metadata": {},
   "source": [
    "Separating data into training and testing sets is an important part of evaluating the models.Most of the data is used for training, and a smaller portion of the data is used for testing. For this analysis: we only split data into train and test. 75% of the data is for training and 25% for test. Also, the data split happened before we even do any EDA analysis to prevent data leakage. There is 91392 row of datas for the train set and 30464 rows of the data for test set before any data cleaning or analysis is done."
   ]
  },
  {
   "cell_type": "code",
   "execution_count": 692,
   "id": "a959319e",
   "metadata": {},
   "outputs": [],
   "source": [
    "y = autoloan_raw_df['Default']\n",
    "X = autoloan_raw_df.drop(columns=['Default'], axis=1)"
   ]
  },
  {
   "cell_type": "code",
   "execution_count": 693,
   "id": "ef036add",
   "metadata": {},
   "outputs": [
    {
     "data": {
      "text/plain": [
       "((91392, 39), (30464, 39), (91392,), (30464,))"
      ]
     },
     "execution_count": 693,
     "metadata": {},
     "output_type": "execute_result"
    }
   ],
   "source": [
    "#create train-test set using 75%-25% ratio for the train set and test set and set the random state = 42) randomly split the data\n",
    "x_train, x_test, y_train, y_test = train_test_split(X, y ,test_size=0.25,random_state=42)\n",
    "# shape of train and test splits\n",
    "x_train.shape, x_test.shape, y_train.shape, y_test.shape"
   ]
  },
  {
   "cell_type": "markdown",
   "id": "34a7221d",
   "metadata": {},
   "source": [
    "# 4.1 Pre-processing and Exploratory Analysis"
   ]
  },
  {
   "cell_type": "code",
   "execution_count": 694,
   "id": "9a6a3b03",
   "metadata": {
    "scrolled": true
   },
   "outputs": [
    {
     "data": {
      "text/plain": [
       "ID                                0\n",
       "Client_Income                  3607\n",
       "Car_Owned                      3581\n",
       "Bike_Owned                     3624\n",
       "Active_Loan                    3635\n",
       "House_Own                      3661\n",
       "Child_Count                    3638\n",
       "Credit_Amount                  3632\n",
       "Loan_Annuity                   4812\n",
       "Accompany_Client               1746\n",
       "Client_Income_Type             3701\n",
       "Client_Education               3645\n",
       "Client_Marital_Status          3473\n",
       "Client_Gender                  2413\n",
       "Loan_Contract_Type             3651\n",
       "Client_Housing_Type            3687\n",
       "Population_Region_Relative     4857\n",
       "Age_Days                       3600\n",
       "Employed_Days                  3649\n",
       "Registration_Days              3614\n",
       "ID_Days                        5968\n",
       "Own_House_Age                 80095\n",
       "Mobile_Tag                        0\n",
       "Homephone_Tag                     0\n",
       "Workphone_Working                 0\n",
       "Client_Occupation             41435\n",
       "Client_Family_Members          2410\n",
       "Cleint_City_Rating             2409\n",
       "Application_Process_Day        2428\n",
       "Application_Process_Hour       3663\n",
       "Client_Permanent_Match_Tag        0\n",
       "Client_Contact_Work_Tag           0\n",
       "Type_Organization              3609\n",
       "Score_Source_1                68835\n",
       "Score_Source_2                 5686\n",
       "Score_Source_3                26921\n",
       "Social_Circle_Default         61928\n",
       "Phone_Change                   3664\n",
       "Credit_Bureau                 18540\n",
       "Default                           0\n",
       "dtype: int64"
      ]
     },
     "execution_count": 694,
     "metadata": {},
     "output_type": "execute_result"
    }
   ],
   "source": [
    "autoloan_raw_df.isna().sum()"
   ]
  },
  {
   "cell_type": "code",
   "execution_count": 695,
   "id": "7b6fec0b",
   "metadata": {
    "scrolled": true
   },
   "outputs": [
    {
     "data": {
      "text/plain": [
       "Own_House_Age                0.66\n",
       "Score_Source_1               0.56\n",
       "Social_Circle_Default        0.51\n",
       "Client_Occupation            0.34\n",
       "Score_Source_3               0.22\n",
       "Credit_Bureau                0.15\n",
       "ID_Days                      0.05\n",
       "Score_Source_2               0.05\n",
       "Population_Region_Relative   0.04\n",
       "Loan_Annuity                 0.04\n",
       "Client_Income_Type           0.03\n",
       "Client_Housing_Type          0.03\n",
       "Phone_Change                 0.03\n",
       "Application_Process_Hour     0.03\n",
       "House_Own                    0.03\n",
       "Loan_Contract_Type           0.03\n",
       "Employed_Days                0.03\n",
       "Client_Education             0.03\n",
       "Child_Count                  0.03\n",
       "Active_Loan                  0.03\n",
       "Credit_Amount                0.03\n",
       "Bike_Owned                   0.03\n",
       "Registration_Days            0.03\n",
       "Type_Organization            0.03\n",
       "Client_Income                0.03\n",
       "Age_Days                     0.03\n",
       "Car_Owned                    0.03\n",
       "Client_Marital_Status        0.03\n",
       "Application_Process_Day      0.02\n",
       "Client_Gender                0.02\n",
       "Client_Family_Members        0.02\n",
       "Cleint_City_Rating           0.02\n",
       "Accompany_Client             0.01\n",
       "ID                           0.00\n",
       "Client_Contact_Work_Tag      0.00\n",
       "Client_Permanent_Match_Tag   0.00\n",
       "Workphone_Working            0.00\n",
       "Homephone_Tag                0.00\n",
       "Mobile_Tag                   0.00\n",
       "Default                      0.00\n",
       "dtype: float64"
      ]
     },
     "execution_count": 695,
     "metadata": {},
     "output_type": "execute_result"
    }
   ],
   "source": [
    "missing_fractions = autoloan_raw_df.isnull().mean().sort_values(ascending=False)\n",
    "#missing_fractions = autoloan_raw_df.isnull().mean()\n",
    "missing_fractions"
   ]
  },
  {
   "cell_type": "markdown",
   "id": "57464c48",
   "metadata": {},
   "source": [
    "There is missing value dataset, and lets f"
   ]
  },
  {
   "cell_type": "markdown",
   "id": "9b50dd70",
   "metadata": {},
   "source": [
    "# 4.1 ID"
   ]
  },
  {
   "cell_type": "markdown",
   "id": "89bb1683",
   "metadata": {},
   "source": [
    "Are all the IDs unique?"
   ]
  },
  {
   "cell_type": "code",
   "execution_count": 696,
   "id": "faca9c38",
   "metadata": {
    "scrolled": true
   },
   "outputs": [
    {
     "data": {
      "text/plain": [
       "121856"
      ]
     },
     "execution_count": 696,
     "metadata": {},
     "output_type": "execute_result"
    }
   ],
   "source": [
    "autoloan_raw_df['ID'].nunique()"
   ]
  },
  {
   "cell_type": "code",
   "execution_count": 697,
   "id": "ba04eda1",
   "metadata": {},
   "outputs": [],
   "source": [
    "pd.options.display.float_format = \"{:.2f}\".format"
   ]
  },
  {
   "cell_type": "code",
   "execution_count": 698,
   "id": "e0ff54cb",
   "metadata": {},
   "outputs": [
    {
     "data": {
      "text/plain": [
       "count     121856.00\n",
       "mean    12160928.50\n",
       "std        35176.94\n",
       "min     12100001.00\n",
       "25%     12130464.75\n",
       "50%     12160928.50\n",
       "75%     12191392.25\n",
       "max     12221856.00\n",
       "Name: ID, dtype: float64"
      ]
     },
     "execution_count": 698,
     "metadata": {},
     "output_type": "execute_result"
    }
   ],
   "source": [
    "autoloan_raw_df['ID'].describe()"
   ]
  },
  {
   "cell_type": "markdown",
   "id": "cc414a40",
   "metadata": {},
   "source": [
    "They are all unique, however ID isnt useful for modeling and is dropped later."
   ]
  },
  {
   "cell_type": "markdown",
   "id": "b17eb600",
   "metadata": {},
   "source": [
    "# 4.2 Income"
   ]
  },
  {
   "cell_type": "markdown",
   "id": "8ad54327",
   "metadata": {},
   "source": [
    "0.03% of Client_Income data has a missing value, and it is going to be replaced by the income average?, which is the most frequency method for the SimpleImputer when we set up the preprocessing pipeline"
   ]
  },
  {
   "cell_type": "code",
   "execution_count": 699,
   "id": "a6fcdbb2",
   "metadata": {},
   "outputs": [],
   "source": [
    "autoloan_raw_df['Client_Income'] = pd.to_numeric(autoloan_raw_df['Client_Income'], errors='coerce')\n",
    "autoloan_raw_df['Client_Income'] = autoloan_raw_df['Client_Income'].fillna(0)\n",
    "x_train['Client_Income'] = pd.to_numeric(x_train['Client_Income'], errors='coerce')\n",
    "x_test['Client_Income'] = pd.to_numeric(x_test['Client_Income'], errors='coerce')\n",
    "\n",
    "#autoloan_raw_df['Client_Income'] = autoloan_raw_df['Client_Income'].fillna(0)\n",
    "#autoloan_raw_df['Client Income'] = autoloan_raw_df['Client_Income'].apply(lambda x: float(x))\n",
    "#autoloan_raw_df['Client Income'] = autoloan_raw_df['Client Income'].astype(float).fillna(autoloan_raw_df['Client Income'].median())\n",
    "#autoloan_raw_df[autoloan_raw_df.columns['Client_Income']] = autoloan_raw_df[autoloan_raw_df.columns['Client_Income']].apply(pd.to_numeric, errors='coerce').fillna(0)"
   ]
  },
  {
   "cell_type": "code",
   "execution_count": 700,
   "id": "f056418f",
   "metadata": {
    "scrolled": true
   },
   "outputs": [
    {
     "data": {
      "text/plain": [
       "ID                                0\n",
       "Client_Income                     0\n",
       "Car_Owned                      3581\n",
       "Bike_Owned                     3624\n",
       "Active_Loan                    3635\n",
       "House_Own                      3661\n",
       "Child_Count                    3638\n",
       "Credit_Amount                  3632\n",
       "Loan_Annuity                   4812\n",
       "Accompany_Client               1746\n",
       "Client_Income_Type             3701\n",
       "Client_Education               3645\n",
       "Client_Marital_Status          3473\n",
       "Client_Gender                  2413\n",
       "Loan_Contract_Type             3651\n",
       "Client_Housing_Type            3687\n",
       "Population_Region_Relative     4857\n",
       "Age_Days                       3600\n",
       "Employed_Days                  3649\n",
       "Registration_Days              3614\n",
       "ID_Days                        5968\n",
       "Own_House_Age                 80095\n",
       "Mobile_Tag                        0\n",
       "Homephone_Tag                     0\n",
       "Workphone_Working                 0\n",
       "Client_Occupation             41435\n",
       "Client_Family_Members          2410\n",
       "Cleint_City_Rating             2409\n",
       "Application_Process_Day        2428\n",
       "Application_Process_Hour       3663\n",
       "Client_Permanent_Match_Tag        0\n",
       "Client_Contact_Work_Tag           0\n",
       "Type_Organization              3609\n",
       "Score_Source_1                68835\n",
       "Score_Source_2                 5686\n",
       "Score_Source_3                26921\n",
       "Social_Circle_Default         61928\n",
       "Phone_Change                   3664\n",
       "Credit_Bureau                 18540\n",
       "Default                           0\n",
       "dtype: int64"
      ]
     },
     "execution_count": 700,
     "metadata": {},
     "output_type": "execute_result"
    }
   ],
   "source": [
    "autoloan_raw_df.isna().sum()"
   ]
  },
  {
   "cell_type": "markdown",
   "id": "e5a210b7",
   "metadata": {},
   "source": [
    "3.3 Car_Owned"
   ]
  },
  {
   "cell_type": "markdown",
   "id": "0d258cb7",
   "metadata": {},
   "source": [
    "0.03% of Car_Owned data has a missing value, and it is going to be replaced by the non Car_Owned, which is the most frequency method for the SimpleImputer when we set up the preprocessing pipeline"
   ]
  },
  {
   "cell_type": "code",
   "execution_count": 701,
   "id": "074d083c",
   "metadata": {},
   "outputs": [
    {
     "data": {
      "text/plain": [
       "0.00   0.66\n",
       "1.00   0.34\n",
       "Name: Car_Owned, dtype: float64"
      ]
     },
     "execution_count": 701,
     "metadata": {},
     "output_type": "execute_result"
    }
   ],
   "source": [
    "autoloan_raw_df['Car_Owned'].value_counts(normalize = True)"
   ]
  },
  {
   "cell_type": "code",
   "execution_count": 702,
   "id": "501158c9",
   "metadata": {},
   "outputs": [],
   "source": [
    "autoloan_raw_df['Car_Owned'] = autoloan_raw_df['Car_Owned'].fillna(0)\n"
   ]
  },
  {
   "cell_type": "markdown",
   "id": "6b8d6620",
   "metadata": {},
   "source": [
    " 3.4 Bike_Owned"
   ]
  },
  {
   "cell_type": "markdown",
   "id": "530abf49",
   "metadata": {},
   "source": [
    "0.03% of Bike_Owned data has a missing value, and it is going to be replaced by the non Bike_Owned, which is the most frequency method."
   ]
  },
  {
   "cell_type": "code",
   "execution_count": 703,
   "id": "fe9ac8af",
   "metadata": {
    "scrolled": true
   },
   "outputs": [
    {
     "data": {
      "text/plain": [
       "0.00   0.67\n",
       "1.00   0.33\n",
       "Name: Bike_Owned, dtype: float64"
      ]
     },
     "execution_count": 703,
     "metadata": {},
     "output_type": "execute_result"
    }
   ],
   "source": [
    "autoloan_raw_df['Bike_Owned'].value_counts(normalize = True)"
   ]
  },
  {
   "cell_type": "code",
   "execution_count": 704,
   "id": "7a90ba2e",
   "metadata": {},
   "outputs": [],
   "source": [
    "autoloan_raw_df['Bike_Owned'] = autoloan_raw_df['Bike_Owned'].fillna(0)\n"
   ]
  },
  {
   "cell_type": "markdown",
   "id": "a97b3bfb",
   "metadata": {},
   "source": [
    " 3.5 Active_Loan"
   ]
  },
  {
   "cell_type": "code",
   "execution_count": 705,
   "id": "082e27f0",
   "metadata": {},
   "outputs": [
    {
     "data": {
      "text/plain": [
       "0.00   0.50\n",
       "1.00   0.50\n",
       "Name: Active_Loan, dtype: float64"
      ]
     },
     "execution_count": 705,
     "metadata": {},
     "output_type": "execute_result"
    }
   ],
   "source": [
    "autoloan_raw_df['Active_Loan'].value_counts(normalize = True)"
   ]
  },
  {
   "cell_type": "markdown",
   "id": "a1263f20",
   "metadata": {},
   "source": [
    "0.03% of active loan data has a missing value, and it is going to be replaced by the mean of the default group."
   ]
  },
  {
   "cell_type": "code",
   "execution_count": 706,
   "id": "efef79ac",
   "metadata": {},
   "outputs": [
    {
     "data": {
      "text/plain": [
       "0.00   0.50\n",
       "1.00   0.50\n",
       "Name: Active_Loan, dtype: float64"
      ]
     },
     "execution_count": 706,
     "metadata": {},
     "output_type": "execute_result"
    }
   ],
   "source": [
    "autoloan_raw_df['Active_Loan'].value_counts(normalize = True)"
   ]
  },
  {
   "cell_type": "code",
   "execution_count": 707,
   "id": "be81da10",
   "metadata": {},
   "outputs": [],
   "source": [
    "autoloan_raw_df['Active_Loan'] = autoloan_raw_df['Active_Loan'].fillna(autoloan_raw_df.groupby('Default')['Active_Loan'].transform('mean'))"
   ]
  },
  {
   "cell_type": "code",
   "execution_count": 708,
   "id": "f7bce515",
   "metadata": {
    "scrolled": true
   },
   "outputs": [
    {
     "data": {
      "text/plain": [
       "ID                                0\n",
       "Client_Income                     0\n",
       "Car_Owned                         0\n",
       "Bike_Owned                        0\n",
       "Active_Loan                       0\n",
       "House_Own                      3661\n",
       "Child_Count                    3638\n",
       "Credit_Amount                  3632\n",
       "Loan_Annuity                   4812\n",
       "Accompany_Client               1746\n",
       "Client_Income_Type             3701\n",
       "Client_Education               3645\n",
       "Client_Marital_Status          3473\n",
       "Client_Gender                  2413\n",
       "Loan_Contract_Type             3651\n",
       "Client_Housing_Type            3687\n",
       "Population_Region_Relative     4857\n",
       "Age_Days                       3600\n",
       "Employed_Days                  3649\n",
       "Registration_Days              3614\n",
       "ID_Days                        5968\n",
       "Own_House_Age                 80095\n",
       "Mobile_Tag                        0\n",
       "Homephone_Tag                     0\n",
       "Workphone_Working                 0\n",
       "Client_Occupation             41435\n",
       "Client_Family_Members          2410\n",
       "Cleint_City_Rating             2409\n",
       "Application_Process_Day        2428\n",
       "Application_Process_Hour       3663\n",
       "Client_Permanent_Match_Tag        0\n",
       "Client_Contact_Work_Tag           0\n",
       "Type_Organization              3609\n",
       "Score_Source_1                68835\n",
       "Score_Source_2                 5686\n",
       "Score_Source_3                26921\n",
       "Social_Circle_Default         61928\n",
       "Phone_Change                   3664\n",
       "Credit_Bureau                 18540\n",
       "Default                           0\n",
       "dtype: int64"
      ]
     },
     "execution_count": 708,
     "metadata": {},
     "output_type": "execute_result"
    }
   ],
   "source": [
    "autoloan_raw_df.isna().sum()"
   ]
  },
  {
   "cell_type": "code",
   "execution_count": 709,
   "id": "ae5e5b1c",
   "metadata": {
    "scrolled": true
   },
   "outputs": [],
   "source": [
    "#autoloan_raw_df['Client_Income'] = autoloan_raw_df['Client_Income'].fillna(autoloan_raw_df['Client_Income'].median())"
   ]
  },
  {
   "cell_type": "code",
   "execution_count": 710,
   "id": "4a4b5f4c",
   "metadata": {
    "scrolled": true
   },
   "outputs": [
    {
     "data": {
      "text/plain": [
       "Laborers             0.26\n",
       "Sales                0.15\n",
       "Core                 0.13\n",
       "Managers             0.10\n",
       "Drivers              0.09\n",
       "High skill tech      0.05\n",
       "Accountants          0.05\n",
       "Medicine             0.04\n",
       "Security             0.03\n",
       "Cooking              0.03\n",
       "Cleaning             0.02\n",
       "Private service      0.01\n",
       "Low-skill Laborers   0.01\n",
       "Secretaries          0.01\n",
       "Waiters/barmen       0.01\n",
       "Realty agents        0.00\n",
       "HR                   0.00\n",
       "IT                   0.00\n",
       "Name: Client_Occupation, dtype: float64"
      ]
     },
     "execution_count": 710,
     "metadata": {},
     "output_type": "execute_result"
    }
   ],
   "source": [
    "autoloan_raw_df['Client_Occupation'].value_counts(normalize=True)"
   ]
  },
  {
   "cell_type": "markdown",
   "id": "3d008ed9",
   "metadata": {},
   "source": [
    "3.6 House_Own"
   ]
  },
  {
   "cell_type": "code",
   "execution_count": 711,
   "id": "9819e5c3",
   "metadata": {},
   "outputs": [
    {
     "data": {
      "text/plain": [
       "1.00   0.69\n",
       "0.00   0.31\n",
       "Name: House_Own, dtype: float64"
      ]
     },
     "execution_count": 711,
     "metadata": {},
     "output_type": "execute_result"
    }
   ],
   "source": [
    "autoloan_raw_df['House_Own'].value_counts(normalize = True)"
   ]
  },
  {
   "cell_type": "markdown",
   "id": "fd440b87",
   "metadata": {},
   "source": [
    "0.03% of active loan data has a missing value, and it is going to be replaced by the mean of the default group."
   ]
  },
  {
   "cell_type": "markdown",
   "id": "8d533cb9",
   "metadata": {},
   "source": [
    "3.7 Child_Count"
   ]
  },
  {
   "cell_type": "code",
   "execution_count": 712,
   "id": "9042e219",
   "metadata": {},
   "outputs": [
    {
     "data": {
      "text/plain": [
       "0.00    0.70\n",
       "1.00    0.20\n",
       "2.00    0.09\n",
       "3.00    0.01\n",
       "4.00    0.00\n",
       "5.00    0.00\n",
       "6.00    0.00\n",
       "7.00    0.00\n",
       "14.00   0.00\n",
       "10.00   0.00\n",
       "8.00    0.00\n",
       "19.00   0.00\n",
       "12.00   0.00\n",
       "9.00    0.00\n",
       "Name: Child_Count, dtype: float64"
      ]
     },
     "execution_count": 712,
     "metadata": {},
     "output_type": "execute_result"
    }
   ],
   "source": [
    "autoloan_raw_df['Child_Count'].value_counts(normalize = True)"
   ]
  },
  {
   "cell_type": "code",
   "execution_count": 713,
   "id": "4812c91b",
   "metadata": {},
   "outputs": [],
   "source": [
    "autoloan_raw_df['Client_Occupation'] = autoloan_raw_df['Client_Occupation'].fillna(value ='Other')\n"
   ]
  },
  {
   "cell_type": "code",
   "execution_count": 714,
   "id": "7316584e",
   "metadata": {},
   "outputs": [
    {
     "data": {
      "text/plain": [
       "ID                                0\n",
       "Client_Income                     0\n",
       "Car_Owned                         0\n",
       "Bike_Owned                        0\n",
       "Active_Loan                       0\n",
       "House_Own                      3661\n",
       "Child_Count                    3638\n",
       "Credit_Amount                  3632\n",
       "Loan_Annuity                   4812\n",
       "Accompany_Client               1746\n",
       "Client_Income_Type             3701\n",
       "Client_Education               3645\n",
       "Client_Marital_Status          3473\n",
       "Client_Gender                  2413\n",
       "Loan_Contract_Type             3651\n",
       "Client_Housing_Type            3687\n",
       "Population_Region_Relative     4857\n",
       "Age_Days                       3600\n",
       "Employed_Days                  3649\n",
       "Registration_Days              3614\n",
       "ID_Days                        5968\n",
       "Own_House_Age                 80095\n",
       "Mobile_Tag                        0\n",
       "Homephone_Tag                     0\n",
       "Workphone_Working                 0\n",
       "Client_Occupation                 0\n",
       "Client_Family_Members          2410\n",
       "Cleint_City_Rating             2409\n",
       "Application_Process_Day        2428\n",
       "Application_Process_Hour       3663\n",
       "Client_Permanent_Match_Tag        0\n",
       "Client_Contact_Work_Tag           0\n",
       "Type_Organization              3609\n",
       "Score_Source_1                68835\n",
       "Score_Source_2                 5686\n",
       "Score_Source_3                26921\n",
       "Social_Circle_Default         61928\n",
       "Phone_Change                   3664\n",
       "Credit_Bureau                 18540\n",
       "Default                           0\n",
       "dtype: int64"
      ]
     },
     "execution_count": 714,
     "metadata": {},
     "output_type": "execute_result"
    }
   ],
   "source": [
    "autoloan_raw_df.isna().sum()"
   ]
  },
  {
   "cell_type": "code",
   "execution_count": 715,
   "id": "c64a3b7c",
   "metadata": {},
   "outputs": [
    {
     "data": {
      "text/plain": [
       "(121856, 40)"
      ]
     },
     "execution_count": 715,
     "metadata": {},
     "output_type": "execute_result"
    }
   ],
   "source": [
    "autoloan_raw_df.shape"
   ]
  },
  {
   "cell_type": "markdown",
   "id": "435d5c28",
   "metadata": {},
   "source": [
    "Drop these- too many missing value"
   ]
  },
  {
   "cell_type": "code",
   "execution_count": 716,
   "id": "13a3692c",
   "metadata": {},
   "outputs": [],
   "source": [
    "autoloan_raw_df = autoloan_raw_df.drop(columns=['Default','Own_House_Age','Social_Circle_Default','Score_Source_1','Score_Source_2','Score_Source_3'], axis=1)\n",
    "x_train = x_train.drop(columns=['ID','Own_House_Age','Social_Circle_Default','Score_Source_1','Score_Source_2','Score_Source_3'], axis=1)\n",
    "x_test = x_test.drop(columns=['ID','Own_House_Age','Social_Circle_Default','Score_Source_1','Score_Source_2','Score_Source_3'], axis=1)"
   ]
  },
  {
   "cell_type": "code",
   "execution_count": 717,
   "id": "fe357c19",
   "metadata": {},
   "outputs": [
    {
     "data": {
      "text/plain": [
       "(121856, 34)"
      ]
     },
     "execution_count": 717,
     "metadata": {},
     "output_type": "execute_result"
    }
   ],
   "source": [
    "autoloan_raw_df.shape"
   ]
  },
  {
   "cell_type": "markdown",
   "id": "b78570f1",
   "metadata": {},
   "source": [
    "Three_percent -- handle by filling 0"
   ]
  },
  {
   "cell_type": "code",
   "execution_count": 718,
   "id": "9b8d768b",
   "metadata": {},
   "outputs": [
    {
     "data": {
      "text/plain": [
       "['Car_Owned',\n",
       " 'Bike_Owned',\n",
       " 'House_Own',\n",
       " 'Child_Count',\n",
       " 'Accompany_Client',\n",
       " 'Client_Marital_Status',\n",
       " 'Client_Gender',\n",
       " 'Loan_Contract_Type',\n",
       " 'Client_Housing_Type',\n",
       " 'Population_Region_Relative',\n",
       " 'Population_Region_Relative',\n",
       " 'Age_Days',\n",
       " 'Registration_Days',\n",
       " 'ID_Days',\n",
       " 'Client_Family_Members',\n",
       " 'Cleint_City_Rating',\n",
       " 'Application_Process_Day',\n",
       " 'Application_Process_Hour',\n",
       " 'Type_Organization',\n",
       " 'Phone_Change']"
      ]
     },
     "execution_count": 718,
     "metadata": {},
     "output_type": "execute_result"
    }
   ],
   "source": [
    "three_per = ['Car_Owned','Bike_Owned','House_Own','Child_Count','Accompany_Client','Client_Marital_Status','Client_Gender','Loan_Contract_Type','Client_Housing_Type','Population_Region_Relative','Population_Region_Relative','Age_Days','Registration_Days','ID_Days','Client_Family_Members','Cleint_City_Rating','Application_Process_Day','Application_Process_Hour','Type_Organization','Phone_Change']\n",
    "three_per"
   ]
  },
  {
   "cell_type": "code",
   "execution_count": 719,
   "id": "3d975220",
   "metadata": {},
   "outputs": [],
   "source": [
    "for item in three_per:\n",
    "    autoloan_raw_df[item] = autoloan_raw_df[item].fillna(0)\n",
    "    #autoloan_raw_df[item] = autoloan_raw_df[item].astype(int)"
   ]
  },
  {
   "cell_type": "code",
   "execution_count": 720,
   "id": "3738034d",
   "metadata": {
    "scrolled": true
   },
   "outputs": [
    {
     "data": {
      "text/plain": [
       "ID                                0\n",
       "Client_Income                     0\n",
       "Car_Owned                         0\n",
       "Bike_Owned                        0\n",
       "Active_Loan                       0\n",
       "House_Own                         0\n",
       "Child_Count                       0\n",
       "Credit_Amount                  3632\n",
       "Loan_Annuity                   4812\n",
       "Accompany_Client                  0\n",
       "Client_Income_Type             3701\n",
       "Client_Education               3645\n",
       "Client_Marital_Status             0\n",
       "Client_Gender                     0\n",
       "Loan_Contract_Type                0\n",
       "Client_Housing_Type               0\n",
       "Population_Region_Relative        0\n",
       "Age_Days                          0\n",
       "Employed_Days                  3649\n",
       "Registration_Days                 0\n",
       "ID_Days                           0\n",
       "Mobile_Tag                        0\n",
       "Homephone_Tag                     0\n",
       "Workphone_Working                 0\n",
       "Client_Occupation                 0\n",
       "Client_Family_Members             0\n",
       "Cleint_City_Rating                0\n",
       "Application_Process_Day           0\n",
       "Application_Process_Hour          0\n",
       "Client_Permanent_Match_Tag        0\n",
       "Client_Contact_Work_Tag           0\n",
       "Type_Organization                 0\n",
       "Phone_Change                      0\n",
       "Credit_Bureau                 18540\n",
       "dtype: int64"
      ]
     },
     "execution_count": 720,
     "metadata": {},
     "output_type": "execute_result"
    }
   ],
   "source": [
    "autoloan_raw_df.isna().sum()"
   ]
  },
  {
   "cell_type": "markdown",
   "id": "906e54ce",
   "metadata": {},
   "source": [
    "mean for now for 'Credit_Amount', 'Loan_Annuity'"
   ]
  },
  {
   "cell_type": "code",
   "execution_count": 721,
   "id": "620cfdd3",
   "metadata": {},
   "outputs": [],
   "source": [
    "autoloan_raw_df['Credit_Amount'] = autoloan_raw_df['Credit_Amount'].fillna(autoloan_raw_df['Credit_Amount'].mean)\n",
    "autoloan_raw_df['Loan_Annuity'] = autoloan_raw_df['Loan_Annuity'].fillna(autoloan_raw_df['Loan_Annuity'].mean)"
   ]
  },
  {
   "cell_type": "code",
   "execution_count": null,
   "id": "39c56f5d",
   "metadata": {},
   "outputs": [],
   "source": []
  },
  {
   "cell_type": "code",
   "execution_count": 722,
   "id": "ee1cd14a",
   "metadata": {},
   "outputs": [],
   "source": [
    "autoloan_raw_df['Credit_Amount'] = autoloan_raw_df['Credit_Amount'].fillna(autoloan_raw_df['Credit_Amount'].mean)"
   ]
  },
  {
   "cell_type": "code",
   "execution_count": 723,
   "id": "782a3a5d",
   "metadata": {},
   "outputs": [
    {
     "data": {
      "text/plain": [
       "ID                                0\n",
       "Client_Income                     0\n",
       "Car_Owned                         0\n",
       "Bike_Owned                        0\n",
       "Active_Loan                       0\n",
       "House_Own                         0\n",
       "Child_Count                       0\n",
       "Credit_Amount                     0\n",
       "Loan_Annuity                      0\n",
       "Accompany_Client                  0\n",
       "Client_Income_Type             3701\n",
       "Client_Education               3645\n",
       "Client_Marital_Status             0\n",
       "Client_Gender                     0\n",
       "Loan_Contract_Type                0\n",
       "Client_Housing_Type               0\n",
       "Population_Region_Relative        0\n",
       "Age_Days                          0\n",
       "Employed_Days                  3649\n",
       "Registration_Days                 0\n",
       "ID_Days                           0\n",
       "Mobile_Tag                        0\n",
       "Homephone_Tag                     0\n",
       "Workphone_Working                 0\n",
       "Client_Occupation                 0\n",
       "Client_Family_Members             0\n",
       "Cleint_City_Rating                0\n",
       "Application_Process_Day           0\n",
       "Application_Process_Hour          0\n",
       "Client_Permanent_Match_Tag        0\n",
       "Client_Contact_Work_Tag           0\n",
       "Type_Organization                 0\n",
       "Phone_Change                      0\n",
       "Credit_Bureau                 18540\n",
       "dtype: int64"
      ]
     },
     "execution_count": 723,
     "metadata": {},
     "output_type": "execute_result"
    }
   ],
   "source": [
    "autoloan_raw_df.isna().sum()"
   ]
  },
  {
   "cell_type": "code",
   "execution_count": 724,
   "id": "73108b43",
   "metadata": {},
   "outputs": [
    {
     "data": {
      "text/plain": [
       "Service           0.52\n",
       "Commercial        0.23\n",
       "Retired           0.18\n",
       "Govt Job          0.07\n",
       "Student           0.00\n",
       "Unemployed        0.00\n",
       "Maternity leave   0.00\n",
       "Businessman       0.00\n",
       "Name: Client_Income_Type, dtype: float64"
      ]
     },
     "execution_count": 724,
     "metadata": {},
     "output_type": "execute_result"
    }
   ],
   "source": [
    "autoloan_raw_df['Client_Income_Type'].value_counts(normalize = True)"
   ]
  },
  {
   "cell_type": "code",
   "execution_count": 725,
   "id": "c9b7ef31",
   "metadata": {},
   "outputs": [
    {
     "data": {
      "text/plain": [
       "Secondary            0.71\n",
       "Graduation           0.24\n",
       "Graduation dropout   0.03\n",
       "Junior secondary     0.01\n",
       "Post Grad            0.00\n",
       "Name: Client_Education, dtype: float64"
      ]
     },
     "execution_count": 725,
     "metadata": {},
     "output_type": "execute_result"
    }
   ],
   "source": [
    "autoloan_raw_df['Client_Education'].value_counts(normalize = True)"
   ]
  },
  {
   "cell_type": "markdown",
   "id": "921789e0",
   "metadata": {},
   "source": [
    "# Pipeline"
   ]
  },
  {
   "cell_type": "markdown",
   "id": "b29238d1",
   "metadata": {},
   "source": [
    "Now we need to set a pipeline for our data with the imputing staregy from the discussion above. We will set up a numeric pipeline for numerical variable. Feautres with missing value will be imputed by mean. Afterwards, it will be fed into a standard scaler for scaling."
   ]
  },
  {
   "cell_type": "code",
   "execution_count": 726,
   "id": "a2585693",
   "metadata": {},
   "outputs": [
    {
     "name": "stdout",
     "output_type": "stream",
     "text": [
      "<class 'pandas.core.frame.DataFrame'>\n",
      "Int64Index: 91392 entries, 7640 to 15795\n",
      "Data columns (total 33 columns):\n",
      " #   Column                      Non-Null Count  Dtype  \n",
      "---  ------                      --------------  -----  \n",
      " 0   Client_Income               88646 non-null  float64\n",
      " 1   Car_Owned                   88719 non-null  float64\n",
      " 2   Bike_Owned                  88678 non-null  float64\n",
      " 3   Active_Loan                 88668 non-null  float64\n",
      " 4   House_Own                   88619 non-null  float64\n",
      " 5   Child_Count                 88666 non-null  float64\n",
      " 6   Credit_Amount               88699 non-null  object \n",
      " 7   Loan_Annuity                87807 non-null  object \n",
      " 8   Accompany_Client            90116 non-null  object \n",
      " 9   Client_Income_Type          88623 non-null  object \n",
      " 10  Client_Education            88646 non-null  object \n",
      " 11  Client_Marital_Status       88788 non-null  object \n",
      " 12  Client_Gender               89589 non-null  object \n",
      " 13  Loan_Contract_Type          88618 non-null  object \n",
      " 14  Client_Housing_Type         88625 non-null  object \n",
      " 15  Population_Region_Relative  87749 non-null  object \n",
      " 16  Age_Days                    88735 non-null  object \n",
      " 17  Employed_Days               88676 non-null  object \n",
      " 18  Registration_Days           88675 non-null  object \n",
      " 19  ID_Days                     86895 non-null  object \n",
      " 20  Mobile_Tag                  91392 non-null  int64  \n",
      " 21  Homephone_Tag               91392 non-null  int64  \n",
      " 22  Workphone_Working           91392 non-null  int64  \n",
      " 23  Client_Occupation           60306 non-null  object \n",
      " 24  Client_Family_Members       89587 non-null  float64\n",
      " 25  Cleint_City_Rating          89578 non-null  float64\n",
      " 26  Application_Process_Day     89564 non-null  float64\n",
      " 27  Application_Process_Hour    88650 non-null  float64\n",
      " 28  Client_Permanent_Match_Tag  91392 non-null  object \n",
      " 29  Client_Contact_Work_Tag     91392 non-null  object \n",
      " 30  Type_Organization           88673 non-null  object \n",
      " 31  Phone_Change                88608 non-null  float64\n",
      " 32  Credit_Bureau               77380 non-null  float64\n",
      "dtypes: float64(12), int64(3), object(18)\n",
      "memory usage: 23.7+ MB\n"
     ]
    }
   ],
   "source": [
    "x_train.info()"
   ]
  },
  {
   "cell_type": "markdown",
   "id": "40b667a8",
   "metadata": {},
   "source": [
    "I am going to make a list of the following categorical variable so I can prepare a list for the feature for the one hot encoding."
   ]
  },
  {
   "cell_type": "code",
   "execution_count": 727,
   "id": "e912ff1f",
   "metadata": {},
   "outputs": [
    {
     "name": "stdout",
     "output_type": "stream",
     "text": [
      "Client_Occupation\n",
      "['Laborers' 'Managers' nan 'Core' 'Sales' 'Drivers' 'Cooking'\n",
      " 'Private service' 'High skill tech' 'HR' 'Security' 'Accountants'\n",
      " 'Medicine' 'Secretaries' 'Low-skill Laborers' 'Cleaning' 'Waiters/barmen'\n",
      " 'IT' 'Realty agents']\n",
      "Client_Income_Type\n",
      "['Service' 'Commercial' nan 'Retired' 'Govt Job' 'Unemployed'\n",
      " 'Maternity leave' 'Businessman' 'Student']\n",
      "Accompany_Client\n",
      "['Alone' 'Relative' 'Partner' 'Others' nan 'Kids' 'Group' '##']\n",
      "Client_Housing_Type\n",
      "['Home' 'Family' 'Municipal' nan 'Rental' 'Shared' 'Office']\n",
      "Cleint_City_Rating\n",
      "[ 2.  3.  1. nan]\n",
      "Client_Education\n",
      "['Secondary' 'Graduation' 'Graduation dropout' nan 'Junior secondary'\n",
      " 'Post Grad']\n",
      "Client_Marital_Status\n",
      "['D' 'W' 'M' 'S' nan]\n",
      "Client_Contact_Work_Tag\n",
      "['Yes' 'No']\n",
      "Population_Region_Relative\n",
      "['0.019101' 0.010966 '0.018029' '0.01452' 0.008068 '0.035792' 0.018634\n",
      " '0.007305' '0.028663' 0.022625 '0.031329' '0.00963' '0.02461' '0.002042'\n",
      " '0.072508' 0.01452 '0.006671' 0.010276 nan '0.018634' 0.04622 0.018029\n",
      " 0.00733 0.009549 0.01885 '0.002134' '0.0228' 0.008866 '0.019689'\n",
      " '0.006629' '0.032561' '0.00823' '0.022625' '0.04622' '0.018209' 0.026392\n",
      " 0.006671 '0.006207' 0.006008 0.032561 '0.010276' 0.015221 0.030755\n",
      " '0.015221' '0.010147' 0.00496 '0.030755' '0.026392' '0.011657' '0.016612'\n",
      " 0.035792 '0.014464' '0.003818' 0.009334 0.031329 '0.003813' 0.02461\n",
      " 0.028663 '0.007114' '0.020713' '0.018801' '0.009657' '0.006296' '0.00496'\n",
      " 0.008625 '0.025164' 0.009175 0.00702 '0.006852' '0.01885' 0.019689\n",
      " 0.008019 '0.00712' '0.008474' '0.009175' '0.007274' 0.0228 '0.001276'\n",
      " 0.00712 0.020713 0.019101 '0.0105' 0.005002 0.002042 '0.010966' '0.00702'\n",
      " '0.006233' 0.072508 '0.008866' 0.018209 '0.00733' 0.007274 '0.006008'\n",
      " 0.00823 0.006305 '0.005084' 0.003818 0.010147 '0.011703' 0.006629\n",
      " '0.010643' 0.00963 0.010006 0.020246 0.007114 '0.008625' 0.007305\n",
      " '0.003069' '0.008019' 0.010032 '0.010006' 0.003069 0.018801 0.010643\n",
      " '0.010556' '0.003122' 0.006296 0.025164 '0.005313' 0.003541 0.016612\n",
      " 0.009657 '0.008068' 0.011657 0.001333 '0.009549' '0.010032' '0.009334'\n",
      " '0.020246' 0.014464 0.006207 0.003813 '0.006305' 0.010556 0.006852\n",
      " 0.001276 0.011703 0.006233 '0.005144' '0.002506' '0.004849' '0.005002'\n",
      " 0.003122 0.005084 0.008575 0.000533 0.005144 0.004849 '0.008575' 0.001417\n",
      " '0.001417' '0.001333' 0.008474 0.005313 0.002134 0.0105 0.002506\n",
      " '0.003541' '@' '#' '0.000533' '0.000938' 0.000938 '100' 100.0]\n",
      "ID_Days\n",
      "['3640' '2298' '2238' ... 5263.0 1432.0 97.0]\n",
      "Client_Family_Members\n",
      "[ 1.  3.  2.  4. nan  6.  5. 15. 13.  7. 12.  8. 16.  9. 10. 14.]\n"
     ]
    }
   ],
   "source": [
    "print(\"Client_Occupation\")\n",
    "print(x_train.Client_Occupation.unique())\n",
    "\n",
    "print(\"Client_Income_Type\")\n",
    "print(x_train.Client_Income_Type.unique())\n",
    "\n",
    "print(\"Accompany_Client\")\n",
    "print(x_train.Accompany_Client.unique())\n",
    "\n",
    "print(\"Client_Housing_Type\")\n",
    "print(x_train.Client_Housing_Type.unique())\n",
    "\n",
    "print(\"Cleint_City_Rating\")\n",
    "print(x_train.Cleint_City_Rating.unique())\n",
    "\n",
    "print(\"Client_Education\")\n",
    "print(x_train.Client_Education.unique())\n",
    "\n",
    "print(\"Client_Marital_Status\")\n",
    "print(x_train.Client_Marital_Status.unique())\n",
    "\n",
    "print(\"Client_Contact_Work_Tag\")\n",
    "print(x_train.Client_Contact_Work_Tag.unique())\n",
    "\n",
    "print(\"Population_Region_Relative\")\n",
    "print(x_train.Population_Region_Relative.unique())\n",
    "\n",
    "print(\"ID_Days\")\n",
    "print(x_train.ID_Days.unique())\n",
    "\n",
    "print(\"Client_Family_Members\")\n",
    "print(x_train.Client_Family_Members.unique())"
   ]
  },
  {
   "cell_type": "code",
   "execution_count": 728,
   "id": "4aba5cf8",
   "metadata": {
    "scrolled": true
   },
   "outputs": [],
   "source": [
    "Client_Education_list = ['Junior secondary','Secondary','Graduation dropout','Graduation','Post Grad']\n",
    "Client_Marital_Status_list = ['D','W','M','S']"
   ]
  },
  {
   "cell_type": "code",
   "execution_count": 729,
   "id": "9a289815",
   "metadata": {},
   "outputs": [],
   "source": [
    "ordinal_Client_Education_pipeline = Pipeline([\n",
    "    ('ordimputer', SimpleImputer(strategy = 'most_frequent')),\n",
    "    ('ordenc', OrdinalEncoder(categories = [Client_Education_list])),\n",
    "    ('ordnorm', StandardScaler())])"
   ]
  },
  {
   "cell_type": "code",
   "execution_count": 730,
   "id": "1b4876f6",
   "metadata": {},
   "outputs": [],
   "source": [
    "ordinal_Client_Marital_Status_pipeline = Pipeline([\n",
    "    ('ordimputer', SimpleImputer(strategy = 'most_frequent')),\n",
    "    ('ordenc', OrdinalEncoder(categories = [Client_Marital_Status_list])),\n",
    "    ('ordnorm', StandardScaler())])"
   ]
  },
  {
   "cell_type": "code",
   "execution_count": 731,
   "id": "b0169bae",
   "metadata": {},
   "outputs": [],
   "source": [
    "numeric_pipeline = Pipeline([\n",
    "    ('numimputer', SimpleImputer(strategy = 'mean')), \n",
    "    ('numnorm', StandardScaler())])"
   ]
  },
  {
   "cell_type": "code",
   "execution_count": 732,
   "id": "9871cedc",
   "metadata": {},
   "outputs": [],
   "source": [
    "nominal_pipeline = Pipeline([\n",
    "    ('onehotimputer', SimpleImputer(strategy = 'most_frequent')),\n",
    "    ('onehotenc', OneHotEncoder(sparse = False, drop = 'first')), \n",
    "    ('onehotnorm', MaxAbsScaler())])"
   ]
  },
  {
   "cell_type": "code",
   "execution_count": null,
   "id": "78cb105b",
   "metadata": {},
   "outputs": [],
   "source": []
  },
  {
   "cell_type": "code",
   "execution_count": null,
   "id": "62ed8c91",
   "metadata": {},
   "outputs": [],
   "source": []
  },
  {
   "cell_type": "code",
   "execution_count": null,
   "id": "c5b37e6e",
   "metadata": {},
   "outputs": [],
   "source": []
  },
  {
   "cell_type": "code",
   "execution_count": null,
   "id": "e1474b33",
   "metadata": {},
   "outputs": [],
   "source": []
  },
  {
   "cell_type": "code",
   "execution_count": 733,
   "id": "ecd8cf19",
   "metadata": {},
   "outputs": [],
   "source": [
    "num_cols = x_train.select_dtypes(['int', 'float']).columns"
   ]
  },
  {
   "cell_type": "code",
   "execution_count": 734,
   "id": "34fdf75b",
   "metadata": {
    "scrolled": true
   },
   "outputs": [
    {
     "data": {
      "text/plain": [
       "Index(['Client_Income', 'Car_Owned', 'Bike_Owned', 'Active_Loan', 'House_Own',\n",
       "       'Child_Count', 'Mobile_Tag', 'Homephone_Tag', 'Workphone_Working',\n",
       "       'Client_Family_Members', 'Cleint_City_Rating',\n",
       "       'Application_Process_Day', 'Application_Process_Hour', 'Phone_Change',\n",
       "       'Credit_Bureau'],\n",
       "      dtype='object')"
      ]
     },
     "execution_count": 734,
     "metadata": {},
     "output_type": "execute_result"
    }
   ],
   "source": [
    "num_cols"
   ]
  },
  {
   "cell_type": "code",
   "execution_count": null,
   "id": "15316e36",
   "metadata": {},
   "outputs": [],
   "source": []
  },
  {
   "cell_type": "code",
   "execution_count": 735,
   "id": "2de2bb7b",
   "metadata": {},
   "outputs": [],
   "source": [
    "ct = ColumnTransformer(\n",
    "    [ (\"ordinalpipe\", ordinal_Client_Education_pipeline, ['Client_Education']),\n",
    "       #(\"ordinalpipe2\", ordinal_Client_Marital_Status_pipeline, ['Client_Marital_Status']),\n",
    "       #(\"ordinalpipe3\", ordinal_emp_status_pipeline, ['employment_status']),\n",
    "       #(\"ordinalpipe4\", ordinal_edu_pipeline, ['education']),\n",
    "       #(\"ordinalpipe5\", ordinal_census_pipeline, ['census_msa']),\n",
    "       #(\"ordinalpipe6\", ordinal_hhs_pipeline, ['hhs_geo_region']),\n",
    "       #(\"nominalpipe\", nominal_pipeline,nom_resp_cols),\n",
    "       #(\"nominalpipe2\", nominal_insurance_pipeline,['health_insurance']),\n",
    "       #(\"nominalpipe3\", nominal_doc_rec_pipeline,['doctor_recc_h1n1']),\n",
    "       (\"numpipe\", numeric_pipeline, num_cols)])\n",
    "    \n"
   ]
  },
  {
   "cell_type": "code",
   "execution_count": 742,
   "id": "632215f8",
   "metadata": {},
   "outputs": [
    {
     "data": {
      "text/html": [
       "<div>\n",
       "<style scoped>\n",
       "    .dataframe tbody tr th:only-of-type {\n",
       "        vertical-align: middle;\n",
       "    }\n",
       "\n",
       "    .dataframe tbody tr th {\n",
       "        vertical-align: top;\n",
       "    }\n",
       "\n",
       "    .dataframe thead th {\n",
       "        text-align: right;\n",
       "    }\n",
       "</style>\n",
       "<table border=\"1\" class=\"dataframe\">\n",
       "  <thead>\n",
       "    <tr style=\"text-align: right;\">\n",
       "      <th></th>\n",
       "      <th>0</th>\n",
       "      <th>1</th>\n",
       "      <th>2</th>\n",
       "      <th>3</th>\n",
       "      <th>4</th>\n",
       "      <th>5</th>\n",
       "      <th>6</th>\n",
       "      <th>7</th>\n",
       "      <th>8</th>\n",
       "      <th>9</th>\n",
       "      <th>10</th>\n",
       "      <th>11</th>\n",
       "      <th>12</th>\n",
       "      <th>13</th>\n",
       "      <th>14</th>\n",
       "      <th>15</th>\n",
       "    </tr>\n",
       "  </thead>\n",
       "  <tbody>\n",
       "    <tr>\n",
       "      <th>0</th>\n",
       "      <td>-0.57</td>\n",
       "      <td>-0.67</td>\n",
       "      <td>-0.73</td>\n",
       "      <td>-0.72</td>\n",
       "      <td>-1.01</td>\n",
       "      <td>0.68</td>\n",
       "      <td>-0.58</td>\n",
       "      <td>0.00</td>\n",
       "      <td>-0.50</td>\n",
       "      <td>-0.63</td>\n",
       "      <td>-1.28</td>\n",
       "      <td>-0.06</td>\n",
       "      <td>-0.67</td>\n",
       "      <td>0.60</td>\n",
       "      <td>-0.47</td>\n",
       "      <td>-0.52</td>\n",
       "    </tr>\n",
       "    <tr>\n",
       "      <th>1</th>\n",
       "      <td>1.74</td>\n",
       "      <td>0.48</td>\n",
       "      <td>1.41</td>\n",
       "      <td>-0.72</td>\n",
       "      <td>-1.01</td>\n",
       "      <td>-1.53</td>\n",
       "      <td>-0.58</td>\n",
       "      <td>0.00</td>\n",
       "      <td>2.00</td>\n",
       "      <td>1.60</td>\n",
       "      <td>-1.28</td>\n",
       "      <td>-0.06</td>\n",
       "      <td>1.06</td>\n",
       "      <td>2.15</td>\n",
       "      <td>1.07</td>\n",
       "      <td>0.65</td>\n",
       "    </tr>\n",
       "    <tr>\n",
       "      <th>2</th>\n",
       "      <td>-0.57</td>\n",
       "      <td>-0.29</td>\n",
       "      <td>-0.73</td>\n",
       "      <td>-0.72</td>\n",
       "      <td>-1.01</td>\n",
       "      <td>0.68</td>\n",
       "      <td>0.82</td>\n",
       "      <td>0.00</td>\n",
       "      <td>2.00</td>\n",
       "      <td>1.60</td>\n",
       "      <td>0.94</td>\n",
       "      <td>1.94</td>\n",
       "      <td>-1.24</td>\n",
       "      <td>-2.19</td>\n",
       "      <td>-1.18</td>\n",
       "      <td>0.00</td>\n",
       "    </tr>\n",
       "    <tr>\n",
       "      <th>3</th>\n",
       "      <td>0.59</td>\n",
       "      <td>-0.02</td>\n",
       "      <td>-0.73</td>\n",
       "      <td>-0.72</td>\n",
       "      <td>-1.01</td>\n",
       "      <td>0.68</td>\n",
       "      <td>-0.58</td>\n",
       "      <td>0.00</td>\n",
       "      <td>-0.50</td>\n",
       "      <td>-0.63</td>\n",
       "      <td>-0.17</td>\n",
       "      <td>-0.06</td>\n",
       "      <td>-0.09</td>\n",
       "      <td>-0.95</td>\n",
       "      <td>2.80</td>\n",
       "      <td>0.06</td>\n",
       "    </tr>\n",
       "    <tr>\n",
       "      <th>4</th>\n",
       "      <td>-0.57</td>\n",
       "      <td>-0.56</td>\n",
       "      <td>-0.73</td>\n",
       "      <td>-0.72</td>\n",
       "      <td>-1.01</td>\n",
       "      <td>0.68</td>\n",
       "      <td>0.82</td>\n",
       "      <td>0.00</td>\n",
       "      <td>-0.50</td>\n",
       "      <td>-0.63</td>\n",
       "      <td>0.94</td>\n",
       "      <td>1.94</td>\n",
       "      <td>-1.24</td>\n",
       "      <td>-0.33</td>\n",
       "      <td>-0.92</td>\n",
       "      <td>0.00</td>\n",
       "    </tr>\n",
       "  </tbody>\n",
       "</table>\n",
       "</div>"
      ],
      "text/plain": [
       "     0     1     2     3     4     5     6    7     8     9     10    11  \\\n",
       "0 -0.57 -0.67 -0.73 -0.72 -1.01  0.68 -0.58 0.00 -0.50 -0.63 -1.28 -0.06   \n",
       "1  1.74  0.48  1.41 -0.72 -1.01 -1.53 -0.58 0.00  2.00  1.60 -1.28 -0.06   \n",
       "2 -0.57 -0.29 -0.73 -0.72 -1.01  0.68  0.82 0.00  2.00  1.60  0.94  1.94   \n",
       "3  0.59 -0.02 -0.73 -0.72 -1.01  0.68 -0.58 0.00 -0.50 -0.63 -0.17 -0.06   \n",
       "4 -0.57 -0.56 -0.73 -0.72 -1.01  0.68  0.82 0.00 -0.50 -0.63  0.94  1.94   \n",
       "\n",
       "     12    13    14    15  \n",
       "0 -0.67  0.60 -0.47 -0.52  \n",
       "1  1.06  2.15  1.07  0.65  \n",
       "2 -1.24 -2.19 -1.18  0.00  \n",
       "3 -0.09 -0.95  2.80  0.06  \n",
       "4 -1.24 -0.33 -0.92  0.00  "
      ]
     },
     "execution_count": 742,
     "metadata": {},
     "output_type": "execute_result"
    }
   ],
   "source": [
    "x_train_clean = pd.DataFrame(ct.fit_transform(x_train))\n",
    "x_train_clean.head()"
   ]
  },
  {
   "cell_type": "code",
   "execution_count": null,
   "id": "ce8d7ee0",
   "metadata": {},
   "outputs": [],
   "source": []
  },
  {
   "cell_type": "code",
   "execution_count": null,
   "id": "4aaa4e63",
   "metadata": {},
   "outputs": [],
   "source": []
  },
  {
   "cell_type": "code",
   "execution_count": null,
   "id": "f0c0a35f",
   "metadata": {},
   "outputs": [],
   "source": []
  },
  {
   "cell_type": "code",
   "execution_count": null,
   "id": "adc9bc76",
   "metadata": {},
   "outputs": [],
   "source": []
  },
  {
   "cell_type": "code",
   "execution_count": 737,
   "id": "4871ff0c",
   "metadata": {},
   "outputs": [],
   "source": [
    "#ordi =OrdinalEncoder(categories=[Client_Education_list])"
   ]
  },
  {
   "cell_type": "code",
   "execution_count": 738,
   "id": "65cb2e83",
   "metadata": {},
   "outputs": [],
   "source": [
    "#x_train['Client_Education'] = x_train['Client_Education'].fillna(value = 'Secondary')"
   ]
  },
  {
   "cell_type": "code",
   "execution_count": null,
   "id": "f63decba",
   "metadata": {},
   "outputs": [],
   "source": []
  },
  {
   "cell_type": "code",
   "execution_count": null,
   "id": "a59e05d3",
   "metadata": {},
   "outputs": [],
   "source": []
  },
  {
   "cell_type": "code",
   "execution_count": null,
   "id": "7d4eb0de",
   "metadata": {},
   "outputs": [],
   "source": []
  },
  {
   "cell_type": "code",
   "execution_count": null,
   "id": "1b1428ef",
   "metadata": {},
   "outputs": [],
   "source": []
  },
  {
   "cell_type": "code",
   "execution_count": null,
   "id": "b8033307",
   "metadata": {},
   "outputs": [],
   "source": []
  },
  {
   "cell_type": "code",
   "execution_count": 739,
   "id": "91714832",
   "metadata": {},
   "outputs": [],
   "source": [
    "#ordi.fit(x_train[['Client_Education']])"
   ]
  },
  {
   "cell_type": "code",
   "execution_count": 740,
   "id": "7f7621ab",
   "metadata": {},
   "outputs": [],
   "source": [
    "#x_train['Client_Education']"
   ]
  },
  {
   "cell_type": "code",
   "execution_count": 741,
   "id": "c030d0c5",
   "metadata": {},
   "outputs": [],
   "source": [
    "#pd.DataFrame(ordi.transform(x_train[['Client_Education']]))"
   ]
  },
  {
   "cell_type": "code",
   "execution_count": null,
   "id": "5710265b",
   "metadata": {},
   "outputs": [],
   "source": []
  },
  {
   "cell_type": "code",
   "execution_count": null,
   "id": "9b90752f",
   "metadata": {},
   "outputs": [],
   "source": []
  }
 ],
 "metadata": {
  "kernelspec": {
   "display_name": "Python 3 (ipykernel)",
   "language": "python",
   "name": "python3"
  },
  "language_info": {
   "codemirror_mode": {
    "name": "ipython",
    "version": 3
   },
   "file_extension": ".py",
   "mimetype": "text/x-python",
   "name": "python",
   "nbconvert_exporter": "python",
   "pygments_lexer": "ipython3",
   "version": "3.9.12"
  }
 },
 "nbformat": 4,
 "nbformat_minor": 5
}
