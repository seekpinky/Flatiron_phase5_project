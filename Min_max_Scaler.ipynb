{
 "cells": [
  {
   "cell_type": "code",
   "execution_count": null,
   "id": "65b16e20",
   "metadata": {},
   "outputs": [],
   "source": []
  },
  {
   "cell_type": "markdown",
   "id": "83c7603e",
   "metadata": {},
   "source": [
    "# 1.1 Introduction"
   ]
  },
  {
   "cell_type": "markdown",
   "id": "3f002695",
   "metadata": {},
   "source": [
    "# 1.2 Reference"
   ]
  },
  {
   "cell_type": "markdown",
   "id": "36222ee2",
   "metadata": {},
   "source": [
    "# 2.1 Import library and data"
   ]
  },
  {
   "cell_type": "markdown",
   "id": "e2202663",
   "metadata": {},
   "source": [
    "import libeary that is used for the analysis"
   ]
  },
  {
   "cell_type": "code",
   "execution_count": 1016,
   "id": "2c1fdc4c",
   "metadata": {},
   "outputs": [],
   "source": [
    "# data analysis and wrangling\n",
    "import pandas as pd\n",
    "from pandas import DataFrame\n",
    "import numpy as np\n",
    "import random as rnd\n",
    "import math\n",
    "import seaborn as sns\n",
    "from matplotlib import pyplot as plt\n",
    "from scipy import stats as stats\n",
    "\n",
    "# visualization\n",
    "import seaborn as sns\n",
    "sns.set_style('darkgrid')\n",
    "import matplotlib.pyplot as plt\n",
    "%matplotlib inline\n",
    "\n",
    "# scaling and train test split\n",
    "from sklearn.model_selection import train_test_split,cross_val_score\n",
    "from sklearn.preprocessing import MinMaxScaler\n",
    "\n",
    "# pipeline setup\n",
    "from sklearn.base import BaseEstimator, TransformerMixin\n",
    "from sklearn.pipeline import Pipeline\n",
    "from sklearn.impute import SimpleImputer\n",
    "from sklearn.preprocessing import LabelEncoder\n",
    "from sklearn.preprocessing import OrdinalEncoder\n",
    "from sklearn.preprocessing import OneHotEncoder\n",
    "from sklearn.preprocessing import StandardScaler\n",
    "from sklearn.preprocessing import Normalizer\n",
    "from sklearn.preprocessing import MaxAbsScaler\n",
    "from sklearn.compose import ColumnTransformer\n",
    "from sklearn.impute import KNNImputer\n",
    "from sklearn.dummy import DummyClassifier\n",
    "from sklearn.linear_model import LogisticRegression\n",
    "from sklearn.neighbors import KNeighborsClassifier\n",
    "from sklearn.tree import DecisionTreeClassifier\n",
    "from sklearn.decomposition import PCA\n",
    "# cross validation\n",
    "from sklearn.model_selection import KFold\n",
    "# Import the evaluation matrics\n",
    "from sklearn.metrics import precision_score, recall_score, accuracy_score, f1_score\n",
    "\n",
    "from sklearn.metrics import precision_score, recall_score, plot_confusion_matrix\n",
    "from sklearn.model_selection import train_test_split, GridSearchCV,\\\n",
    "cross_val_score, RandomizedSearchCV\n",
    "\n",
    "\n",
    "from sklearn.tree import DecisionTreeClassifier \n",
    "from sklearn.metrics import accuracy_score, roc_curve, auc\n",
    "from sklearn.preprocessing import OneHotEncoder\n",
    "from sklearn import tree\n",
    "\n",
    "# evaluation on test data\n",
    "from sklearn import metrics\n",
    "from sklearn.metrics import mean_squared_error,mean_absolute_error,explained_variance_score\n",
    "from sklearn.metrics import classification_report,confusion_matrix\n",
    "# import library for Gradient Boosting\n",
    "from sklearn.ensemble import AdaBoostClassifier, GradientBoostingClassifier"
   ]
  },
  {
   "cell_type": "markdown",
   "id": "29b744ff",
   "metadata": {},
   "source": [
    "Read the data into a pandas dataframe:"
   ]
  },
  {
   "cell_type": "code",
   "execution_count": 1017,
   "id": "5ad57127",
   "metadata": {},
   "outputs": [],
   "source": [
    "file_path_1 = ('\\\\Users\\\\eggfr\\\\Flatiron\\\\Flatiron_phase5_project\\\\data\\\\Auto_Train_Dataset.csv')\n",
    "file_path_2 = ('\\\\Users\\\\eggfr\\\\Flatiron\\\\Flatiron_phase5_project\\\\data\\\\Auto_Data_Dictionary.csv')"
   ]
  },
  {
   "cell_type": "code",
   "execution_count": 1018,
   "id": "d7814f4e",
   "metadata": {
    "scrolled": true
   },
   "outputs": [
    {
     "name": "stderr",
     "output_type": "stream",
     "text": [
      "C:\\Users\\eggfr\\AppData\\Local\\Temp\\ipykernel_22548\\4212711854.py:1: DtypeWarning: Columns (1,7,8,16,17,18,19,20,35) have mixed types. Specify dtype option on import or set low_memory=False.\n",
      "  autoloan_raw_df = pd.read_csv(file_path_1,encoding='unicode_escape')\n"
     ]
    },
    {
     "data": {
      "text/html": [
       "<div>\n",
       "<style scoped>\n",
       "    .dataframe tbody tr th:only-of-type {\n",
       "        vertical-align: middle;\n",
       "    }\n",
       "\n",
       "    .dataframe tbody tr th {\n",
       "        vertical-align: top;\n",
       "    }\n",
       "\n",
       "    .dataframe thead th {\n",
       "        text-align: right;\n",
       "    }\n",
       "</style>\n",
       "<table border=\"1\" class=\"dataframe\">\n",
       "  <thead>\n",
       "    <tr style=\"text-align: right;\">\n",
       "      <th></th>\n",
       "      <th>ID</th>\n",
       "      <th>Client_Income</th>\n",
       "      <th>Car_Owned</th>\n",
       "      <th>Bike_Owned</th>\n",
       "      <th>Active_Loan</th>\n",
       "      <th>House_Own</th>\n",
       "      <th>Child_Count</th>\n",
       "      <th>Credit_Amount</th>\n",
       "      <th>Loan_Annuity</th>\n",
       "      <th>Accompany_Client</th>\n",
       "      <th>...</th>\n",
       "      <th>Client_Permanent_Match_Tag</th>\n",
       "      <th>Client_Contact_Work_Tag</th>\n",
       "      <th>Type_Organization</th>\n",
       "      <th>Score_Source_1</th>\n",
       "      <th>Score_Source_2</th>\n",
       "      <th>Score_Source_3</th>\n",
       "      <th>Social_Circle_Default</th>\n",
       "      <th>Phone_Change</th>\n",
       "      <th>Credit_Bureau</th>\n",
       "      <th>Default</th>\n",
       "    </tr>\n",
       "  </thead>\n",
       "  <tbody>\n",
       "    <tr>\n",
       "      <th>0</th>\n",
       "      <td>12142509</td>\n",
       "      <td>6750</td>\n",
       "      <td>0.00</td>\n",
       "      <td>0.00</td>\n",
       "      <td>1.00</td>\n",
       "      <td>0.00</td>\n",
       "      <td>0.00</td>\n",
       "      <td>61190.55</td>\n",
       "      <td>3416.85</td>\n",
       "      <td>Alone</td>\n",
       "      <td>...</td>\n",
       "      <td>Yes</td>\n",
       "      <td>Yes</td>\n",
       "      <td>Self-employed</td>\n",
       "      <td>0.57</td>\n",
       "      <td>0.48</td>\n",
       "      <td>NaN</td>\n",
       "      <td>0.02</td>\n",
       "      <td>63.00</td>\n",
       "      <td>NaN</td>\n",
       "      <td>0</td>\n",
       "    </tr>\n",
       "    <tr>\n",
       "      <th>1</th>\n",
       "      <td>12138936</td>\n",
       "      <td>20250</td>\n",
       "      <td>1.00</td>\n",
       "      <td>0.00</td>\n",
       "      <td>1.00</td>\n",
       "      <td>NaN</td>\n",
       "      <td>0.00</td>\n",
       "      <td>15282</td>\n",
       "      <td>1826.55</td>\n",
       "      <td>Alone</td>\n",
       "      <td>...</td>\n",
       "      <td>Yes</td>\n",
       "      <td>Yes</td>\n",
       "      <td>Government</td>\n",
       "      <td>0.56</td>\n",
       "      <td>0.22</td>\n",
       "      <td>NaN</td>\n",
       "      <td>NaN</td>\n",
       "      <td>NaN</td>\n",
       "      <td>NaN</td>\n",
       "      <td>0</td>\n",
       "    </tr>\n",
       "    <tr>\n",
       "      <th>2</th>\n",
       "      <td>12181264</td>\n",
       "      <td>18000</td>\n",
       "      <td>0.00</td>\n",
       "      <td>0.00</td>\n",
       "      <td>1.00</td>\n",
       "      <td>0.00</td>\n",
       "      <td>1.00</td>\n",
       "      <td>59527.35</td>\n",
       "      <td>2788.2</td>\n",
       "      <td>Alone</td>\n",
       "      <td>...</td>\n",
       "      <td>Yes</td>\n",
       "      <td>Yes</td>\n",
       "      <td>Self-employed</td>\n",
       "      <td>NaN</td>\n",
       "      <td>0.55</td>\n",
       "      <td>0.33</td>\n",
       "      <td>0.07</td>\n",
       "      <td>277.00</td>\n",
       "      <td>0.00</td>\n",
       "      <td>0</td>\n",
       "    </tr>\n",
       "    <tr>\n",
       "      <th>3</th>\n",
       "      <td>12188929</td>\n",
       "      <td>15750</td>\n",
       "      <td>0.00</td>\n",
       "      <td>0.00</td>\n",
       "      <td>1.00</td>\n",
       "      <td>1.00</td>\n",
       "      <td>0.00</td>\n",
       "      <td>53870.4</td>\n",
       "      <td>2295.45</td>\n",
       "      <td>Alone</td>\n",
       "      <td>...</td>\n",
       "      <td>Yes</td>\n",
       "      <td>Yes</td>\n",
       "      <td>XNA</td>\n",
       "      <td>NaN</td>\n",
       "      <td>0.14</td>\n",
       "      <td>0.63</td>\n",
       "      <td>NaN</td>\n",
       "      <td>1700.00</td>\n",
       "      <td>3.00</td>\n",
       "      <td>0</td>\n",
       "    </tr>\n",
       "    <tr>\n",
       "      <th>4</th>\n",
       "      <td>12133385</td>\n",
       "      <td>33750</td>\n",
       "      <td>1.00</td>\n",
       "      <td>0.00</td>\n",
       "      <td>1.00</td>\n",
       "      <td>0.00</td>\n",
       "      <td>2.00</td>\n",
       "      <td>133988.4</td>\n",
       "      <td>3547.35</td>\n",
       "      <td>Alone</td>\n",
       "      <td>...</td>\n",
       "      <td>Yes</td>\n",
       "      <td>Yes</td>\n",
       "      <td>Business Entity Type 3</td>\n",
       "      <td>0.51</td>\n",
       "      <td>0.30</td>\n",
       "      <td>0.36</td>\n",
       "      <td>0.20</td>\n",
       "      <td>674.00</td>\n",
       "      <td>1.00</td>\n",
       "      <td>0</td>\n",
       "    </tr>\n",
       "  </tbody>\n",
       "</table>\n",
       "<p>5 rows × 40 columns</p>\n",
       "</div>"
      ],
      "text/plain": [
       "         ID Client_Income  Car_Owned  Bike_Owned  Active_Loan  House_Own  \\\n",
       "0  12142509          6750       0.00        0.00         1.00       0.00   \n",
       "1  12138936         20250       1.00        0.00         1.00        NaN   \n",
       "2  12181264         18000       0.00        0.00         1.00       0.00   \n",
       "3  12188929         15750       0.00        0.00         1.00       1.00   \n",
       "4  12133385         33750       1.00        0.00         1.00       0.00   \n",
       "\n",
       "   Child_Count Credit_Amount Loan_Annuity Accompany_Client  ...  \\\n",
       "0         0.00      61190.55      3416.85            Alone  ...   \n",
       "1         0.00         15282      1826.55            Alone  ...   \n",
       "2         1.00      59527.35       2788.2            Alone  ...   \n",
       "3         0.00       53870.4      2295.45            Alone  ...   \n",
       "4         2.00      133988.4      3547.35            Alone  ...   \n",
       "\n",
       "  Client_Permanent_Match_Tag Client_Contact_Work_Tag       Type_Organization  \\\n",
       "0                        Yes                     Yes           Self-employed   \n",
       "1                        Yes                     Yes              Government   \n",
       "2                        Yes                     Yes           Self-employed   \n",
       "3                        Yes                     Yes                     XNA   \n",
       "4                        Yes                     Yes  Business Entity Type 3   \n",
       "\n",
       "  Score_Source_1 Score_Source_2 Score_Source_3 Social_Circle_Default  \\\n",
       "0           0.57           0.48            NaN                  0.02   \n",
       "1           0.56           0.22            NaN                   NaN   \n",
       "2            NaN           0.55           0.33                  0.07   \n",
       "3            NaN           0.14           0.63                   NaN   \n",
       "4           0.51           0.30           0.36                  0.20   \n",
       "\n",
       "  Phone_Change Credit_Bureau Default  \n",
       "0        63.00           NaN       0  \n",
       "1          NaN           NaN       0  \n",
       "2       277.00          0.00       0  \n",
       "3      1700.00          3.00       0  \n",
       "4       674.00          1.00       0  \n",
       "\n",
       "[5 rows x 40 columns]"
      ]
     },
     "execution_count": 1018,
     "metadata": {},
     "output_type": "execute_result"
    }
   ],
   "source": [
    "autoloan_raw_df = pd.read_csv(file_path_1,encoding='unicode_escape') \n",
    "autoloan_raw_df.head()"
   ]
  },
  {
   "cell_type": "markdown",
   "id": "1c916028",
   "metadata": {},
   "source": [
    "There are 121856 rows and 40 variables in this dataset."
   ]
  },
  {
   "cell_type": "code",
   "execution_count": 1019,
   "id": "5f8b4cca",
   "metadata": {
    "scrolled": true
   },
   "outputs": [
    {
     "name": "stdout",
     "output_type": "stream",
     "text": [
      "<class 'pandas.core.frame.DataFrame'>\n",
      "RangeIndex: 121856 entries, 0 to 121855\n",
      "Data columns (total 40 columns):\n",
      " #   Column                      Non-Null Count   Dtype  \n",
      "---  ------                      --------------   -----  \n",
      " 0   ID                          121856 non-null  int64  \n",
      " 1   Client_Income               118249 non-null  object \n",
      " 2   Car_Owned                   118275 non-null  float64\n",
      " 3   Bike_Owned                  118232 non-null  float64\n",
      " 4   Active_Loan                 118221 non-null  float64\n",
      " 5   House_Own                   118195 non-null  float64\n",
      " 6   Child_Count                 118218 non-null  float64\n",
      " 7   Credit_Amount               118224 non-null  object \n",
      " 8   Loan_Annuity                117044 non-null  object \n",
      " 9   Accompany_Client            120110 non-null  object \n",
      " 10  Client_Income_Type          118155 non-null  object \n",
      " 11  Client_Education            118211 non-null  object \n",
      " 12  Client_Marital_Status       118383 non-null  object \n",
      " 13  Client_Gender               119443 non-null  object \n",
      " 14  Loan_Contract_Type          118205 non-null  object \n",
      " 15  Client_Housing_Type         118169 non-null  object \n",
      " 16  Population_Region_Relative  116999 non-null  object \n",
      " 17  Age_Days                    118256 non-null  object \n",
      " 18  Employed_Days               118207 non-null  object \n",
      " 19  Registration_Days           118242 non-null  object \n",
      " 20  ID_Days                     115888 non-null  object \n",
      " 21  Own_House_Age               41761 non-null   float64\n",
      " 22  Mobile_Tag                  121856 non-null  int64  \n",
      " 23  Homephone_Tag               121856 non-null  int64  \n",
      " 24  Workphone_Working           121856 non-null  int64  \n",
      " 25  Client_Occupation           80421 non-null   object \n",
      " 26  Client_Family_Members       119446 non-null  float64\n",
      " 27  Cleint_City_Rating          119447 non-null  float64\n",
      " 28  Application_Process_Day     119428 non-null  float64\n",
      " 29  Application_Process_Hour    118193 non-null  float64\n",
      " 30  Client_Permanent_Match_Tag  121856 non-null  object \n",
      " 31  Client_Contact_Work_Tag     121856 non-null  object \n",
      " 32  Type_Organization           118247 non-null  object \n",
      " 33  Score_Source_1              53021 non-null   float64\n",
      " 34  Score_Source_2              116170 non-null  float64\n",
      " 35  Score_Source_3              94935 non-null   object \n",
      " 36  Social_Circle_Default       59928 non-null   float64\n",
      " 37  Phone_Change                118192 non-null  float64\n",
      " 38  Credit_Bureau               103316 non-null  float64\n",
      " 39  Default                     121856 non-null  int64  \n",
      "dtypes: float64(15), int64(5), object(20)\n",
      "memory usage: 37.2+ MB\n"
     ]
    }
   ],
   "source": [
    "autoloan_raw_df.info()"
   ]
  },
  {
   "cell_type": "code",
   "execution_count": 1020,
   "id": "3756e770",
   "metadata": {},
   "outputs": [],
   "source": [
    "autoloan_raw_df['Client_Income'] = pd.to_numeric(autoloan_raw_df['Client_Income'], errors='coerce')\n",
    "autoloan_raw_df['Credit_Amount'] = pd.to_numeric(autoloan_raw_df['Credit_Amount'], errors='coerce')\n",
    "autoloan_raw_df['Loan_Annuity'] = pd.to_numeric(autoloan_raw_df['Loan_Annuity'], errors='coerce')\n",
    "autoloan_raw_df['Age_Days'] = pd.to_numeric(autoloan_raw_df['Age_Days'], errors='coerce')\n",
    "autoloan_raw_df['Employed_Days'] = pd.to_numeric(autoloan_raw_df['Employed_Days'], errors='coerce')\n",
    "autoloan_raw_df['Registration_Days'] = pd.to_numeric(autoloan_raw_df['Registration_Days'], errors='coerce')\n",
    "autoloan_raw_df['ID_Days'] = pd.to_numeric(autoloan_raw_df['ID_Days'], errors='coerce')\n",
    "#autoloan_raw_df[] = autoloan_raw_df[].astype()\n",
    "#autoloan_raw_df[] = autoloan_raw_df[].astype()\n",
    "#autoloan_raw_df[] = autoloan_raw_df[].astype()\n",
    "#autoloan_raw_df[] = autoloan_raw_df[].astype()\n",
    "#autoloan_raw_df[] = autoloan_raw_df[].astype()"
   ]
  },
  {
   "cell_type": "code",
   "execution_count": 1021,
   "id": "0d5e2d09",
   "metadata": {
    "scrolled": true
   },
   "outputs": [
    {
     "name": "stdout",
     "output_type": "stream",
     "text": [
      "<class 'pandas.core.frame.DataFrame'>\n",
      "RangeIndex: 121856 entries, 0 to 121855\n",
      "Data columns (total 40 columns):\n",
      " #   Column                      Non-Null Count   Dtype  \n",
      "---  ------                      --------------   -----  \n",
      " 0   ID                          121856 non-null  int64  \n",
      " 1   Client_Income               118234 non-null  float64\n",
      " 2   Car_Owned                   118275 non-null  float64\n",
      " 3   Bike_Owned                  118232 non-null  float64\n",
      " 4   Active_Loan                 118221 non-null  float64\n",
      " 5   House_Own                   118195 non-null  float64\n",
      " 6   Child_Count                 118218 non-null  float64\n",
      " 7   Credit_Amount               118219 non-null  float64\n",
      " 8   Loan_Annuity                117030 non-null  float64\n",
      " 9   Accompany_Client            120110 non-null  object \n",
      " 10  Client_Income_Type          118155 non-null  object \n",
      " 11  Client_Education            118211 non-null  object \n",
      " 12  Client_Marital_Status       118383 non-null  object \n",
      " 13  Client_Gender               119443 non-null  object \n",
      " 14  Loan_Contract_Type          118205 non-null  object \n",
      " 15  Client_Housing_Type         118169 non-null  object \n",
      " 16  Population_Region_Relative  116999 non-null  object \n",
      " 17  Age_Days                    118239 non-null  float64\n",
      " 18  Employed_Days               118190 non-null  float64\n",
      " 19  Registration_Days           118225 non-null  float64\n",
      " 20  ID_Days                     115871 non-null  float64\n",
      " 21  Own_House_Age               41761 non-null   float64\n",
      " 22  Mobile_Tag                  121856 non-null  int64  \n",
      " 23  Homephone_Tag               121856 non-null  int64  \n",
      " 24  Workphone_Working           121856 non-null  int64  \n",
      " 25  Client_Occupation           80421 non-null   object \n",
      " 26  Client_Family_Members       119446 non-null  float64\n",
      " 27  Cleint_City_Rating          119447 non-null  float64\n",
      " 28  Application_Process_Day     119428 non-null  float64\n",
      " 29  Application_Process_Hour    118193 non-null  float64\n",
      " 30  Client_Permanent_Match_Tag  121856 non-null  object \n",
      " 31  Client_Contact_Work_Tag     121856 non-null  object \n",
      " 32  Type_Organization           118247 non-null  object \n",
      " 33  Score_Source_1              53021 non-null   float64\n",
      " 34  Score_Source_2              116170 non-null  float64\n",
      " 35  Score_Source_3              94935 non-null   object \n",
      " 36  Social_Circle_Default       59928 non-null   float64\n",
      " 37  Phone_Change                118192 non-null  float64\n",
      " 38  Credit_Bureau               103316 non-null  float64\n",
      " 39  Default                     121856 non-null  int64  \n",
      "dtypes: float64(22), int64(5), object(13)\n",
      "memory usage: 37.2+ MB\n"
     ]
    }
   ],
   "source": [
    "autoloan_raw_df.info()"
   ]
  },
  {
   "cell_type": "markdown",
   "id": "2c8650bc",
   "metadata": {
    "scrolled": false
   },
   "source": [
    "autoloan_raw_df.isna().sum()"
   ]
  },
  {
   "cell_type": "markdown",
   "id": "3013f204",
   "metadata": {},
   "source": [
    "# 2.2 Data Undestanding and Identifying Features and Target"
   ]
  },
  {
   "cell_type": "markdown",
   "id": "ee970058",
   "metadata": {},
   "source": [
    "Once the data is loaded into a pandas dataframe, the next step is identifying which columns represent features and which column represents the target. In this project, we are going to focus on classifying whether loans is defaulted using data collected from a project competition in Hackathon platform via kaggle, which can be found from this link.\n",
    "https://www.kaggle.com/datasets/saurabhbagchi/dish-network-hackathon?select=Test_Dataset.csv\n",
    "\n",
    "The page provides two datasets, TrainDataset and TestDataset. This model building is to be done on TrainDataset. Testdataset from the link isnt used as ['Default'] data is missing. \n",
    "\n",
    "In the test_train split section, we are going to assign X to be the features and y to be the target, which is the ['Default'] variable. Also, this is an  inbalanced dataset, around 8% loans is defaulted. \n",
    "\n",
    "There is 121856 total rows of data. There is 39 columns of features. The first column respondent_id is a unique and random identifier. The remaining 38 features are described in the data library desceiption. \n",
    "\n",
    "Amount of loan that is defaulted is shown below.\n"
   ]
  },
  {
   "cell_type": "code",
   "execution_count": 1022,
   "id": "f6474d66",
   "metadata": {},
   "outputs": [
    {
     "data": {
      "text/plain": [
       "0   0.92\n",
       "1   0.08\n",
       "Name: Default, dtype: float64"
      ]
     },
     "execution_count": 1022,
     "metadata": {},
     "output_type": "execute_result"
    }
   ],
   "source": [
    "autoloan_raw_df['Default'].value_counts(normalize=True)"
   ]
  },
  {
   "cell_type": "code",
   "execution_count": 1023,
   "id": "ca2da8e8",
   "metadata": {},
   "outputs": [],
   "source": [
    "autoloan_lib_raw_df = pd.read_csv(file_path_2,encoding='unicode_escape') \n"
   ]
  },
  {
   "cell_type": "markdown",
   "id": "dec5b0c3",
   "metadata": {},
   "source": [
    "Data library description is shown as below."
   ]
  },
  {
   "cell_type": "code",
   "execution_count": 1024,
   "id": "080b01ee",
   "metadata": {
    "scrolled": false
   },
   "outputs": [
    {
     "data": {
      "text/html": [
       "<style type=\"text/css\">\n",
       "#T_0e615 th {\n",
       "  text-align: left;\n",
       "}\n",
       "#T_0e615_row0_col0, #T_0e615_row0_col1, #T_0e615_row1_col0, #T_0e615_row1_col1, #T_0e615_row2_col0, #T_0e615_row2_col1, #T_0e615_row3_col0, #T_0e615_row3_col1, #T_0e615_row4_col0, #T_0e615_row4_col1, #T_0e615_row5_col0, #T_0e615_row5_col1, #T_0e615_row6_col0, #T_0e615_row6_col1, #T_0e615_row7_col0, #T_0e615_row7_col1, #T_0e615_row8_col0, #T_0e615_row8_col1, #T_0e615_row9_col0, #T_0e615_row9_col1, #T_0e615_row10_col0, #T_0e615_row10_col1, #T_0e615_row11_col0, #T_0e615_row11_col1, #T_0e615_row12_col0, #T_0e615_row12_col1, #T_0e615_row13_col0, #T_0e615_row13_col1, #T_0e615_row14_col0, #T_0e615_row14_col1, #T_0e615_row15_col0, #T_0e615_row15_col1, #T_0e615_row16_col0, #T_0e615_row16_col1, #T_0e615_row17_col0, #T_0e615_row17_col1, #T_0e615_row18_col0, #T_0e615_row18_col1, #T_0e615_row19_col0, #T_0e615_row19_col1, #T_0e615_row20_col0, #T_0e615_row20_col1, #T_0e615_row21_col0, #T_0e615_row21_col1, #T_0e615_row22_col0, #T_0e615_row22_col1, #T_0e615_row23_col0, #T_0e615_row23_col1, #T_0e615_row24_col0, #T_0e615_row24_col1, #T_0e615_row25_col0, #T_0e615_row25_col1, #T_0e615_row26_col0, #T_0e615_row26_col1, #T_0e615_row27_col0, #T_0e615_row27_col1, #T_0e615_row28_col0, #T_0e615_row28_col1, #T_0e615_row29_col0, #T_0e615_row29_col1, #T_0e615_row30_col0, #T_0e615_row30_col1, #T_0e615_row31_col0, #T_0e615_row31_col1, #T_0e615_row32_col0, #T_0e615_row32_col1, #T_0e615_row33_col0, #T_0e615_row33_col1, #T_0e615_row34_col0, #T_0e615_row34_col1, #T_0e615_row35_col0, #T_0e615_row35_col1, #T_0e615_row36_col0, #T_0e615_row36_col1, #T_0e615_row37_col0, #T_0e615_row37_col1, #T_0e615_row38_col0, #T_0e615_row38_col1, #T_0e615_row39_col0, #T_0e615_row39_col1 {\n",
       "  text-align: left;\n",
       "}\n",
       "</style>\n",
       "<table id=\"T_0e615\">\n",
       "  <thead>\n",
       "    <tr>\n",
       "      <th class=\"blank level0\" >&nbsp;</th>\n",
       "      <th id=\"T_0e615_level0_col0\" class=\"col_heading level0 col0\" >Variable</th>\n",
       "      <th id=\"T_0e615_level0_col1\" class=\"col_heading level0 col1\" >Description</th>\n",
       "    </tr>\n",
       "  </thead>\n",
       "  <tbody>\n",
       "    <tr>\n",
       "      <th id=\"T_0e615_level0_row0\" class=\"row_heading level0 row0\" >0</th>\n",
       "      <td id=\"T_0e615_row0_col0\" class=\"data row0 col0\" >ID</td>\n",
       "      <td id=\"T_0e615_row0_col1\" class=\"data row0 col1\" >Client Loan application ID</td>\n",
       "    </tr>\n",
       "    <tr>\n",
       "      <th id=\"T_0e615_level0_row1\" class=\"row_heading level0 row1\" >1</th>\n",
       "      <td id=\"T_0e615_row1_col0\" class=\"data row1 col0\" >Client_Income</td>\n",
       "      <td id=\"T_0e615_row1_col1\" class=\"data row1 col1\" >Client Income in $</td>\n",
       "    </tr>\n",
       "    <tr>\n",
       "      <th id=\"T_0e615_level0_row2\" class=\"row_heading level0 row2\" >2</th>\n",
       "      <td id=\"T_0e615_row2_col0\" class=\"data row2 col0\" >Car_Owned</td>\n",
       "      <td id=\"T_0e615_row2_col1\" class=\"data row2 col1\" >Any Car owned by client before applying for the loan for another car (0 means No and 1 means otherwise)</td>\n",
       "    </tr>\n",
       "    <tr>\n",
       "      <th id=\"T_0e615_level0_row3\" class=\"row_heading level0 row3\" >3</th>\n",
       "      <td id=\"T_0e615_row3_col0\" class=\"data row3 col0\" >Bike_Owned</td>\n",
       "      <td id=\"T_0e615_row3_col1\" class=\"data row3 col1\" >Any bike owned by client (0 means No and 1 means otherwise)</td>\n",
       "    </tr>\n",
       "    <tr>\n",
       "      <th id=\"T_0e615_level0_row4\" class=\"row_heading level0 row4\" >4</th>\n",
       "      <td id=\"T_0e615_row4_col0\" class=\"data row4 col0\" >Active_Loan</td>\n",
       "      <td id=\"T_0e615_row4_col1\" class=\"data row4 col1\" >Any other active loan at the time of aplication of loan (0 means No and 1 means otherwise)</td>\n",
       "    </tr>\n",
       "    <tr>\n",
       "      <th id=\"T_0e615_level0_row5\" class=\"row_heading level0 row5\" >5</th>\n",
       "      <td id=\"T_0e615_row5_col0\" class=\"data row5 col0\" >House_Own</td>\n",
       "      <td id=\"T_0e615_row5_col1\" class=\"data row5 col1\" >Any house owned by client (0 means No and 1 means otherwise)</td>\n",
       "    </tr>\n",
       "    <tr>\n",
       "      <th id=\"T_0e615_level0_row6\" class=\"row_heading level0 row6\" >6</th>\n",
       "      <td id=\"T_0e615_row6_col0\" class=\"data row6 col0\" >Child_Count</td>\n",
       "      <td id=\"T_0e615_row6_col1\" class=\"data row6 col1\" >Number of children the client has</td>\n",
       "    </tr>\n",
       "    <tr>\n",
       "      <th id=\"T_0e615_level0_row7\" class=\"row_heading level0 row7\" >7</th>\n",
       "      <td id=\"T_0e615_row7_col0\" class=\"data row7 col0\" >Credit_Amount</td>\n",
       "      <td id=\"T_0e615_row7_col1\" class=\"data row7 col1\" >Credit amount of the loan in $</td>\n",
       "    </tr>\n",
       "    <tr>\n",
       "      <th id=\"T_0e615_level0_row8\" class=\"row_heading level0 row8\" >8</th>\n",
       "      <td id=\"T_0e615_row8_col0\" class=\"data row8 col0\" >Loan_Annuity</td>\n",
       "      <td id=\"T_0e615_row8_col1\" class=\"data row8 col1\" >Loan annuity in $</td>\n",
       "    </tr>\n",
       "    <tr>\n",
       "      <th id=\"T_0e615_level0_row9\" class=\"row_heading level0 row9\" >9</th>\n",
       "      <td id=\"T_0e615_row9_col0\" class=\"data row9 col0\" >Accompany_Client</td>\n",
       "      <td id=\"T_0e615_row9_col1\" class=\"data row9 col1\" >Who accompanied the client when client applied for the loan</td>\n",
       "    </tr>\n",
       "    <tr>\n",
       "      <th id=\"T_0e615_level0_row10\" class=\"row_heading level0 row10\" >10</th>\n",
       "      <td id=\"T_0e615_row10_col0\" class=\"data row10 col0\" >Client_Income_Type</td>\n",
       "      <td id=\"T_0e615_row10_col1\" class=\"data row10 col1\" >Clients income type</td>\n",
       "    </tr>\n",
       "    <tr>\n",
       "      <th id=\"T_0e615_level0_row11\" class=\"row_heading level0 row11\" >11</th>\n",
       "      <td id=\"T_0e615_row11_col0\" class=\"data row11 col0\" >Client_Education</td>\n",
       "      <td id=\"T_0e615_row11_col1\" class=\"data row11 col1\" >Highest level of education ahieved by client</td>\n",
       "    </tr>\n",
       "    <tr>\n",
       "      <th id=\"T_0e615_level0_row12\" class=\"row_heading level0 row12\" >12</th>\n",
       "      <td id=\"T_0e615_row12_col0\" class=\"data row12 col0\" >Client_Marital_Status</td>\n",
       "      <td id=\"T_0e615_row12_col1\" class=\"data row12 col1\" >Marital status of client (D- Divorced, S- Single, M- Married, W- Widowed)</td>\n",
       "    </tr>\n",
       "    <tr>\n",
       "      <th id=\"T_0e615_level0_row13\" class=\"row_heading level0 row13\" >13</th>\n",
       "      <td id=\"T_0e615_row13_col0\" class=\"data row13 col0\" >Client_Gender</td>\n",
       "      <td id=\"T_0e615_row13_col1\" class=\"data row13 col1\" >Gender of the Client</td>\n",
       "    </tr>\n",
       "    <tr>\n",
       "      <th id=\"T_0e615_level0_row14\" class=\"row_heading level0 row14\" >14</th>\n",
       "      <td id=\"T_0e615_row14_col0\" class=\"data row14 col0\" >Loan_Contract_Type</td>\n",
       "      <td id=\"T_0e615_row14_col1\" class=\"data row14 col1\" >Loan Type (CL- Cash Loan, RL- Revolving Loan)</td>\n",
       "    </tr>\n",
       "    <tr>\n",
       "      <th id=\"T_0e615_level0_row15\" class=\"row_heading level0 row15\" >15</th>\n",
       "      <td id=\"T_0e615_row15_col0\" class=\"data row15 col0\" >Client_Housing_Type</td>\n",
       "      <td id=\"T_0e615_row15_col1\" class=\"data row15 col1\" >Client Housing situation</td>\n",
       "    </tr>\n",
       "    <tr>\n",
       "      <th id=\"T_0e615_level0_row16\" class=\"row_heading level0 row16\" >16</th>\n",
       "      <td id=\"T_0e615_row16_col0\" class=\"data row16 col0\" >Population_Region_Relative</td>\n",
       "      <td id=\"T_0e615_row16_col1\" class=\"data row16 col1\" >Relative population of the region where the client is living. Higher value means the client is living in more populated area</td>\n",
       "    </tr>\n",
       "    <tr>\n",
       "      <th id=\"T_0e615_level0_row17\" class=\"row_heading level0 row17\" >17</th>\n",
       "      <td id=\"T_0e615_row17_col0\" class=\"data row17 col0\" >Age_Days</td>\n",
       "      <td id=\"T_0e615_row17_col1\" class=\"data row17 col1\" >Age of the client at the time of application submission</td>\n",
       "    </tr>\n",
       "    <tr>\n",
       "      <th id=\"T_0e615_level0_row18\" class=\"row_heading level0 row18\" >18</th>\n",
       "      <td id=\"T_0e615_row18_col0\" class=\"data row18 col0\" >Employed_Days</td>\n",
       "      <td id=\"T_0e615_row18_col1\" class=\"data row18 col1\" >Days before the application, the client started earning</td>\n",
       "    </tr>\n",
       "    <tr>\n",
       "      <th id=\"T_0e615_level0_row19\" class=\"row_heading level0 row19\" >19</th>\n",
       "      <td id=\"T_0e615_row19_col0\" class=\"data row19 col0\" >Registration_Days</td>\n",
       "      <td id=\"T_0e615_row19_col1\" class=\"data row19 col1\" >Days before the loan application, the client changed his/her registration</td>\n",
       "    </tr>\n",
       "    <tr>\n",
       "      <th id=\"T_0e615_level0_row20\" class=\"row_heading level0 row20\" >20</th>\n",
       "      <td id=\"T_0e615_row20_col0\" class=\"data row20 col0\" >ID_Days</td>\n",
       "      <td id=\"T_0e615_row20_col1\" class=\"data row20 col1\" >Days before the loan application, the client changed his/her identity document with which the loan was applied</td>\n",
       "    </tr>\n",
       "    <tr>\n",
       "      <th id=\"T_0e615_level0_row21\" class=\"row_heading level0 row21\" >21</th>\n",
       "      <td id=\"T_0e615_row21_col0\" class=\"data row21 col0\" >Own_House_Age</td>\n",
       "      <td id=\"T_0e615_row21_col1\" class=\"data row21 col1\" >Age of Client's house in years</td>\n",
       "    </tr>\n",
       "    <tr>\n",
       "      <th id=\"T_0e615_level0_row22\" class=\"row_heading level0 row22\" >22</th>\n",
       "      <td id=\"T_0e615_row22_col0\" class=\"data row22 col0\" >Mobile_Tag</td>\n",
       "      <td id=\"T_0e615_row22_col1\" class=\"data row22 col1\" >Mobile Number provided by Client (1 means Yes and 0 means No)</td>\n",
       "    </tr>\n",
       "    <tr>\n",
       "      <th id=\"T_0e615_level0_row23\" class=\"row_heading level0 row23\" >23</th>\n",
       "      <td id=\"T_0e615_row23_col0\" class=\"data row23 col0\" >Homephone_Tag</td>\n",
       "      <td id=\"T_0e615_row23_col1\" class=\"data row23 col1\" >Homephone Number provided by Client (1 means Yes and 0 means No)</td>\n",
       "    </tr>\n",
       "    <tr>\n",
       "      <th id=\"T_0e615_level0_row24\" class=\"row_heading level0 row24\" >24</th>\n",
       "      <td id=\"T_0e615_row24_col0\" class=\"data row24 col0\" >Workphone_Working</td>\n",
       "      <td id=\"T_0e615_row24_col1\" class=\"data row24 col1\" >Was workphone number reachable (1 means Yes and 0 means No)</td>\n",
       "    </tr>\n",
       "    <tr>\n",
       "      <th id=\"T_0e615_level0_row25\" class=\"row_heading level0 row25\" >25</th>\n",
       "      <td id=\"T_0e615_row25_col0\" class=\"data row25 col0\" >Client_Occupation</td>\n",
       "      <td id=\"T_0e615_row25_col1\" class=\"data row25 col1\" >Client Occupation type</td>\n",
       "    </tr>\n",
       "    <tr>\n",
       "      <th id=\"T_0e615_level0_row26\" class=\"row_heading level0 row26\" >26</th>\n",
       "      <td id=\"T_0e615_row26_col0\" class=\"data row26 col0\" >Client_Family_Members</td>\n",
       "      <td id=\"T_0e615_row26_col1\" class=\"data row26 col1\" >Number of family members does client have</td>\n",
       "    </tr>\n",
       "    <tr>\n",
       "      <th id=\"T_0e615_level0_row27\" class=\"row_heading level0 row27\" >27</th>\n",
       "      <td id=\"T_0e615_row27_col0\" class=\"data row27 col0\" >Cleint_City_Rating</td>\n",
       "      <td id=\"T_0e615_row27_col1\" class=\"data row27 col1\" >Client city rating. 3 denotes best and 2 denotes good and 1 denotes average</td>\n",
       "    </tr>\n",
       "    <tr>\n",
       "      <th id=\"T_0e615_level0_row28\" class=\"row_heading level0 row28\" >28</th>\n",
       "      <td id=\"T_0e615_row28_col0\" class=\"data row28 col0\" >Application_Process_Day</td>\n",
       "      <td id=\"T_0e615_row28_col1\" class=\"data row28 col1\" >Day of the week on which client applied for the loan (0-Sun, 1-Mon,2-Tues, 3-Wed, 4-Thrus,5-Fri, 6-Sat)</td>\n",
       "    </tr>\n",
       "    <tr>\n",
       "      <th id=\"T_0e615_level0_row29\" class=\"row_heading level0 row29\" >29</th>\n",
       "      <td id=\"T_0e615_row29_col0\" class=\"data row29 col0\" >Application_Process_Hour</td>\n",
       "      <td id=\"T_0e615_row29_col1\" class=\"data row29 col1\" >hour of the day on which client applied for the loan</td>\n",
       "    </tr>\n",
       "    <tr>\n",
       "      <th id=\"T_0e615_level0_row30\" class=\"row_heading level0 row30\" >30</th>\n",
       "      <td id=\"T_0e615_row30_col0\" class=\"data row30 col0\" >Client_Permanent_Match_Tag</td>\n",
       "      <td id=\"T_0e615_row30_col1\" class=\"data row30 col1\" >Indication if client contact address does not match permanent address.</td>\n",
       "    </tr>\n",
       "    <tr>\n",
       "      <th id=\"T_0e615_level0_row31\" class=\"row_heading level0 row31\" >31</th>\n",
       "      <td id=\"T_0e615_row31_col0\" class=\"data row31 col0\" >Client_Contact_Work_Tag</td>\n",
       "      <td id=\"T_0e615_row31_col1\" class=\"data row31 col1\" >Indication if client work address does not match contact address.</td>\n",
       "    </tr>\n",
       "    <tr>\n",
       "      <th id=\"T_0e615_level0_row32\" class=\"row_heading level0 row32\" >32</th>\n",
       "      <td id=\"T_0e615_row32_col0\" class=\"data row32 col0\" >Type_Organization</td>\n",
       "      <td id=\"T_0e615_row32_col1\" class=\"data row32 col1\" >Type of organization where client works</td>\n",
       "    </tr>\n",
       "    <tr>\n",
       "      <th id=\"T_0e615_level0_row33\" class=\"row_heading level0 row33\" >33</th>\n",
       "      <td id=\"T_0e615_row33_col0\" class=\"data row33 col0\" >Score_Source_1</td>\n",
       "      <td id=\"T_0e615_row33_col1\" class=\"data row33 col1\" >Score sourced from other source. This is a normalzied socre</td>\n",
       "    </tr>\n",
       "    <tr>\n",
       "      <th id=\"T_0e615_level0_row34\" class=\"row_heading level0 row34\" >34</th>\n",
       "      <td id=\"T_0e615_row34_col0\" class=\"data row34 col0\" >Score_Source_2</td>\n",
       "      <td id=\"T_0e615_row34_col1\" class=\"data row34 col1\" >Score sourced from other source. This is a normalzied socre</td>\n",
       "    </tr>\n",
       "    <tr>\n",
       "      <th id=\"T_0e615_level0_row35\" class=\"row_heading level0 row35\" >35</th>\n",
       "      <td id=\"T_0e615_row35_col0\" class=\"data row35 col0\" >Score_Source_3</td>\n",
       "      <td id=\"T_0e615_row35_col1\" class=\"data row35 col1\" >Score sourced from other source. This is a normalzied socre</td>\n",
       "    </tr>\n",
       "    <tr>\n",
       "      <th id=\"T_0e615_level0_row36\" class=\"row_heading level0 row36\" >36</th>\n",
       "      <td id=\"T_0e615_row36_col0\" class=\"data row36 col0\" >Social_Circle_Default</td>\n",
       "      <td id=\"T_0e615_row36_col1\" class=\"data row36 col1\" >How many friends/family member of client defaulted on any loan payment in last 60 days</td>\n",
       "    </tr>\n",
       "    <tr>\n",
       "      <th id=\"T_0e615_level0_row37\" class=\"row_heading level0 row37\" >37</th>\n",
       "      <td id=\"T_0e615_row37_col0\" class=\"data row37 col0\" >Phone_Change</td>\n",
       "      <td id=\"T_0e615_row37_col1\" class=\"data row37 col1\" >How many days before the loan application, client changed his/her phone</td>\n",
       "    </tr>\n",
       "    <tr>\n",
       "      <th id=\"T_0e615_level0_row38\" class=\"row_heading level0 row38\" >38</th>\n",
       "      <td id=\"T_0e615_row38_col0\" class=\"data row38 col0\" >Credit_Bureau</td>\n",
       "      <td id=\"T_0e615_row38_col1\" class=\"data row38 col1\" >Total number of enquiries in last year</td>\n",
       "    </tr>\n",
       "    <tr>\n",
       "      <th id=\"T_0e615_level0_row39\" class=\"row_heading level0 row39\" >39</th>\n",
       "      <td id=\"T_0e615_row39_col0\" class=\"data row39 col0\" >Default</td>\n",
       "      <td id=\"T_0e615_row39_col1\" class=\"data row39 col1\" >1 means the client defaulted on loan payments and 0 means otherwise</td>\n",
       "    </tr>\n",
       "  </tbody>\n",
       "</table>\n"
      ],
      "text/plain": [
       "<pandas.io.formats.style.Styler at 0x209ec0b45e0>"
      ]
     },
     "execution_count": 1024,
     "metadata": {},
     "output_type": "execute_result"
    }
   ],
   "source": [
    "# let's take a look of the meaning of each columns\n",
    "def left_align(df: DataFrame):\n",
    "    left_aligned_df = df.style.set_properties(**{'text-align': 'left'})\n",
    "    left_aligned_df = left_aligned_df.set_table_styles(\n",
    "        [dict(selector='th', props=[('text-align', 'left')])]\n",
    "    )\n",
    "    return left_aligned_df\n",
    "left_align(autoloan_lib_raw_df)"
   ]
  },
  {
   "cell_type": "code",
   "execution_count": null,
   "id": "03060b8a",
   "metadata": {},
   "outputs": [],
   "source": []
  },
  {
   "cell_type": "markdown",
   "id": "2e09b6e8",
   "metadata": {},
   "source": [
    "# Initial Data Processing"
   ]
  },
  {
   "cell_type": "markdown",
   "id": "4f12fd15",
   "metadata": {},
   "source": [
    "Let's drop some unused feature. ID isnt going to be useful for the analysis. Own_house_Age, Social_Circle_Default','Score_Source_1','Score_Source_3' miss too many data, so they are going to be dropped. Type_Organization and Client_Income_Type has the same categories, and should be similar. We are going to drop Type_Organization to save computational power."
   ]
  },
  {
   "cell_type": "code",
   "execution_count": 1025,
   "id": "4c41cdda",
   "metadata": {},
   "outputs": [],
   "source": [
    "autoloan_raw_df = autoloan_raw_df.drop(columns=['ID','Own_House_Age','Social_Circle_Default','Score_Source_1','Score_Source_2','Score_Source_3','Type_Organization'], axis=1)"
   ]
  },
  {
   "cell_type": "markdown",
   "id": "34c5d58f",
   "metadata": {},
   "source": [
    "Datatype changing"
   ]
  },
  {
   "cell_type": "markdown",
   "id": "5aca3d48",
   "metadata": {},
   "source": [
    "Convert the following variabrles into numerical vairables. They are in object datatype because of missing value. Changing them into numerical form makes it easy to build the pipeline later, "
   ]
  },
  {
   "cell_type": "code",
   "execution_count": 1026,
   "id": "35870944",
   "metadata": {},
   "outputs": [],
   "source": [
    "autoloan_raw_df['Client_Income'] = pd.to_numeric(autoloan_raw_df['Client_Income'], errors='coerce')\n",
    "autoloan_raw_df['Credit_Amount'] = pd.to_numeric(autoloan_raw_df['Credit_Amount'], errors='coerce')\n",
    "autoloan_raw_df['Loan_Annuity'] = pd.to_numeric(autoloan_raw_df['Loan_Annuity'], errors='coerce')\n",
    "autoloan_raw_df['Age_Days'] = pd.to_numeric(autoloan_raw_df['Age_Days'], errors='coerce')\n",
    "autoloan_raw_df['Employed_Days'] = pd.to_numeric(autoloan_raw_df['Employed_Days'], errors='coerce')\n",
    "autoloan_raw_df['Registration_Days'] = pd.to_numeric(autoloan_raw_df['Registration_Days'], errors='coerce')\n",
    "autoloan_raw_df['ID_Days'] = pd.to_numeric(autoloan_raw_df['ID_Days'], errors='coerce')\n",
    "autoloan_raw_df['Population_Region_Relative'] = pd.to_numeric(autoloan_raw_df['Population_Region_Relative'], errors='coerce')\n"
   ]
  },
  {
   "cell_type": "markdown",
   "id": "47ec3280",
   "metadata": {},
   "source": [
    "Convert the following variabrles into 'object type'. Despite being in integer form, we are going to convert it to object because these are categorical variables."
   ]
  },
  {
   "cell_type": "code",
   "execution_count": 1027,
   "id": "3a23d2aa",
   "metadata": {},
   "outputs": [],
   "source": [
    "autoloan_raw_df['Application_Process_Day'] = autoloan_raw_df['Application_Process_Day'].astype('object')\n",
    "autoloan_raw_df['Application_Process_Hour'] = autoloan_raw_df['Application_Process_Hour'].astype('object')"
   ]
  },
  {
   "cell_type": "markdown",
   "id": "0ab6ad42",
   "metadata": {},
   "source": [
    "Convert the following categorical variabrles into 0 and 1, and it will make it easier to build the pipeline later"
   ]
  },
  {
   "cell_type": "code",
   "execution_count": 1028,
   "id": "f1b15227",
   "metadata": {},
   "outputs": [],
   "source": [
    "#autoloan_raw_df['Client_Gender'].replace({'Male': 0, 'Female': 1, 'XNA': nan}, inplace=True)\n",
    "autoloan_raw_df['Client_Contact_Work_Tag'].replace({'No': 0, 'Yes': 1}, inplace=True) \n",
    "autoloan_raw_df['Client_Permanent_Match_Tag'].replace({'No': 0, 'Yes': 1}, inplace=True)\n"
   ]
  },
  {
   "cell_type": "markdown",
   "id": "d30606ec",
   "metadata": {},
   "source": [
    "Removing Outlier"
   ]
  },
  {
   "cell_type": "markdown",
   "id": "f00fc203",
   "metadata": {},
   "source": [
    "lets look at the distribution of the numerical data"
   ]
  },
  {
   "cell_type": "code",
   "execution_count": 1029,
   "id": "5c46fa13",
   "metadata": {
    "scrolled": false
   },
   "outputs": [
    {
     "data": {
      "image/png": "[encoded data removed]",
      "text/plain": [
       "<Figure size 864x576 with 28 Axes>"
      ]
     },
     "metadata": {
      "needs_background": "light"
     },
     "output_type": "display_data"
    }
   ],
   "source": [
    "fig, axes = plt.subplots(nrows=4, ncols=7, figsize=(12, 8))\n",
    "\n",
    "numericals = [column for column in autoloan_raw_df.select_dtypes(['int', 'float']).columns]\n",
    "\n",
    "for feature, ax in zip(numericals, axes.flatten()):\n",
    "    ax.hist(autoloan_raw_df[feature], bins=50)\n",
    "    ax.set_title(feature)\n",
    "    \n",
    "fig.tight_layout()"
   ]
  },
  {
   "cell_type": "markdown",
   "id": "7d6d9c47",
   "metadata": {},
   "source": []
  },
  {
   "cell_type": "code",
   "execution_count": 1030,
   "id": "429ba16e",
   "metadata": {},
   "outputs": [
    {
     "data": {
      "text/plain": [
       "count    118234.00\n",
       "mean      16865.19\n",
       "std       11538.15\n",
       "min        2565.00\n",
       "25%       11250.00\n",
       "50%       14400.00\n",
       "75%       20250.00\n",
       "max     1800009.00\n",
       "Name: Client_Income, dtype: float64"
      ]
     },
     "execution_count": 1030,
     "metadata": {},
     "output_type": "execute_result"
    }
   ],
   "source": [
    "autoloan_raw_df['Client_Income'].describe()"
   ]
  },
  {
   "cell_type": "code",
   "execution_count": 1031,
   "id": "162cfb46",
   "metadata": {
    "scrolled": false
   },
   "outputs": [
    {
     "data": {
      "text/plain": [
       "count   116988.00\n",
       "mean         0.02\n",
       "std          0.41\n",
       "min          0.00\n",
       "25%          0.01\n",
       "50%          0.02\n",
       "75%          0.03\n",
       "max        100.00\n",
       "Name: Population_Region_Relative, dtype: float64"
      ]
     },
     "execution_count": 1031,
     "metadata": {},
     "output_type": "execute_result"
    }
   ],
   "source": [
    "autoloan_raw_df['Population_Region_Relative'].describe()"
   ]
  },
  {
   "cell_type": "code",
   "execution_count": 1032,
   "id": "8afc8106",
   "metadata": {},
   "outputs": [
    {
     "data": {
      "text/plain": [
       "count   103316.00\n",
       "mean         1.89\n",
       "std          1.86\n",
       "min          0.00\n",
       "25%          0.00\n",
       "50%          1.00\n",
       "75%          3.00\n",
       "max         22.00\n",
       "Name: Credit_Bureau, dtype: float64"
      ]
     },
     "execution_count": 1032,
     "metadata": {},
     "output_type": "execute_result"
    }
   ],
   "source": [
    "autoloan_raw_df['Credit_Bureau'].describe()"
   ]
  },
  {
   "cell_type": "code",
   "execution_count": 1033,
   "id": "8031058a",
   "metadata": {},
   "outputs": [],
   "source": [
    "upper = autoloan_raw_df.Population_Region_Relative.quantile(.99)\n",
    "upper1 = autoloan_raw_df.Client_Income.quantile(.99)\n",
    "upper2 = autoloan_raw_df.Credit_Bureau.quantile(.99)\n",
    "autoloan_raw_df['Client_Income'] = autoloan_raw_df['Client_Income'].clip(upper=upper1)\n",
    "autoloan_raw_df['Population_Region_Relative'] = autoloan_raw_df['Population_Region_Relative'].clip(upper=upper)\n",
    "autoloan_raw_df['Credit_Bureau'] = autoloan_raw_df['Credit_Bureau'].clip(upper=upper2)"
   ]
  },
  {
   "cell_type": "code",
   "execution_count": 1034,
   "id": "1c4d33a8",
   "metadata": {
    "scrolled": true
   },
   "outputs": [
    {
     "name": "stdout",
     "output_type": "stream",
     "text": [
      "<class 'pandas.core.frame.DataFrame'>\n",
      "RangeIndex: 121856 entries, 0 to 121855\n",
      "Data columns (total 33 columns):\n",
      " #   Column                      Non-Null Count   Dtype  \n",
      "---  ------                      --------------   -----  \n",
      " 0   Client_Income               118234 non-null  float64\n",
      " 1   Car_Owned                   118275 non-null  float64\n",
      " 2   Bike_Owned                  118232 non-null  float64\n",
      " 3   Active_Loan                 118221 non-null  float64\n",
      " 4   House_Own                   118195 non-null  float64\n",
      " 5   Child_Count                 118218 non-null  float64\n",
      " 6   Credit_Amount               118219 non-null  float64\n",
      " 7   Loan_Annuity                117030 non-null  float64\n",
      " 8   Accompany_Client            120110 non-null  object \n",
      " 9   Client_Income_Type          118155 non-null  object \n",
      " 10  Client_Education            118211 non-null  object \n",
      " 11  Client_Marital_Status       118383 non-null  object \n",
      " 12  Client_Gender               119443 non-null  object \n",
      " 13  Loan_Contract_Type          118205 non-null  object \n",
      " 14  Client_Housing_Type         118169 non-null  object \n",
      " 15  Population_Region_Relative  116988 non-null  float64\n",
      " 16  Age_Days                    118239 non-null  float64\n",
      " 17  Employed_Days               118190 non-null  float64\n",
      " 18  Registration_Days           118225 non-null  float64\n",
      " 19  ID_Days                     115871 non-null  float64\n",
      " 20  Mobile_Tag                  121856 non-null  int64  \n",
      " 21  Homephone_Tag               121856 non-null  int64  \n",
      " 22  Workphone_Working           121856 non-null  int64  \n",
      " 23  Client_Occupation           80421 non-null   object \n",
      " 24  Client_Family_Members       119446 non-null  float64\n",
      " 25  Cleint_City_Rating          119447 non-null  float64\n",
      " 26  Application_Process_Day     119428 non-null  object \n",
      " 27  Application_Process_Hour    118193 non-null  object \n",
      " 28  Client_Permanent_Match_Tag  121856 non-null  int64  \n",
      " 29  Client_Contact_Work_Tag     121856 non-null  int64  \n",
      " 30  Phone_Change                118192 non-null  float64\n",
      " 31  Credit_Bureau               103316 non-null  float64\n",
      " 32  Default                     121856 non-null  int64  \n",
      "dtypes: float64(17), int64(6), object(10)\n",
      "memory usage: 30.7+ MB\n"
     ]
    }
   ],
   "source": [
    "autoloan_raw_df.info()"
   ]
  },
  {
   "cell_type": "code",
   "execution_count": 1035,
   "id": "ff0c280c",
   "metadata": {},
   "outputs": [
    {
     "data": {
      "image/png": "[encoded data removed]",
      "text/plain": [
       "<Figure size 864x576 with 28 Axes>"
      ]
     },
     "metadata": {
      "needs_background": "light"
     },
     "output_type": "display_data"
    }
   ],
   "source": [
    "fig, axes = plt.subplots(nrows=4, ncols=7, figsize=(12, 8))\n",
    "\n",
    "numericals = [column for column in autoloan_raw_df.select_dtypes(['int', 'float']).columns]\n",
    "\n",
    "for feature, ax in zip(numericals, axes.flatten()):\n",
    "    ax.hist(autoloan_raw_df[feature], bins=50)\n",
    "    ax.set_title(feature)\n",
    "    \n",
    "fig.tight_layout()"
   ]
  },
  {
   "cell_type": "code",
   "execution_count": 1036,
   "id": "9827e745",
   "metadata": {
    "scrolled": true
   },
   "outputs": [
    {
     "data": {
      "text/plain": [
       "count   103316.00\n",
       "mean         1.88\n",
       "std          1.83\n",
       "min          0.00\n",
       "25%          0.00\n",
       "50%          1.00\n",
       "75%          3.00\n",
       "max          8.00\n",
       "Name: Credit_Bureau, dtype: float64"
      ]
     },
     "execution_count": 1036,
     "metadata": {},
     "output_type": "execute_result"
    }
   ],
   "source": [
    "autoloan_raw_df['Credit_Bureau'].describe()"
   ]
  },
  {
   "cell_type": "code",
   "execution_count": 1037,
   "id": "0a08ec4f",
   "metadata": {
    "scrolled": true
   },
   "outputs": [
    {
     "data": {
      "text/plain": [
       "count   116988.00\n",
       "mean         0.02\n",
       "std          0.01\n",
       "min          0.00\n",
       "25%          0.01\n",
       "50%          0.02\n",
       "75%          0.03\n",
       "max          0.07\n",
       "Name: Population_Region_Relative, dtype: float64"
      ]
     },
     "execution_count": 1037,
     "metadata": {},
     "output_type": "execute_result"
    }
   ],
   "source": [
    "autoloan_raw_df['Population_Region_Relative'].describe()"
   ]
  },
  {
   "cell_type": "code",
   "execution_count": 1038,
   "id": "af27512c",
   "metadata": {
    "scrolled": true
   },
   "outputs": [
    {
     "data": {
      "text/plain": [
       "(121856, 33)"
      ]
     },
     "execution_count": 1038,
     "metadata": {},
     "output_type": "execute_result"
    }
   ],
   "source": [
    "autoloan_raw_df.shape"
   ]
  },
  {
   "cell_type": "markdown",
   "id": "6e451cf2",
   "metadata": {},
   "source": [
    "Changing these categorical binary variable into 0 and 1"
   ]
  },
  {
   "cell_type": "markdown",
   "id": "8120b41e",
   "metadata": {},
   "source": [
    "Separating data into training and testing sets is an important part of evaluating the models.Most of the data is used for training, and a smaller portion of the data is used for testing. For this analysis: we only split data into train and test. 75% of the data is for training and 25% for test. Also, the data split happened before we even do any EDA analysis to prevent data leakage. There is 91392 row of datas for the train set and 30464 rows of the data for test set before any data cleaning or analysis is done."
   ]
  },
  {
   "cell_type": "code",
   "execution_count": null,
   "id": "bea73772",
   "metadata": {},
   "outputs": [],
   "source": []
  },
  {
   "cell_type": "code",
   "execution_count": 1039,
   "id": "b60694a0",
   "metadata": {},
   "outputs": [
    {
     "data": {
      "text/html": [
       "<div>\n",
       "<style scoped>\n",
       "    .dataframe tbody tr th:only-of-type {\n",
       "        vertical-align: middle;\n",
       "    }\n",
       "\n",
       "    .dataframe tbody tr th {\n",
       "        vertical-align: top;\n",
       "    }\n",
       "\n",
       "    .dataframe thead th {\n",
       "        text-align: right;\n",
       "    }\n",
       "</style>\n",
       "<table border=\"1\" class=\"dataframe\">\n",
       "  <thead>\n",
       "    <tr style=\"text-align: right;\">\n",
       "      <th></th>\n",
       "      <th>Client_Income</th>\n",
       "      <th>Car_Owned</th>\n",
       "      <th>Bike_Owned</th>\n",
       "      <th>Active_Loan</th>\n",
       "      <th>House_Own</th>\n",
       "      <th>Child_Count</th>\n",
       "      <th>Credit_Amount</th>\n",
       "      <th>Loan_Annuity</th>\n",
       "      <th>Accompany_Client</th>\n",
       "      <th>Client_Income_Type</th>\n",
       "      <th>...</th>\n",
       "      <th>Client_Occupation</th>\n",
       "      <th>Client_Family_Members</th>\n",
       "      <th>Cleint_City_Rating</th>\n",
       "      <th>Application_Process_Day</th>\n",
       "      <th>Application_Process_Hour</th>\n",
       "      <th>Client_Permanent_Match_Tag</th>\n",
       "      <th>Client_Contact_Work_Tag</th>\n",
       "      <th>Phone_Change</th>\n",
       "      <th>Credit_Bureau</th>\n",
       "      <th>Default</th>\n",
       "    </tr>\n",
       "  </thead>\n",
       "  <tbody>\n",
       "    <tr>\n",
       "      <th>0</th>\n",
       "      <td>6750.00</td>\n",
       "      <td>0.00</td>\n",
       "      <td>0.00</td>\n",
       "      <td>1.00</td>\n",
       "      <td>0.00</td>\n",
       "      <td>0.00</td>\n",
       "      <td>61190.55</td>\n",
       "      <td>3416.85</td>\n",
       "      <td>Alone</td>\n",
       "      <td>Commercial</td>\n",
       "      <td>...</td>\n",
       "      <td>Sales</td>\n",
       "      <td>2.00</td>\n",
       "      <td>2.00</td>\n",
       "      <td>6.00</td>\n",
       "      <td>17.00</td>\n",
       "      <td>1</td>\n",
       "      <td>1</td>\n",
       "      <td>63.00</td>\n",
       "      <td>NaN</td>\n",
       "      <td>0</td>\n",
       "    </tr>\n",
       "    <tr>\n",
       "      <th>1</th>\n",
       "      <td>20250.00</td>\n",
       "      <td>1.00</td>\n",
       "      <td>0.00</td>\n",
       "      <td>1.00</td>\n",
       "      <td>NaN</td>\n",
       "      <td>0.00</td>\n",
       "      <td>15282.00</td>\n",
       "      <td>1826.55</td>\n",
       "      <td>Alone</td>\n",
       "      <td>Service</td>\n",
       "      <td>...</td>\n",
       "      <td>NaN</td>\n",
       "      <td>2.00</td>\n",
       "      <td>2.00</td>\n",
       "      <td>3.00</td>\n",
       "      <td>10.00</td>\n",
       "      <td>1</td>\n",
       "      <td>1</td>\n",
       "      <td>NaN</td>\n",
       "      <td>NaN</td>\n",
       "      <td>0</td>\n",
       "    </tr>\n",
       "    <tr>\n",
       "      <th>2</th>\n",
       "      <td>18000.00</td>\n",
       "      <td>0.00</td>\n",
       "      <td>0.00</td>\n",
       "      <td>1.00</td>\n",
       "      <td>0.00</td>\n",
       "      <td>1.00</td>\n",
       "      <td>59527.35</td>\n",
       "      <td>2788.20</td>\n",
       "      <td>Alone</td>\n",
       "      <td>Service</td>\n",
       "      <td>...</td>\n",
       "      <td>Realty agents</td>\n",
       "      <td>2.00</td>\n",
       "      <td>2.00</td>\n",
       "      <td>4.00</td>\n",
       "      <td>NaN</td>\n",
       "      <td>1</td>\n",
       "      <td>1</td>\n",
       "      <td>277.00</td>\n",
       "      <td>0.00</td>\n",
       "      <td>0</td>\n",
       "    </tr>\n",
       "    <tr>\n",
       "      <th>3</th>\n",
       "      <td>15750.00</td>\n",
       "      <td>0.00</td>\n",
       "      <td>0.00</td>\n",
       "      <td>1.00</td>\n",
       "      <td>1.00</td>\n",
       "      <td>0.00</td>\n",
       "      <td>53870.40</td>\n",
       "      <td>2295.45</td>\n",
       "      <td>Alone</td>\n",
       "      <td>Retired</td>\n",
       "      <td>...</td>\n",
       "      <td>NaN</td>\n",
       "      <td>2.00</td>\n",
       "      <td>3.00</td>\n",
       "      <td>2.00</td>\n",
       "      <td>15.00</td>\n",
       "      <td>1</td>\n",
       "      <td>1</td>\n",
       "      <td>1700.00</td>\n",
       "      <td>3.00</td>\n",
       "      <td>0</td>\n",
       "    </tr>\n",
       "    <tr>\n",
       "      <th>4</th>\n",
       "      <td>33750.00</td>\n",
       "      <td>1.00</td>\n",
       "      <td>0.00</td>\n",
       "      <td>1.00</td>\n",
       "      <td>0.00</td>\n",
       "      <td>2.00</td>\n",
       "      <td>133988.40</td>\n",
       "      <td>3547.35</td>\n",
       "      <td>Alone</td>\n",
       "      <td>Commercial</td>\n",
       "      <td>...</td>\n",
       "      <td>Laborers</td>\n",
       "      <td>4.00</td>\n",
       "      <td>1.00</td>\n",
       "      <td>3.00</td>\n",
       "      <td>NaN</td>\n",
       "      <td>1</td>\n",
       "      <td>1</td>\n",
       "      <td>674.00</td>\n",
       "      <td>1.00</td>\n",
       "      <td>0</td>\n",
       "    </tr>\n",
       "    <tr>\n",
       "      <th>...</th>\n",
       "      <td>...</td>\n",
       "      <td>...</td>\n",
       "      <td>...</td>\n",
       "      <td>...</td>\n",
       "      <td>...</td>\n",
       "      <td>...</td>\n",
       "      <td>...</td>\n",
       "      <td>...</td>\n",
       "      <td>...</td>\n",
       "      <td>...</td>\n",
       "      <td>...</td>\n",
       "      <td>...</td>\n",
       "      <td>...</td>\n",
       "      <td>...</td>\n",
       "      <td>...</td>\n",
       "      <td>...</td>\n",
       "      <td>...</td>\n",
       "      <td>...</td>\n",
       "      <td>...</td>\n",
       "      <td>...</td>\n",
       "      <td>...</td>\n",
       "    </tr>\n",
       "    <tr>\n",
       "      <th>121851</th>\n",
       "      <td>29250.00</td>\n",
       "      <td>0.00</td>\n",
       "      <td>0.00</td>\n",
       "      <td>NaN</td>\n",
       "      <td>1.00</td>\n",
       "      <td>0.00</td>\n",
       "      <td>107820.00</td>\n",
       "      <td>3165.30</td>\n",
       "      <td>Relative</td>\n",
       "      <td>Service</td>\n",
       "      <td>...</td>\n",
       "      <td>Laborers</td>\n",
       "      <td>2.00</td>\n",
       "      <td>2.00</td>\n",
       "      <td>4.00</td>\n",
       "      <td>16.00</td>\n",
       "      <td>1</td>\n",
       "      <td>0</td>\n",
       "      <td>0.00</td>\n",
       "      <td>1.00</td>\n",
       "      <td>1</td>\n",
       "    </tr>\n",
       "    <tr>\n",
       "      <th>121852</th>\n",
       "      <td>15750.00</td>\n",
       "      <td>0.00</td>\n",
       "      <td>1.00</td>\n",
       "      <td>1.00</td>\n",
       "      <td>0.00</td>\n",
       "      <td>0.00</td>\n",
       "      <td>104256.00</td>\n",
       "      <td>3388.05</td>\n",
       "      <td>Alone</td>\n",
       "      <td>Commercial</td>\n",
       "      <td>...</td>\n",
       "      <td>Sales</td>\n",
       "      <td>2.00</td>\n",
       "      <td>3.00</td>\n",
       "      <td>4.00</td>\n",
       "      <td>12.00</td>\n",
       "      <td>1</td>\n",
       "      <td>1</td>\n",
       "      <td>4.00</td>\n",
       "      <td>0.00</td>\n",
       "      <td>0</td>\n",
       "    </tr>\n",
       "    <tr>\n",
       "      <th>121853</th>\n",
       "      <td>8100.00</td>\n",
       "      <td>0.00</td>\n",
       "      <td>1.00</td>\n",
       "      <td>0.00</td>\n",
       "      <td>1.00</td>\n",
       "      <td>1.00</td>\n",
       "      <td>55107.90</td>\n",
       "      <td>2989.35</td>\n",
       "      <td>Alone</td>\n",
       "      <td>Govt Job</td>\n",
       "      <td>...</td>\n",
       "      <td>High skill tech</td>\n",
       "      <td>3.00</td>\n",
       "      <td>3.00</td>\n",
       "      <td>5.00</td>\n",
       "      <td>11.00</td>\n",
       "      <td>0</td>\n",
       "      <td>0</td>\n",
       "      <td>0.00</td>\n",
       "      <td>NaN</td>\n",
       "      <td>0</td>\n",
       "    </tr>\n",
       "    <tr>\n",
       "      <th>121854</th>\n",
       "      <td>38250.00</td>\n",
       "      <td>1.00</td>\n",
       "      <td>1.00</td>\n",
       "      <td>0.00</td>\n",
       "      <td>1.00</td>\n",
       "      <td>0.00</td>\n",
       "      <td>45000.00</td>\n",
       "      <td>2719.35</td>\n",
       "      <td>Alone</td>\n",
       "      <td>Service</td>\n",
       "      <td>...</td>\n",
       "      <td>Sales</td>\n",
       "      <td>2.00</td>\n",
       "      <td>2.00</td>\n",
       "      <td>1.00</td>\n",
       "      <td>12.00</td>\n",
       "      <td>1</td>\n",
       "      <td>1</td>\n",
       "      <td>0.00</td>\n",
       "      <td>2.00</td>\n",
       "      <td>0</td>\n",
       "    </tr>\n",
       "    <tr>\n",
       "      <th>121855</th>\n",
       "      <td>9000.00</td>\n",
       "      <td>1.00</td>\n",
       "      <td>1.00</td>\n",
       "      <td>1.00</td>\n",
       "      <td>1.00</td>\n",
       "      <td>1.00</td>\n",
       "      <td>62428.95</td>\n",
       "      <td>4201.65</td>\n",
       "      <td>Alone</td>\n",
       "      <td>Commercial</td>\n",
       "      <td>...</td>\n",
       "      <td>Managers</td>\n",
       "      <td>2.00</td>\n",
       "      <td>3.00</td>\n",
       "      <td>4.00</td>\n",
       "      <td>6.00</td>\n",
       "      <td>1</td>\n",
       "      <td>1</td>\n",
       "      <td>805.00</td>\n",
       "      <td>0.00</td>\n",
       "      <td>0</td>\n",
       "    </tr>\n",
       "  </tbody>\n",
       "</table>\n",
       "<p>121856 rows × 33 columns</p>\n",
       "</div>"
      ],
      "text/plain": [
       "        Client_Income  Car_Owned  Bike_Owned  Active_Loan  House_Own  \\\n",
       "0             6750.00       0.00        0.00         1.00       0.00   \n",
       "1            20250.00       1.00        0.00         1.00        NaN   \n",
       "2            18000.00       0.00        0.00         1.00       0.00   \n",
       "3            15750.00       0.00        0.00         1.00       1.00   \n",
       "4            33750.00       1.00        0.00         1.00       0.00   \n",
       "...               ...        ...         ...          ...        ...   \n",
       "121851       29250.00       0.00        0.00          NaN       1.00   \n",
       "121852       15750.00       0.00        1.00         1.00       0.00   \n",
       "121853        8100.00       0.00        1.00         0.00       1.00   \n",
       "121854       38250.00       1.00        1.00         0.00       1.00   \n",
       "121855        9000.00       1.00        1.00         1.00       1.00   \n",
       "\n",
       "        Child_Count  Credit_Amount  Loan_Annuity Accompany_Client  \\\n",
       "0              0.00       61190.55       3416.85            Alone   \n",
       "1              0.00       15282.00       1826.55            Alone   \n",
       "2              1.00       59527.35       2788.20            Alone   \n",
       "3              0.00       53870.40       2295.45            Alone   \n",
       "4              2.00      133988.40       3547.35            Alone   \n",
       "...             ...            ...           ...              ...   \n",
       "121851         0.00      107820.00       3165.30         Relative   \n",
       "121852         0.00      104256.00       3388.05            Alone   \n",
       "121853         1.00       55107.90       2989.35            Alone   \n",
       "121854         0.00       45000.00       2719.35            Alone   \n",
       "121855         1.00       62428.95       4201.65            Alone   \n",
       "\n",
       "       Client_Income_Type  ... Client_Occupation Client_Family_Members  \\\n",
       "0              Commercial  ...             Sales                  2.00   \n",
       "1                 Service  ...               NaN                  2.00   \n",
       "2                 Service  ...     Realty agents                  2.00   \n",
       "3                 Retired  ...               NaN                  2.00   \n",
       "4              Commercial  ...          Laborers                  4.00   \n",
       "...                   ...  ...               ...                   ...   \n",
       "121851            Service  ...          Laborers                  2.00   \n",
       "121852         Commercial  ...             Sales                  2.00   \n",
       "121853           Govt Job  ...   High skill tech                  3.00   \n",
       "121854            Service  ...             Sales                  2.00   \n",
       "121855         Commercial  ...          Managers                  2.00   \n",
       "\n",
       "       Cleint_City_Rating Application_Process_Day Application_Process_Hour  \\\n",
       "0                    2.00                    6.00                    17.00   \n",
       "1                    2.00                    3.00                    10.00   \n",
       "2                    2.00                    4.00                      NaN   \n",
       "3                    3.00                    2.00                    15.00   \n",
       "4                    1.00                    3.00                      NaN   \n",
       "...                   ...                     ...                      ...   \n",
       "121851               2.00                    4.00                    16.00   \n",
       "121852               3.00                    4.00                    12.00   \n",
       "121853               3.00                    5.00                    11.00   \n",
       "121854               2.00                    1.00                    12.00   \n",
       "121855               3.00                    4.00                     6.00   \n",
       "\n",
       "        Client_Permanent_Match_Tag  Client_Contact_Work_Tag  Phone_Change  \\\n",
       "0                                1                        1         63.00   \n",
       "1                                1                        1           NaN   \n",
       "2                                1                        1        277.00   \n",
       "3                                1                        1       1700.00   \n",
       "4                                1                        1        674.00   \n",
       "...                            ...                      ...           ...   \n",
       "121851                           1                        0          0.00   \n",
       "121852                           1                        1          4.00   \n",
       "121853                           0                        0          0.00   \n",
       "121854                           1                        1          0.00   \n",
       "121855                           1                        1        805.00   \n",
       "\n",
       "        Credit_Bureau  Default  \n",
       "0                 NaN        0  \n",
       "1                 NaN        0  \n",
       "2                0.00        0  \n",
       "3                3.00        0  \n",
       "4                1.00        0  \n",
       "...               ...      ...  \n",
       "121851           1.00        1  \n",
       "121852           0.00        0  \n",
       "121853            NaN        0  \n",
       "121854           2.00        0  \n",
       "121855           0.00        0  \n",
       "\n",
       "[121856 rows x 33 columns]"
      ]
     },
     "execution_count": 1039,
     "metadata": {},
     "output_type": "execute_result"
    }
   ],
   "source": [
    "autoloan_raw_df"
   ]
  },
  {
   "cell_type": "code",
   "execution_count": null,
   "id": "5661867a",
   "metadata": {},
   "outputs": [],
   "source": []
  },
  {
   "cell_type": "code",
   "execution_count": null,
   "id": "ba0cea77",
   "metadata": {},
   "outputs": [],
   "source": []
  },
  {
   "cell_type": "code",
   "execution_count": null,
   "id": "a0817bf2",
   "metadata": {},
   "outputs": [],
   "source": []
  },
  {
   "cell_type": "code",
   "execution_count": null,
   "id": "1866c6e8",
   "metadata": {},
   "outputs": [],
   "source": []
  },
  {
   "cell_type": "code",
   "execution_count": null,
   "id": "8b9a7b6b",
   "metadata": {},
   "outputs": [],
   "source": []
  },
  {
   "cell_type": "code",
   "execution_count": null,
   "id": "32a58e5f",
   "metadata": {},
   "outputs": [],
   "source": []
  },
  {
   "cell_type": "code",
   "execution_count": null,
   "id": "41234be7",
   "metadata": {},
   "outputs": [],
   "source": []
  },
  {
   "cell_type": "code",
   "execution_count": null,
   "id": "740140f1",
   "metadata": {},
   "outputs": [],
   "source": []
  },
  {
   "cell_type": "markdown",
   "id": "34a7221d",
   "metadata": {},
   "source": [
    "# 4.1 Pre-processing and Exploratory Analysis"
   ]
  },
  {
   "cell_type": "markdown",
   "id": "4f91d881",
   "metadata": {},
   "source": [
    "drop-list"
   ]
  },
  {
   "cell_type": "markdown",
   "id": "9073ac9f",
   "metadata": {},
   "source": [
    "convert categorical binary "
   ]
  },
  {
   "cell_type": "code",
   "execution_count": 1040,
   "id": "0d8ddcef",
   "metadata": {},
   "outputs": [],
   "source": [
    "#y_train_df.replace({'functional': 0, 'functional needs repair': 1, 'non functional': 2}, inplace=True)\n"
   ]
  },
  {
   "cell_type": "code",
   "execution_count": 1041,
   "id": "2fd9ae90",
   "metadata": {},
   "outputs": [],
   "source": [
    "#columns_to_drop = ['date_recorded', 'longitude', 'latitude', 'num_private', 'region', 'wpt_name', \n",
    " #                  'subvillage', 'ward', 'recorded_by', 'scheme_management', 'scheme_name', \n",
    " #                  'extraction_type_group', 'extraction_type_class', 'management_group', 'payment', \n",
    " #                  'quality_group', 'quantity_group', 'source_type', 'source_class', 'waterpoint_type_group']\n",
    "\n",
    "#X_train_df.drop(columns=columns_to_drop, inplace=True)\n",
    "\n",
    "# Preview new dataframe\n",
    "#X_train_df"
   ]
  },
  {
   "cell_type": "code",
   "execution_count": 1042,
   "id": "9a6a3b03",
   "metadata": {
    "scrolled": true
   },
   "outputs": [
    {
     "data": {
      "text/plain": [
       "Client_Income                  3622\n",
       "Car_Owned                      3581\n",
       "Bike_Owned                     3624\n",
       "Active_Loan                    3635\n",
       "House_Own                      3661\n",
       "Child_Count                    3638\n",
       "Credit_Amount                  3637\n",
       "Loan_Annuity                   4826\n",
       "Accompany_Client               1746\n",
       "Client_Income_Type             3701\n",
       "Client_Education               3645\n",
       "Client_Marital_Status          3473\n",
       "Client_Gender                  2413\n",
       "Loan_Contract_Type             3651\n",
       "Client_Housing_Type            3687\n",
       "Population_Region_Relative     4868\n",
       "Age_Days                       3617\n",
       "Employed_Days                  3666\n",
       "Registration_Days              3631\n",
       "ID_Days                        5985\n",
       "Mobile_Tag                        0\n",
       "Homephone_Tag                     0\n",
       "Workphone_Working                 0\n",
       "Client_Occupation             41435\n",
       "Client_Family_Members          2410\n",
       "Cleint_City_Rating             2409\n",
       "Application_Process_Day        2428\n",
       "Application_Process_Hour       3663\n",
       "Client_Permanent_Match_Tag        0\n",
       "Client_Contact_Work_Tag           0\n",
       "Phone_Change                   3664\n",
       "Credit_Bureau                 18540\n",
       "Default                           0\n",
       "dtype: int64"
      ]
     },
     "execution_count": 1042,
     "metadata": {},
     "output_type": "execute_result"
    }
   ],
   "source": [
    "autoloan_raw_df.isna().sum()"
   ]
  },
  {
   "cell_type": "code",
   "execution_count": 1043,
   "id": "7b6fec0b",
   "metadata": {
    "scrolled": false
   },
   "outputs": [
    {
     "data": {
      "text/plain": [
       "Client_Occupation            0.34\n",
       "Credit_Bureau                0.15\n",
       "ID_Days                      0.05\n",
       "Population_Region_Relative   0.04\n",
       "Loan_Annuity                 0.04\n",
       "Client_Income_Type           0.03\n",
       "Client_Housing_Type          0.03\n",
       "Employed_Days                0.03\n",
       "Phone_Change                 0.03\n",
       "Application_Process_Hour     0.03\n",
       "House_Own                    0.03\n",
       "Loan_Contract_Type           0.03\n",
       "Client_Education             0.03\n",
       "Child_Count                  0.03\n",
       "Credit_Amount                0.03\n",
       "Active_Loan                  0.03\n",
       "Registration_Days            0.03\n",
       "Bike_Owned                   0.03\n",
       "Client_Income                0.03\n",
       "Age_Days                     0.03\n",
       "Car_Owned                    0.03\n",
       "Client_Marital_Status        0.03\n",
       "Application_Process_Day      0.02\n",
       "Client_Gender                0.02\n",
       "Client_Family_Members        0.02\n",
       "Cleint_City_Rating           0.02\n",
       "Accompany_Client             0.01\n",
       "Mobile_Tag                   0.00\n",
       "Homephone_Tag                0.00\n",
       "Workphone_Working            0.00\n",
       "Client_Permanent_Match_Tag   0.00\n",
       "Client_Contact_Work_Tag      0.00\n",
       "Default                      0.00\n",
       "dtype: float64"
      ]
     },
     "execution_count": 1043,
     "metadata": {},
     "output_type": "execute_result"
    }
   ],
   "source": [
    "missing_fractions = autoloan_raw_df.isnull().mean().sort_values(ascending=False)\n",
    "#missing_fractions = autoloan_raw_df.isnull().mean()\n",
    "missing_fractions"
   ]
  },
  {
   "cell_type": "markdown",
   "id": "57464c48",
   "metadata": {},
   "source": [
    "There is missing value dataset, and lets f"
   ]
  },
  {
   "cell_type": "markdown",
   "id": "9b50dd70",
   "metadata": {},
   "source": [
    "# 4.1 ID"
   ]
  },
  {
   "cell_type": "markdown",
   "id": "89bb1683",
   "metadata": {},
   "source": [
    "Are all the IDs unique?"
   ]
  },
  {
   "cell_type": "code",
   "execution_count": 1044,
   "id": "faca9c38",
   "metadata": {
    "scrolled": true
   },
   "outputs": [],
   "source": [
    "#autoloan_raw_df['ID'].nunique()"
   ]
  },
  {
   "cell_type": "code",
   "execution_count": 1045,
   "id": "ba04eda1",
   "metadata": {},
   "outputs": [],
   "source": [
    "pd.options.display.float_format = \"{:.2f}\".format"
   ]
  },
  {
   "cell_type": "code",
   "execution_count": 1046,
   "id": "e0ff54cb",
   "metadata": {},
   "outputs": [],
   "source": [
    "#autoloan_raw_df['ID'].describe()"
   ]
  },
  {
   "cell_type": "markdown",
   "id": "cc414a40",
   "metadata": {},
   "source": [
    "They are all unique, however ID isnt useful for modeling and is dropped later."
   ]
  },
  {
   "cell_type": "markdown",
   "id": "b17eb600",
   "metadata": {},
   "source": [
    "# 4.2 Income"
   ]
  },
  {
   "cell_type": "markdown",
   "id": "8ad54327",
   "metadata": {},
   "source": [
    "0.03% of Client_Income data has a missing value, and it is going to be replaced by the income average?, which is the most frequency method for the SimpleImputer when we set up the preprocessing pipeline"
   ]
  },
  {
   "cell_type": "code",
   "execution_count": 1047,
   "id": "a6fcdbb2",
   "metadata": {},
   "outputs": [],
   "source": [
    "#autoloan_raw_df['Client_Income'] = pd.to_numeric(autoloan_raw_df['Client_Income'], errors='coerce')\n",
    "#autoloan_raw_df['Client_Income'] = autoloan_raw_df['Client_Income'].fillna(0)\n",
    "#x_train['Client_Income'] = pd.to_numeric(x_train['Client_Income'], errors='coerce')\n",
    "#x_test['Client_Income'] = pd.to_numeric(x_test['Client_Income'], errors='coerce')\n",
    "\n",
    "#autoloan_raw_df['Client_Income'] = autoloan_raw_df['Client_Income'].fillna(0)\n",
    "#autoloan_raw_df['Client Income'] = autoloan_raw_df['Client_Income'].apply(lambda x: float(x))\n",
    "#autoloan_raw_df['Client Income'] = autoloan_raw_df['Client Income'].astype(float).fillna(autoloan_raw_df['Client Income'].median())\n",
    "#autoloan_raw_df[autoloan_raw_df.columns['Client_Income']] = autoloan_raw_df[autoloan_raw_df.columns['Client_Income']].apply(pd.to_numeric, errors='coerce').fillna(0)"
   ]
  },
  {
   "cell_type": "code",
   "execution_count": 1048,
   "id": "f056418f",
   "metadata": {
    "scrolled": true
   },
   "outputs": [
    {
     "data": {
      "text/plain": [
       "Client_Income                  3622\n",
       "Car_Owned                      3581\n",
       "Bike_Owned                     3624\n",
       "Active_Loan                    3635\n",
       "House_Own                      3661\n",
       "Child_Count                    3638\n",
       "Credit_Amount                  3637\n",
       "Loan_Annuity                   4826\n",
       "Accompany_Client               1746\n",
       "Client_Income_Type             3701\n",
       "Client_Education               3645\n",
       "Client_Marital_Status          3473\n",
       "Client_Gender                  2413\n",
       "Loan_Contract_Type             3651\n",
       "Client_Housing_Type            3687\n",
       "Population_Region_Relative     4868\n",
       "Age_Days                       3617\n",
       "Employed_Days                  3666\n",
       "Registration_Days              3631\n",
       "ID_Days                        5985\n",
       "Mobile_Tag                        0\n",
       "Homephone_Tag                     0\n",
       "Workphone_Working                 0\n",
       "Client_Occupation             41435\n",
       "Client_Family_Members          2410\n",
       "Cleint_City_Rating             2409\n",
       "Application_Process_Day        2428\n",
       "Application_Process_Hour       3663\n",
       "Client_Permanent_Match_Tag        0\n",
       "Client_Contact_Work_Tag           0\n",
       "Phone_Change                   3664\n",
       "Credit_Bureau                 18540\n",
       "Default                           0\n",
       "dtype: int64"
      ]
     },
     "execution_count": 1048,
     "metadata": {},
     "output_type": "execute_result"
    }
   ],
   "source": [
    "autoloan_raw_df.isna().sum()"
   ]
  },
  {
   "cell_type": "markdown",
   "id": "e5a210b7",
   "metadata": {},
   "source": [
    "3.3 Car_Owned"
   ]
  },
  {
   "cell_type": "markdown",
   "id": "0d258cb7",
   "metadata": {},
   "source": [
    "0.03% of Car_Owned data has a missing value, and it is going to be replaced by the non Car_Owned, which is the most frequency method for the SimpleImputer when we set up the preprocessing pipeline"
   ]
  },
  {
   "cell_type": "code",
   "execution_count": 1049,
   "id": "074d083c",
   "metadata": {},
   "outputs": [
    {
     "data": {
      "text/plain": [
       "0.00   0.66\n",
       "1.00   0.34\n",
       "Name: Car_Owned, dtype: float64"
      ]
     },
     "execution_count": 1049,
     "metadata": {},
     "output_type": "execute_result"
    }
   ],
   "source": [
    "autoloan_raw_df['Car_Owned'].value_counts(normalize = True)"
   ]
  },
  {
   "cell_type": "code",
   "execution_count": 1050,
   "id": "501158c9",
   "metadata": {},
   "outputs": [],
   "source": [
    "#autoloan_raw_df['Car_Owned'] = autoloan_raw_df['Car_Owned'].fillna(0)\n"
   ]
  },
  {
   "cell_type": "markdown",
   "id": "6b8d6620",
   "metadata": {},
   "source": [
    " 3.4 Bike_Owned"
   ]
  },
  {
   "cell_type": "markdown",
   "id": "530abf49",
   "metadata": {},
   "source": [
    "0.03% of Bike_Owned data has a missing value, and it is going to be replaced by the non Bike_Owned, which is the most frequency method."
   ]
  },
  {
   "cell_type": "code",
   "execution_count": 1051,
   "id": "fe9ac8af",
   "metadata": {
    "scrolled": true
   },
   "outputs": [
    {
     "data": {
      "text/plain": [
       "0.00   0.67\n",
       "1.00   0.33\n",
       "Name: Bike_Owned, dtype: float64"
      ]
     },
     "execution_count": 1051,
     "metadata": {},
     "output_type": "execute_result"
    }
   ],
   "source": [
    "autoloan_raw_df['Bike_Owned'].value_counts(normalize = True)"
   ]
  },
  {
   "cell_type": "code",
   "execution_count": 1052,
   "id": "7a90ba2e",
   "metadata": {},
   "outputs": [],
   "source": [
    "#autoloan_raw_df['Bike_Owned'] = autoloan_raw_df['Bike_Owned'].fillna(0)\n"
   ]
  },
  {
   "cell_type": "markdown",
   "id": "a97b3bfb",
   "metadata": {},
   "source": [
    " 3.5 Active_Loan"
   ]
  },
  {
   "cell_type": "code",
   "execution_count": 1053,
   "id": "082e27f0",
   "metadata": {},
   "outputs": [
    {
     "data": {
      "text/plain": [
       "0.00   0.50\n",
       "1.00   0.50\n",
       "Name: Active_Loan, dtype: float64"
      ]
     },
     "execution_count": 1053,
     "metadata": {},
     "output_type": "execute_result"
    }
   ],
   "source": [
    "autoloan_raw_df['Active_Loan'].value_counts(normalize = True)"
   ]
  },
  {
   "cell_type": "markdown",
   "id": "a1263f20",
   "metadata": {},
   "source": [
    "0.03% of active loan data has a missing value, and it is going to be replaced by the mean of the default group."
   ]
  },
  {
   "cell_type": "code",
   "execution_count": 1054,
   "id": "efef79ac",
   "metadata": {},
   "outputs": [
    {
     "data": {
      "text/plain": [
       "0.00   0.50\n",
       "1.00   0.50\n",
       "Name: Active_Loan, dtype: float64"
      ]
     },
     "execution_count": 1054,
     "metadata": {},
     "output_type": "execute_result"
    }
   ],
   "source": [
    "autoloan_raw_df['Active_Loan'].value_counts(normalize = True)"
   ]
  },
  {
   "cell_type": "code",
   "execution_count": 1055,
   "id": "be81da10",
   "metadata": {},
   "outputs": [],
   "source": [
    "#autoloan_raw_df['Active_Loan'] = autoloan_raw_df['Active_Loan'].fillna(autoloan_raw_df.groupby('Default')['Active_Loan'].transform('mean'))"
   ]
  },
  {
   "cell_type": "code",
   "execution_count": 1056,
   "id": "ae5e5b1c",
   "metadata": {
    "scrolled": true
   },
   "outputs": [],
   "source": [
    "#autoloan_raw_df['Client_Income'] = autoloan_raw_df['Client_Income'].fillna(autoloan_raw_df['Client_Income'].median())"
   ]
  },
  {
   "cell_type": "code",
   "execution_count": 1057,
   "id": "4a4b5f4c",
   "metadata": {
    "scrolled": true
   },
   "outputs": [
    {
     "data": {
      "text/plain": [
       "Laborers             0.26\n",
       "Sales                0.15\n",
       "Core                 0.13\n",
       "Managers             0.10\n",
       "Drivers              0.09\n",
       "High skill tech      0.05\n",
       "Accountants          0.05\n",
       "Medicine             0.04\n",
       "Security             0.03\n",
       "Cooking              0.03\n",
       "Cleaning             0.02\n",
       "Private service      0.01\n",
       "Low-skill Laborers   0.01\n",
       "Secretaries          0.01\n",
       "Waiters/barmen       0.01\n",
       "Realty agents        0.00\n",
       "HR                   0.00\n",
       "IT                   0.00\n",
       "Name: Client_Occupation, dtype: float64"
      ]
     },
     "execution_count": 1057,
     "metadata": {},
     "output_type": "execute_result"
    }
   ],
   "source": [
    "autoloan_raw_df['Client_Occupation'].value_counts(normalize=True)"
   ]
  },
  {
   "cell_type": "markdown",
   "id": "3d008ed9",
   "metadata": {},
   "source": [
    "3.6 House_Own"
   ]
  },
  {
   "cell_type": "code",
   "execution_count": 1058,
   "id": "9819e5c3",
   "metadata": {},
   "outputs": [
    {
     "data": {
      "text/plain": [
       "1.00   0.69\n",
       "0.00   0.31\n",
       "Name: House_Own, dtype: float64"
      ]
     },
     "execution_count": 1058,
     "metadata": {},
     "output_type": "execute_result"
    }
   ],
   "source": [
    "autoloan_raw_df['House_Own'].value_counts(normalize = True)"
   ]
  },
  {
   "cell_type": "markdown",
   "id": "fd440b87",
   "metadata": {},
   "source": [
    "0.03% of active loan data has a missing value, and it is going to be replaced by the mean of the default group."
   ]
  },
  {
   "cell_type": "markdown",
   "id": "8d533cb9",
   "metadata": {},
   "source": [
    "3.7 Child_Count"
   ]
  },
  {
   "cell_type": "code",
   "execution_count": 1059,
   "id": "9042e219",
   "metadata": {},
   "outputs": [
    {
     "data": {
      "text/plain": [
       "0.00    0.70\n",
       "1.00    0.20\n",
       "2.00    0.09\n",
       "3.00    0.01\n",
       "4.00    0.00\n",
       "5.00    0.00\n",
       "6.00    0.00\n",
       "7.00    0.00\n",
       "14.00   0.00\n",
       "10.00   0.00\n",
       "8.00    0.00\n",
       "19.00   0.00\n",
       "12.00   0.00\n",
       "9.00    0.00\n",
       "Name: Child_Count, dtype: float64"
      ]
     },
     "execution_count": 1059,
     "metadata": {},
     "output_type": "execute_result"
    }
   ],
   "source": [
    "autoloan_raw_df['Child_Count'].value_counts(normalize = True)"
   ]
  },
  {
   "cell_type": "code",
   "execution_count": 1060,
   "id": "73108b43",
   "metadata": {},
   "outputs": [
    {
     "data": {
      "text/plain": [
       "Service           0.52\n",
       "Commercial        0.23\n",
       "Retired           0.18\n",
       "Govt Job          0.07\n",
       "Student           0.00\n",
       "Unemployed        0.00\n",
       "Maternity leave   0.00\n",
       "Businessman       0.00\n",
       "Name: Client_Income_Type, dtype: float64"
      ]
     },
     "execution_count": 1060,
     "metadata": {},
     "output_type": "execute_result"
    }
   ],
   "source": [
    "autoloan_raw_df['Client_Income_Type'].value_counts(normalize = True)"
   ]
  },
  {
   "cell_type": "code",
   "execution_count": 1061,
   "id": "c9b7ef31",
   "metadata": {
    "scrolled": false
   },
   "outputs": [
    {
     "data": {
      "text/plain": [
       "0.00   0.27\n",
       "1.00   0.24\n",
       "2.00   0.19\n",
       "3.00   0.13\n",
       "4.00   0.08\n",
       "5.00   0.05\n",
       "6.00   0.03\n",
       "7.00   0.01\n",
       "8.00   0.01\n",
       "Name: Credit_Bureau, dtype: float64"
      ]
     },
     "execution_count": 1061,
     "metadata": {},
     "output_type": "execute_result"
    }
   ],
   "source": [
    "autoloan_raw_df['Credit_Bureau'].value_counts(normalize = True)"
   ]
  },
  {
   "cell_type": "markdown",
   "id": "7bd9c239",
   "metadata": {},
   "source": [
    "Let's check our datatype and missing data type before we split our data."
   ]
  },
  {
   "cell_type": "code",
   "execution_count": 1062,
   "id": "154821a3",
   "metadata": {
    "scrolled": true
   },
   "outputs": [],
   "source": [
    "#autoloan_raw_df.info()"
   ]
  },
  {
   "cell_type": "code",
   "execution_count": 1063,
   "id": "df13b736",
   "metadata": {
    "scrolled": true
   },
   "outputs": [
    {
     "data": {
      "text/plain": [
       "Client_Occupation            0.34\n",
       "Credit_Bureau                0.15\n",
       "ID_Days                      0.05\n",
       "Population_Region_Relative   0.04\n",
       "Loan_Annuity                 0.04\n",
       "Client_Income_Type           0.03\n",
       "Client_Housing_Type          0.03\n",
       "Employed_Days                0.03\n",
       "Phone_Change                 0.03\n",
       "Application_Process_Hour     0.03\n",
       "House_Own                    0.03\n",
       "Loan_Contract_Type           0.03\n",
       "Client_Education             0.03\n",
       "Child_Count                  0.03\n",
       "Credit_Amount                0.03\n",
       "Active_Loan                  0.03\n",
       "Registration_Days            0.03\n",
       "Bike_Owned                   0.03\n",
       "Client_Income                0.03\n",
       "Age_Days                     0.03\n",
       "Car_Owned                    0.03\n",
       "Client_Marital_Status        0.03\n",
       "Application_Process_Day      0.02\n",
       "Client_Gender                0.02\n",
       "Client_Family_Members        0.02\n",
       "Cleint_City_Rating           0.02\n",
       "Accompany_Client             0.01\n",
       "Mobile_Tag                   0.00\n",
       "Homephone_Tag                0.00\n",
       "Workphone_Working            0.00\n",
       "Client_Permanent_Match_Tag   0.00\n",
       "Client_Contact_Work_Tag      0.00\n",
       "Default                      0.00\n",
       "dtype: float64"
      ]
     },
     "execution_count": 1063,
     "metadata": {},
     "output_type": "execute_result"
    }
   ],
   "source": [
    "autoloan_raw_df.isnull().mean().sort_values(ascending=False)"
   ]
  },
  {
   "cell_type": "code",
   "execution_count": 1064,
   "id": "9341421b",
   "metadata": {
    "scrolled": true
   },
   "outputs": [
    {
     "data": {
      "text/html": [
       "<div>\n",
       "<style scoped>\n",
       "    .dataframe tbody tr th:only-of-type {\n",
       "        vertical-align: middle;\n",
       "    }\n",
       "\n",
       "    .dataframe tbody tr th {\n",
       "        vertical-align: top;\n",
       "    }\n",
       "\n",
       "    .dataframe thead th {\n",
       "        text-align: right;\n",
       "    }\n",
       "</style>\n",
       "<table border=\"1\" class=\"dataframe\">\n",
       "  <thead>\n",
       "    <tr style=\"text-align: right;\">\n",
       "      <th></th>\n",
       "      <th>Client_Income</th>\n",
       "      <th>Car_Owned</th>\n",
       "      <th>Bike_Owned</th>\n",
       "      <th>Active_Loan</th>\n",
       "      <th>House_Own</th>\n",
       "      <th>Child_Count</th>\n",
       "      <th>Credit_Amount</th>\n",
       "      <th>Loan_Annuity</th>\n",
       "      <th>Accompany_Client</th>\n",
       "      <th>Client_Income_Type</th>\n",
       "      <th>...</th>\n",
       "      <th>Client_Occupation</th>\n",
       "      <th>Client_Family_Members</th>\n",
       "      <th>Cleint_City_Rating</th>\n",
       "      <th>Application_Process_Day</th>\n",
       "      <th>Application_Process_Hour</th>\n",
       "      <th>Client_Permanent_Match_Tag</th>\n",
       "      <th>Client_Contact_Work_Tag</th>\n",
       "      <th>Phone_Change</th>\n",
       "      <th>Credit_Bureau</th>\n",
       "      <th>Default</th>\n",
       "    </tr>\n",
       "  </thead>\n",
       "  <tbody>\n",
       "    <tr>\n",
       "      <th>0</th>\n",
       "      <td>6750.00</td>\n",
       "      <td>0.00</td>\n",
       "      <td>0.00</td>\n",
       "      <td>1.00</td>\n",
       "      <td>0.00</td>\n",
       "      <td>0.00</td>\n",
       "      <td>61190.55</td>\n",
       "      <td>3416.85</td>\n",
       "      <td>Alone</td>\n",
       "      <td>Commercial</td>\n",
       "      <td>...</td>\n",
       "      <td>Sales</td>\n",
       "      <td>2.00</td>\n",
       "      <td>2.00</td>\n",
       "      <td>6.00</td>\n",
       "      <td>17.00</td>\n",
       "      <td>1</td>\n",
       "      <td>1</td>\n",
       "      <td>63.00</td>\n",
       "      <td>NaN</td>\n",
       "      <td>0</td>\n",
       "    </tr>\n",
       "    <tr>\n",
       "      <th>1</th>\n",
       "      <td>20250.00</td>\n",
       "      <td>1.00</td>\n",
       "      <td>0.00</td>\n",
       "      <td>1.00</td>\n",
       "      <td>NaN</td>\n",
       "      <td>0.00</td>\n",
       "      <td>15282.00</td>\n",
       "      <td>1826.55</td>\n",
       "      <td>Alone</td>\n",
       "      <td>Service</td>\n",
       "      <td>...</td>\n",
       "      <td>NaN</td>\n",
       "      <td>2.00</td>\n",
       "      <td>2.00</td>\n",
       "      <td>3.00</td>\n",
       "      <td>10.00</td>\n",
       "      <td>1</td>\n",
       "      <td>1</td>\n",
       "      <td>NaN</td>\n",
       "      <td>NaN</td>\n",
       "      <td>0</td>\n",
       "    </tr>\n",
       "    <tr>\n",
       "      <th>2</th>\n",
       "      <td>18000.00</td>\n",
       "      <td>0.00</td>\n",
       "      <td>0.00</td>\n",
       "      <td>1.00</td>\n",
       "      <td>0.00</td>\n",
       "      <td>1.00</td>\n",
       "      <td>59527.35</td>\n",
       "      <td>2788.20</td>\n",
       "      <td>Alone</td>\n",
       "      <td>Service</td>\n",
       "      <td>...</td>\n",
       "      <td>Realty agents</td>\n",
       "      <td>2.00</td>\n",
       "      <td>2.00</td>\n",
       "      <td>4.00</td>\n",
       "      <td>NaN</td>\n",
       "      <td>1</td>\n",
       "      <td>1</td>\n",
       "      <td>277.00</td>\n",
       "      <td>0.00</td>\n",
       "      <td>0</td>\n",
       "    </tr>\n",
       "    <tr>\n",
       "      <th>3</th>\n",
       "      <td>15750.00</td>\n",
       "      <td>0.00</td>\n",
       "      <td>0.00</td>\n",
       "      <td>1.00</td>\n",
       "      <td>1.00</td>\n",
       "      <td>0.00</td>\n",
       "      <td>53870.40</td>\n",
       "      <td>2295.45</td>\n",
       "      <td>Alone</td>\n",
       "      <td>Retired</td>\n",
       "      <td>...</td>\n",
       "      <td>NaN</td>\n",
       "      <td>2.00</td>\n",
       "      <td>3.00</td>\n",
       "      <td>2.00</td>\n",
       "      <td>15.00</td>\n",
       "      <td>1</td>\n",
       "      <td>1</td>\n",
       "      <td>1700.00</td>\n",
       "      <td>3.00</td>\n",
       "      <td>0</td>\n",
       "    </tr>\n",
       "    <tr>\n",
       "      <th>4</th>\n",
       "      <td>33750.00</td>\n",
       "      <td>1.00</td>\n",
       "      <td>0.00</td>\n",
       "      <td>1.00</td>\n",
       "      <td>0.00</td>\n",
       "      <td>2.00</td>\n",
       "      <td>133988.40</td>\n",
       "      <td>3547.35</td>\n",
       "      <td>Alone</td>\n",
       "      <td>Commercial</td>\n",
       "      <td>...</td>\n",
       "      <td>Laborers</td>\n",
       "      <td>4.00</td>\n",
       "      <td>1.00</td>\n",
       "      <td>3.00</td>\n",
       "      <td>NaN</td>\n",
       "      <td>1</td>\n",
       "      <td>1</td>\n",
       "      <td>674.00</td>\n",
       "      <td>1.00</td>\n",
       "      <td>0</td>\n",
       "    </tr>\n",
       "  </tbody>\n",
       "</table>\n",
       "<p>5 rows × 33 columns</p>\n",
       "</div>"
      ],
      "text/plain": [
       "   Client_Income  Car_Owned  Bike_Owned  Active_Loan  House_Own  Child_Count  \\\n",
       "0        6750.00       0.00        0.00         1.00       0.00         0.00   \n",
       "1       20250.00       1.00        0.00         1.00        NaN         0.00   \n",
       "2       18000.00       0.00        0.00         1.00       0.00         1.00   \n",
       "3       15750.00       0.00        0.00         1.00       1.00         0.00   \n",
       "4       33750.00       1.00        0.00         1.00       0.00         2.00   \n",
       "\n",
       "   Credit_Amount  Loan_Annuity Accompany_Client Client_Income_Type  ...  \\\n",
       "0       61190.55       3416.85            Alone         Commercial  ...   \n",
       "1       15282.00       1826.55            Alone            Service  ...   \n",
       "2       59527.35       2788.20            Alone            Service  ...   \n",
       "3       53870.40       2295.45            Alone            Retired  ...   \n",
       "4      133988.40       3547.35            Alone         Commercial  ...   \n",
       "\n",
       "  Client_Occupation Client_Family_Members Cleint_City_Rating  \\\n",
       "0             Sales                  2.00               2.00   \n",
       "1               NaN                  2.00               2.00   \n",
       "2     Realty agents                  2.00               2.00   \n",
       "3               NaN                  2.00               3.00   \n",
       "4          Laborers                  4.00               1.00   \n",
       "\n",
       "  Application_Process_Day Application_Process_Hour  \\\n",
       "0                    6.00                    17.00   \n",
       "1                    3.00                    10.00   \n",
       "2                    4.00                      NaN   \n",
       "3                    2.00                    15.00   \n",
       "4                    3.00                      NaN   \n",
       "\n",
       "   Client_Permanent_Match_Tag  Client_Contact_Work_Tag  Phone_Change  \\\n",
       "0                           1                        1         63.00   \n",
       "1                           1                        1           NaN   \n",
       "2                           1                        1        277.00   \n",
       "3                           1                        1       1700.00   \n",
       "4                           1                        1        674.00   \n",
       "\n",
       "   Credit_Bureau  Default  \n",
       "0            NaN        0  \n",
       "1            NaN        0  \n",
       "2           0.00        0  \n",
       "3           3.00        0  \n",
       "4           1.00        0  \n",
       "\n",
       "[5 rows x 33 columns]"
      ]
     },
     "execution_count": 1064,
     "metadata": {},
     "output_type": "execute_result"
    }
   ],
   "source": [
    "autoloan_raw_df.head()"
   ]
  },
  {
   "cell_type": "code",
   "execution_count": 1065,
   "id": "92d96842",
   "metadata": {},
   "outputs": [
    {
     "data": {
      "text/plain": [
       "<bound method NDFrame.describe of         Client_Income  Car_Owned  Bike_Owned  Active_Loan  House_Own  \\\n",
       "0             6750.00       0.00        0.00         1.00       0.00   \n",
       "1            20250.00       1.00        0.00         1.00        NaN   \n",
       "2            18000.00       0.00        0.00         1.00       0.00   \n",
       "3            15750.00       0.00        0.00         1.00       1.00   \n",
       "4            33750.00       1.00        0.00         1.00       0.00   \n",
       "...               ...        ...         ...          ...        ...   \n",
       "121851       29250.00       0.00        0.00          NaN       1.00   \n",
       "121852       15750.00       0.00        1.00         1.00       0.00   \n",
       "121853        8100.00       0.00        1.00         0.00       1.00   \n",
       "121854       38250.00       1.00        1.00         0.00       1.00   \n",
       "121855        9000.00       1.00        1.00         1.00       1.00   \n",
       "\n",
       "        Child_Count  Credit_Amount  Loan_Annuity Accompany_Client  \\\n",
       "0              0.00       61190.55       3416.85            Alone   \n",
       "1              0.00       15282.00       1826.55            Alone   \n",
       "2              1.00       59527.35       2788.20            Alone   \n",
       "3              0.00       53870.40       2295.45            Alone   \n",
       "4              2.00      133988.40       3547.35            Alone   \n",
       "...             ...            ...           ...              ...   \n",
       "121851         0.00      107820.00       3165.30         Relative   \n",
       "121852         0.00      104256.00       3388.05            Alone   \n",
       "121853         1.00       55107.90       2989.35            Alone   \n",
       "121854         0.00       45000.00       2719.35            Alone   \n",
       "121855         1.00       62428.95       4201.65            Alone   \n",
       "\n",
       "       Client_Income_Type  ... Client_Occupation Client_Family_Members  \\\n",
       "0              Commercial  ...             Sales                  2.00   \n",
       "1                 Service  ...               NaN                  2.00   \n",
       "2                 Service  ...     Realty agents                  2.00   \n",
       "3                 Retired  ...               NaN                  2.00   \n",
       "4              Commercial  ...          Laborers                  4.00   \n",
       "...                   ...  ...               ...                   ...   \n",
       "121851            Service  ...          Laborers                  2.00   \n",
       "121852         Commercial  ...             Sales                  2.00   \n",
       "121853           Govt Job  ...   High skill tech                  3.00   \n",
       "121854            Service  ...             Sales                  2.00   \n",
       "121855         Commercial  ...          Managers                  2.00   \n",
       "\n",
       "       Cleint_City_Rating Application_Process_Day Application_Process_Hour  \\\n",
       "0                    2.00                    6.00                    17.00   \n",
       "1                    2.00                    3.00                    10.00   \n",
       "2                    2.00                    4.00                      NaN   \n",
       "3                    3.00                    2.00                    15.00   \n",
       "4                    1.00                    3.00                      NaN   \n",
       "...                   ...                     ...                      ...   \n",
       "121851               2.00                    4.00                    16.00   \n",
       "121852               3.00                    4.00                    12.00   \n",
       "121853               3.00                    5.00                    11.00   \n",
       "121854               2.00                    1.00                    12.00   \n",
       "121855               3.00                    4.00                     6.00   \n",
       "\n",
       "        Client_Permanent_Match_Tag  Client_Contact_Work_Tag  Phone_Change  \\\n",
       "0                                1                        1         63.00   \n",
       "1                                1                        1           NaN   \n",
       "2                                1                        1        277.00   \n",
       "3                                1                        1       1700.00   \n",
       "4                                1                        1        674.00   \n",
       "...                            ...                      ...           ...   \n",
       "121851                           1                        0          0.00   \n",
       "121852                           1                        1          4.00   \n",
       "121853                           0                        0          0.00   \n",
       "121854                           1                        1          0.00   \n",
       "121855                           1                        1        805.00   \n",
       "\n",
       "        Credit_Bureau  Default  \n",
       "0                 NaN        0  \n",
       "1                 NaN        0  \n",
       "2                0.00        0  \n",
       "3                3.00        0  \n",
       "4                1.00        0  \n",
       "...               ...      ...  \n",
       "121851           1.00        1  \n",
       "121852           0.00        0  \n",
       "121853            NaN        0  \n",
       "121854           2.00        0  \n",
       "121855           0.00        0  \n",
       "\n",
       "[121856 rows x 33 columns]>"
      ]
     },
     "execution_count": 1065,
     "metadata": {},
     "output_type": "execute_result"
    }
   ],
   "source": [
    "autoloan_raw_df.describe"
   ]
  },
  {
   "cell_type": "markdown",
   "id": "cc4e3890",
   "metadata": {},
   "source": [
    "Filling Missing Data"
   ]
  },
  {
   "cell_type": "markdown",
   "id": "5cf3ce89",
   "metadata": {},
   "source": [
    "Any data thats missing 3% data would consider random and will be filled with most frequency in the pipeline.Client_Occupation,Credit_Bureau,ID_Days,Loan_Annuity,and Population_Region_Relative will have different methods to fill with missing data."
   ]
  },
  {
   "cell_type": "markdown",
   "id": "c761fd5f",
   "metadata": {},
   "source": [
    "Client_Occupation has 34% missing data, however, we don't want to drop it as it may give us some important information. Missing data will be filled with \"other\"."
   ]
  },
  {
   "cell_type": "code",
   "execution_count": null,
   "id": "be9bc4c1",
   "metadata": {},
   "outputs": [],
   "source": []
  },
  {
   "cell_type": "markdown",
   "id": "1287ff7f",
   "metadata": {},
   "source": [
    "# Test Train Split"
   ]
  },
  {
   "cell_type": "markdown",
   "id": "62f4fbb2",
   "metadata": {},
   "source": [
    "Separating data into training and testing sets is an important part of evaluating the models.Most of the data is used for training, and a smaller portion of the data is used for testing. For this analysis: we only split data into train and test. 75% of the data is for training and 25% for test. There is 91392 row of datas for the train set and 30464 rows of the data for test set before any data cleaning or analysis is done."
   ]
  },
  {
   "cell_type": "code",
   "execution_count": 1066,
   "id": "471b9454",
   "metadata": {},
   "outputs": [],
   "source": [
    "y = autoloan_raw_df['Default']\n",
    "X = autoloan_raw_df.drop(columns=['Default'], axis=1)"
   ]
  },
  {
   "cell_type": "code",
   "execution_count": 1067,
   "id": "861ec261",
   "metadata": {},
   "outputs": [
    {
     "data": {
      "text/plain": [
       "((91392, 32), (30464, 32), (91392,), (30464,))"
      ]
     },
     "execution_count": 1067,
     "metadata": {},
     "output_type": "execute_result"
    }
   ],
   "source": [
    "#create train-test set using 75%-25% ratio for the train set and test set and set the random state = 42) randomly split the data\n",
    "x_train, x_test, y_train, y_test = train_test_split(X, y ,test_size=0.25,stratify=y,random_state=42)\n",
    "# shape of train and test splits\n",
    "x_train.shape, x_test.shape, y_train.shape, y_test.shape"
   ]
  },
  {
   "cell_type": "code",
   "execution_count": null,
   "id": "c2fdf9f0",
   "metadata": {},
   "outputs": [],
   "source": []
  },
  {
   "cell_type": "markdown",
   "id": "921789e0",
   "metadata": {},
   "source": [
    "# Pipeline"
   ]
  },
  {
   "cell_type": "markdown",
   "id": "b29238d1",
   "metadata": {},
   "source": [
    "Now we need to set a pipeline for our data with the imputing staregy from the discussion above. We will set up a numeric pipeline for numerical variable. Feautres with missing value will be imputed by mean. Afterwards, it will be fed into a standard scaler for scaling."
   ]
  },
  {
   "cell_type": "markdown",
   "id": "40b667a8",
   "metadata": {},
   "source": [
    "I am going to make a list of the following categorical variable so I can prepare a list for the feature for the one hot encoding."
   ]
  },
  {
   "cell_type": "code",
   "execution_count": 1068,
   "id": "e912ff1f",
   "metadata": {},
   "outputs": [],
   "source": [
    "#print(\"Accompany_Client\")\n",
    "#print(x_train.Accompany_Client.unique())\n",
    "\n",
    "#print(\"Client_Income_Type\")\n",
    "#print(x_train.Client_Income_Type.unique())\n",
    "\n",
    "#print(\"Client_Education\") \n",
    "#print(x_train.Client_Education.unique())\n",
    "\n",
    "#print(\"Client_Marital_Status\")\n",
    "#print(x_train.Client_Marital_Status.unique())\n",
    "\n",
    "#print(\"Client_Gender\")\n",
    "#print(x_train.Client_Gender.unique())\n",
    "\n",
    "\n",
    "#print(\"Client_Housing_Type\")\n",
    "#print(x_train.Client_Housing_Type.unique())\n",
    "\n",
    "#print(\"Client_Occupation\")\n",
    "#print(x_train.Client_Occupation.unique())\n",
    "\n",
    "\n",
    "#print(\"Loan_Contract_Type\")\n",
    "#print(x_train.Loan_Contract_Type.unique())\n",
    "\n",
    "#print(\"Type_Organization\")\n",
    "#print(x_train.Client_Income_Type.unique())"
   ]
  },
  {
   "cell_type": "code",
   "execution_count": 1069,
   "id": "4aba5cf8",
   "metadata": {
    "scrolled": true
   },
   "outputs": [],
   "source": [
    "Client_Education_list = ['Junior secondary','Secondary','Graduation dropout','Graduation','Post Grad']\n",
    "Client_Marital_Status_list = ['D','W','M','S']"
   ]
  },
  {
   "cell_type": "code",
   "execution_count": 1070,
   "id": "e3643d50",
   "metadata": {},
   "outputs": [
    {
     "name": "stdout",
     "output_type": "stream",
     "text": [
      "<class 'pandas.core.frame.DataFrame'>\n",
      "Int64Index: 91392 entries, 64390 to 83907\n",
      "Data columns (total 32 columns):\n",
      " #   Column                      Non-Null Count  Dtype  \n",
      "---  ------                      --------------  -----  \n",
      " 0   Client_Income               88727 non-null  float64\n",
      " 1   Car_Owned                   88721 non-null  float64\n",
      " 2   Bike_Owned                  88682 non-null  float64\n",
      " 3   Active_Loan                 88649 non-null  float64\n",
      " 4   House_Own                   88650 non-null  float64\n",
      " 5   Child_Count                 88673 non-null  float64\n",
      " 6   Credit_Amount               88682 non-null  float64\n",
      " 7   Loan_Annuity                87776 non-null  float64\n",
      " 8   Accompany_Client            90079 non-null  object \n",
      " 9   Client_Income_Type          88604 non-null  object \n",
      " 10  Client_Education            88626 non-null  object \n",
      " 11  Client_Marital_Status       88796 non-null  object \n",
      " 12  Client_Gender               89569 non-null  object \n",
      " 13  Loan_Contract_Type          88641 non-null  object \n",
      " 14  Client_Housing_Type         88630 non-null  object \n",
      " 15  Population_Region_Relative  87719 non-null  float64\n",
      " 16  Age_Days                    88652 non-null  float64\n",
      " 17  Employed_Days               88612 non-null  float64\n",
      " 18  Registration_Days           88676 non-null  float64\n",
      " 19  ID_Days                     86923 non-null  float64\n",
      " 20  Mobile_Tag                  91392 non-null  int64  \n",
      " 21  Homephone_Tag               91392 non-null  int64  \n",
      " 22  Workphone_Working           91392 non-null  int64  \n",
      " 23  Client_Occupation           60331 non-null  object \n",
      " 24  Client_Family_Members       89571 non-null  float64\n",
      " 25  Cleint_City_Rating          89573 non-null  float64\n",
      " 26  Application_Process_Day     89584 non-null  object \n",
      " 27  Application_Process_Hour    88650 non-null  object \n",
      " 28  Client_Permanent_Match_Tag  91392 non-null  int64  \n",
      " 29  Client_Contact_Work_Tag     91392 non-null  int64  \n",
      " 30  Phone_Change                88635 non-null  float64\n",
      " 31  Credit_Bureau               77478 non-null  float64\n",
      "dtypes: float64(17), int64(5), object(10)\n",
      "memory usage: 23.0+ MB\n"
     ]
    }
   ],
   "source": [
    "x_train.info()"
   ]
  },
  {
   "cell_type": "code",
   "execution_count": 1071,
   "id": "68862f56",
   "metadata": {},
   "outputs": [],
   "source": [
    "ordinal_Client_Education_pipeline = Pipeline([\n",
    "    ('ordimputer', SimpleImputer(strategy = 'most_frequent')),\n",
    "    ('ordenc', OrdinalEncoder(categories = [Client_Education_list])),\n",
    "    ('ordnorm', StandardScaler())])"
   ]
  },
  {
   "cell_type": "code",
   "execution_count": 1072,
   "id": "5ad5e012",
   "metadata": {},
   "outputs": [],
   "source": [
    "ordinal_Client_Marital_Status_pipeline = Pipeline([\n",
    "    ('ordimputer', SimpleImputer(strategy = 'most_frequent')),\n",
    "    ('ordenc', OrdinalEncoder(categories = [Client_Marital_Status_list])),\n",
    "    ('ordnorm', StandardScaler())])"
   ]
  },
  {
   "cell_type": "code",
   "execution_count": 1073,
   "id": "ebcb096b",
   "metadata": {},
   "outputs": [],
   "source": [
    "nominal_pipeline = Pipeline([\n",
    "    ('onehotimputer', SimpleImputer(strategy = 'most_frequent')),\n",
    "    ('onehotenc', OneHotEncoder(sparse = False, drop = 'first')), \n",
    "    ('onehotnorm', StandardScaler())])"
   ]
  },
  {
   "cell_type": "code",
   "execution_count": 1074,
   "id": "1397db98",
   "metadata": {},
   "outputs": [],
   "source": [
    "nominal_Client_Occupation_pipeline = Pipeline([\n",
    "    ('onehotimputer',SimpleImputer(strategy = 'constant',fill_value= \"Other\") ),\n",
    "    ('onehotenc', OneHotEncoder(sparse = False, drop = 'first')), \n",
    "    ('onehotnorm', StandardScaler())])"
   ]
  },
  {
   "cell_type": "code",
   "execution_count": 1076,
   "id": "59c223f7",
   "metadata": {},
   "outputs": [],
   "source": [
    "numeric_pipeline = Pipeline([\n",
    "    ('numimputer', SimpleImputer(strategy = 'mean')), \n",
    "    ('numnorm', StandardScaler())])"
   ]
  },
  {
   "cell_type": "code",
   "execution_count": 1077,
   "id": "172a66ea",
   "metadata": {},
   "outputs": [],
   "source": [
    "#nominal_Client_Occupation_pipeline = Pipeline([\n",
    "    #('onehotimputer', SimpleImputer(strategy = 'most_frequent')),\n",
    "    #('onehotenc', OneHotEncoder(sparse = False, drop = 'first')), \n",
    "    #('onehotnorm', MaxAbsScaler())])"
   ]
  },
  {
   "cell_type": "code",
   "execution_count": 1078,
   "id": "85622881",
   "metadata": {},
   "outputs": [],
   "source": [
    "numeric_Credit_Bureau_pipeline = Pipeline([\n",
    "    ('numimputer',SimpleImputer(strategy = 'mean')), \n",
    "    ('numnorm', MinMaxScaler())])"
   ]
  },
  {
   "cell_type": "code",
   "execution_count": 1079,
   "id": "89890275",
   "metadata": {},
   "outputs": [],
   "source": [
    "#class NameDropper (BaseEstimator, TransformerMixin):\n",
    "  #  def"
   ]
  },
  {
   "cell_type": "code",
   "execution_count": 1080,
   "id": "d17ce284",
   "metadata": {
    "scrolled": false
   },
   "outputs": [
    {
     "name": "stdout",
     "output_type": "stream",
     "text": [
      "<class 'pandas.core.frame.DataFrame'>\n",
      "Int64Index: 91392 entries, 64390 to 83907\n",
      "Data columns (total 32 columns):\n",
      " #   Column                      Non-Null Count  Dtype  \n",
      "---  ------                      --------------  -----  \n",
      " 0   Client_Income               88727 non-null  float64\n",
      " 1   Car_Owned                   88721 non-null  float64\n",
      " 2   Bike_Owned                  88682 non-null  float64\n",
      " 3   Active_Loan                 88649 non-null  float64\n",
      " 4   House_Own                   88650 non-null  float64\n",
      " 5   Child_Count                 88673 non-null  float64\n",
      " 6   Credit_Amount               88682 non-null  float64\n",
      " 7   Loan_Annuity                87776 non-null  float64\n",
      " 8   Accompany_Client            90079 non-null  object \n",
      " 9   Client_Income_Type          88604 non-null  object \n",
      " 10  Client_Education            88626 non-null  object \n",
      " 11  Client_Marital_Status       88796 non-null  object \n",
      " 12  Client_Gender               89569 non-null  object \n",
      " 13  Loan_Contract_Type          88641 non-null  object \n",
      " 14  Client_Housing_Type         88630 non-null  object \n",
      " 15  Population_Region_Relative  87719 non-null  float64\n",
      " 16  Age_Days                    88652 non-null  float64\n",
      " 17  Employed_Days               88612 non-null  float64\n",
      " 18  Registration_Days           88676 non-null  float64\n",
      " 19  ID_Days                     86923 non-null  float64\n",
      " 20  Mobile_Tag                  91392 non-null  int64  \n",
      " 21  Homephone_Tag               91392 non-null  int64  \n",
      " 22  Workphone_Working           91392 non-null  int64  \n",
      " 23  Client_Occupation           60331 non-null  object \n",
      " 24  Client_Family_Members       89571 non-null  float64\n",
      " 25  Cleint_City_Rating          89573 non-null  float64\n",
      " 26  Application_Process_Day     89584 non-null  object \n",
      " 27  Application_Process_Hour    88650 non-null  object \n",
      " 28  Client_Permanent_Match_Tag  91392 non-null  int64  \n",
      " 29  Client_Contact_Work_Tag     91392 non-null  int64  \n",
      " 30  Phone_Change                88635 non-null  float64\n",
      " 31  Credit_Bureau               77478 non-null  float64\n",
      "dtypes: float64(17), int64(5), object(10)\n",
      "memory usage: 23.0+ MB\n"
     ]
    }
   ],
   "source": [
    "x_train.info()"
   ]
  },
  {
   "cell_type": "code",
   "execution_count": 1081,
   "id": "7e25804b",
   "metadata": {},
   "outputs": [
    {
     "data": {
      "text/plain": [
       "['Accompany_Client',\n",
       " 'Client_Income_Type',\n",
       " 'Client_Gender',\n",
       " 'Loan_Contract_Type',\n",
       " 'Client_Housing_Type',\n",
       " 'Application_Process_Day',\n",
       " 'Application_Process_Hour']"
      ]
     },
     "execution_count": 1081,
     "metadata": {},
     "output_type": "execute_result"
    }
   ],
   "source": [
    "num_cols = list(x_train.select_dtypes(['int', 'float']).columns)\n",
    "#num_cols.remove('Credit_Bureau')\n",
    "ohe_cols = list(x_train.select_dtypes('object').columns)\n",
    "ohe_cols.remove('Client_Education')\n",
    "ohe_cols.remove('Client_Marital_Status')\n",
    "ohe_cols.remove('Client_Occupation')\n",
    "ohe_cols"
   ]
  },
  {
   "cell_type": "code",
   "execution_count": 1082,
   "id": "6280034b",
   "metadata": {},
   "outputs": [],
   "source": [
    "ct = ColumnTransformer(\n",
    "    [ (\"ordinalpipe\", ordinal_Client_Education_pipeline, ['Client_Education']),\n",
    "       (\"ordinalpipe2\", ordinal_Client_Marital_Status_pipeline, ['Client_Marital_Status']),\n",
    "       #(\"ordinalpipe3\", ordinal_emp_status_pipeline, ['employment_status']),\n",
    "       #(\"ordinalpipe4\", ordinal_edu_pipeline, ['education']),\n",
    "       #(\"ordinalpipe5\", ordinal_census_pipeline, ['census_msa']),\n",
    "       #(\"ordinalpipe6\", ordinal_hhs_pipeline, ['hhs_geo_region']),\n",
    "       (\"nominalpipe\", nominal_pipeline,ohe_cols),\n",
    "       (\"nominalpipe2\", nominal_Client_Occupation_pipeline,['Client_Occupation']),\n",
    "       #(\"nominalpipe3\", nominal_doc_rec_pipeline,['doctor_recc_h1n1']),\n",
    "       (\"numpipe\", numeric_pipeline, num_cols)])\n",
    "        #(\"numpipe2\", numeric_Credit_Bureau_pipeline, num_cols)])\n",
    "    "
   ]
  },
  {
   "cell_type": "code",
   "execution_count": null,
   "id": "d1ca38e0",
   "metadata": {},
   "outputs": [],
   "source": []
  },
  {
   "cell_type": "code",
   "execution_count": 1083,
   "id": "613e417f",
   "metadata": {
    "scrolled": true
   },
   "outputs": [],
   "source": [
    "#x_train_clean = pd.DataFrame(ct.fit_transform(x_train))\n",
    "#x_train_clean.describe()"
   ]
  },
  {
   "cell_type": "markdown",
   "id": "9168d792",
   "metadata": {},
   "source": [
    "# Baseline Model"
   ]
  },
  {
   "cell_type": "code",
   "execution_count": 1084,
   "id": "bd540d3a",
   "metadata": {
    "scrolled": true
   },
   "outputs": [],
   "source": [
    "steps=[('preprocessing', ct),\n",
    "        ('PCA',PCA(n_components= 1)),\n",
    "       ('classifier', DummyClassifier(strategy='most_frequent'))]"
   ]
  },
  {
   "cell_type": "code",
   "execution_count": 1085,
   "id": "5ac4dba5",
   "metadata": {},
   "outputs": [],
   "source": [
    "baseline_pipe = Pipeline(steps)"
   ]
  },
  {
   "cell_type": "code",
   "execution_count": 1086,
   "id": "28514043",
   "metadata": {},
   "outputs": [
    {
     "data": {
      "text/plain": [
       "Pipeline(steps=[('preprocessing',\n",
       "                 ColumnTransformer(transformers=[('ordinalpipe',\n",
       "                                                  Pipeline(steps=[('ordimputer',\n",
       "                                                                   SimpleImputer(strategy='most_frequent')),\n",
       "                                                                  ('ordenc',\n",
       "                                                                   OrdinalEncoder(categories=[['Junior '\n",
       "                                                                                               'secondary',\n",
       "                                                                                               'Secondary',\n",
       "                                                                                               'Graduation '\n",
       "                                                                                               'dropout',\n",
       "                                                                                               'Graduation',\n",
       "                                                                                               'Post '\n",
       "                                                                                               'Grad']])),\n",
       "                                                                  ('ordnorm',\n",
       "                                                                   StandardScaler())]),\n",
       "                                                  ['Client_Education']),\n",
       "                                                 ('ordinalpipe2',\n",
       "                                                  Pipeline...\n",
       "                                                   'Population_Region_Relative',\n",
       "                                                   'Age_Days', 'Employed_Days',\n",
       "                                                   'Registration_Days',\n",
       "                                                   'ID_Days', 'Mobile_Tag',\n",
       "                                                   'Homephone_Tag',\n",
       "                                                   'Workphone_Working',\n",
       "                                                   'Client_Family_Members',\n",
       "                                                   'Cleint_City_Rating',\n",
       "                                                   'Client_Permanent_Match_Tag',\n",
       "                                                   'Client_Contact_Work_Tag',\n",
       "                                                   'Phone_Change',\n",
       "                                                   'Credit_Bureau'])])),\n",
       "                ('PCA', PCA(n_components=1)),\n",
       "                ('classifier', DummyClassifier(strategy='most_frequent'))])"
      ]
     },
     "execution_count": 1086,
     "metadata": {},
     "output_type": "execute_result"
    }
   ],
   "source": [
    "baseline_pipe.fit(x_train, y_train)"
   ]
  },
  {
   "cell_type": "code",
   "execution_count": 1087,
   "id": "3fa78f68",
   "metadata": {},
   "outputs": [],
   "source": [
    "y_pred0= baseline_pipe.predict(x_test)"
   ]
  },
  {
   "cell_type": "code",
   "execution_count": 1088,
   "id": "fc49cc1e",
   "metadata": {
    "scrolled": true
   },
   "outputs": [
    {
     "name": "stderr",
     "output_type": "stream",
     "text": [
      "C:\\Users\\eggfr\\anaconda3\\lib\\site-packages\\sklearn\\utils\\deprecation.py:87: FutureWarning: Function plot_confusion_matrix is deprecated; Function `plot_confusion_matrix` is deprecated in 1.0 and will be removed in 1.2. Use one of the class methods: ConfusionMatrixDisplay.from_predictions or ConfusionMatrixDisplay.from_estimator.\n",
      "  warnings.warn(msg, category=FutureWarning)\n"
     ]
    },
    {
     "data": {
      "image/png": "[encoded data removed]",
      "text/plain": [
       "<Figure size 432x288 with 2 Axes>"
      ]
     },
     "metadata": {
      "needs_background": "light"
     },
     "output_type": "display_data"
    },
    {
     "name": "stdout",
     "output_type": "stream",
     "text": [
      "              precision    recall  f1-score   support\n",
      "\n",
      "           0       0.92      1.00      0.96     28003\n",
      "           1       0.00      0.00      0.00      2461\n",
      "\n",
      "    accuracy                           0.92     30464\n",
      "   macro avg       0.46      0.50      0.48     30464\n",
      "weighted avg       0.84      0.92      0.88     30464\n",
      "\n"
     ]
    },
    {
     "name": "stderr",
     "output_type": "stream",
     "text": [
      "C:\\Users\\eggfr\\anaconda3\\lib\\site-packages\\sklearn\\metrics\\_classification.py:1318: UndefinedMetricWarning: Precision and F-score are ill-defined and being set to 0.0 in labels with no predicted samples. Use `zero_division` parameter to control this behavior.\n",
      "  _warn_prf(average, modifier, msg_start, len(result))\n",
      "C:\\Users\\eggfr\\anaconda3\\lib\\site-packages\\sklearn\\metrics\\_classification.py:1318: UndefinedMetricWarning: Precision and F-score are ill-defined and being set to 0.0 in labels with no predicted samples. Use `zero_division` parameter to control this behavior.\n",
      "  _warn_prf(average, modifier, msg_start, len(result))\n",
      "C:\\Users\\eggfr\\anaconda3\\lib\\site-packages\\sklearn\\metrics\\_classification.py:1318: UndefinedMetricWarning: Precision and F-score are ill-defined and being set to 0.0 in labels with no predicted samples. Use `zero_division` parameter to control this behavior.\n",
      "  _warn_prf(average, modifier, msg_start, len(result))\n"
     ]
    }
   ],
   "source": [
    "status_labels = ['0: Normal', '1: Default']\n",
    "plot_confusion_matrix(baseline_pipe,x_test,y_test,display_labels = status_labels)\n",
    "plt.grid(False)\n",
    "plt.title('Confusion Matrix - Baseline')\n",
    "plt.show()\n",
    "\n",
    "baseline_classification_report = classification_report(y_test, y_pred0)\n",
    "print(baseline_classification_report)"
   ]
  },
  {
   "cell_type": "code",
   "execution_count": 1089,
   "id": "e266877d",
   "metadata": {},
   "outputs": [
    {
     "name": "stdout",
     "output_type": "stream",
     "text": [
      "0.9192051820728291\n",
      "0.9192161239495799\n"
     ]
    }
   ],
   "source": [
    "print(baseline_pipe.score(x_train,y_train))\n",
    "print(baseline_pipe.score(x_test,y_test))"
   ]
  },
  {
   "cell_type": "code",
   "execution_count": 1090,
   "id": "7392dc7a",
   "metadata": {},
   "outputs": [],
   "source": [
    "steps=[('preprocessing', ct), \n",
    "       ('PCA',PCA(n_components= .8)),\n",
    "       ('logreg', LogisticRegression(random_state=42))]\n",
    "model1_pipe = Pipeline(steps)"
   ]
  },
  {
   "cell_type": "code",
   "execution_count": 1091,
   "id": "e204390f",
   "metadata": {},
   "outputs": [
    {
     "data": {
      "text/plain": [
       "Pipeline(steps=[('preprocessing',\n",
       "                 ColumnTransformer(transformers=[('ordinalpipe',\n",
       "                                                  Pipeline(steps=[('ordimputer',\n",
       "                                                                   SimpleImputer(strategy='most_frequent')),\n",
       "                                                                  ('ordenc',\n",
       "                                                                   OrdinalEncoder(categories=[['Junior '\n",
       "                                                                                               'secondary',\n",
       "                                                                                               'Secondary',\n",
       "                                                                                               'Graduation '\n",
       "                                                                                               'dropout',\n",
       "                                                                                               'Graduation',\n",
       "                                                                                               'Post '\n",
       "                                                                                               'Grad']])),\n",
       "                                                                  ('ordnorm',\n",
       "                                                                   StandardScaler())]),\n",
       "                                                  ['Client_Education']),\n",
       "                                                 ('ordinalpipe2',\n",
       "                                                  Pipeline...\n",
       "                                                   'Loan_Annuity',\n",
       "                                                   'Population_Region_Relative',\n",
       "                                                   'Age_Days', 'Employed_Days',\n",
       "                                                   'Registration_Days',\n",
       "                                                   'ID_Days', 'Mobile_Tag',\n",
       "                                                   'Homephone_Tag',\n",
       "                                                   'Workphone_Working',\n",
       "                                                   'Client_Family_Members',\n",
       "                                                   'Cleint_City_Rating',\n",
       "                                                   'Client_Permanent_Match_Tag',\n",
       "                                                   'Client_Contact_Work_Tag',\n",
       "                                                   'Phone_Change',\n",
       "                                                   'Credit_Bureau'])])),\n",
       "                ('PCA', PCA(n_components=0.8)),\n",
       "                ('logreg', LogisticRegression(random_state=42))])"
      ]
     },
     "execution_count": 1091,
     "metadata": {},
     "output_type": "execute_result"
    }
   ],
   "source": [
    "model1_pipe.fit(x_train,y_train)"
   ]
  },
  {
   "cell_type": "code",
   "execution_count": 1092,
   "id": "94b25f07",
   "metadata": {},
   "outputs": [],
   "source": [
    "y_pred = model1_pipe.predict(x_test)"
   ]
  },
  {
   "cell_type": "code",
   "execution_count": 1093,
   "id": "64d2faa4",
   "metadata": {
    "scrolled": true
   },
   "outputs": [
    {
     "name": "stdout",
     "output_type": "stream",
     "text": [
      "Accuracy is :91.91504726890757\n",
      "precision is :25.0\n",
      "\n",
      "AUC is :0.5\n",
      "\n",
      "Confusion Matrix\n",
      "----------------\n"
     ]
    },
    {
     "name": "stderr",
     "output_type": "stream",
     "text": [
      "C:\\Users\\eggfr\\anaconda3\\lib\\site-packages\\sklearn\\utils\\deprecation.py:87: FutureWarning: Function plot_confusion_matrix is deprecated; Function `plot_confusion_matrix` is deprecated in 1.0 and will be removed in 1.2. Use one of the class methods: ConfusionMatrixDisplay.from_predictions or ConfusionMatrixDisplay.from_estimator.\n",
      "  warnings.warn(msg, category=FutureWarning)\n"
     ]
    },
    {
     "data": {
      "image/png": "[encoded data removed]",
      "text/plain": [
       "<Figure size 432x288 with 2 Axes>"
      ]
     },
     "metadata": {
      "needs_background": "light"
     },
     "output_type": "display_data"
    },
    {
     "name": "stdout",
     "output_type": "stream",
     "text": [
      "              precision    recall  f1-score   support\n",
      "\n",
      "           0       0.92      1.00      0.96     28003\n",
      "           1       0.25      0.00      0.00      2461\n",
      "\n",
      "    accuracy                           0.92     30464\n",
      "   macro avg       0.58      0.50      0.48     30464\n",
      "weighted avg       0.87      0.92      0.88     30464\n",
      "\n"
     ]
    }
   ],
   "source": [
    "acc = accuracy_score(y_test,y_pred) * 100\n",
    "print('Accuracy is :{0}'.format(acc))\n",
    "\n",
    "pre = precision_score(y_test,y_pred) * 100\n",
    "print('precision is :{0}'.format(pre))\n",
    "\n",
    "# Check the AUC for predictions\n",
    "false_positive_rate, true_positive_rate, thresholds = roc_curve(y_test, y_pred)\n",
    "roc_auc = auc(false_positive_rate, true_positive_rate)\n",
    "print('\\nAUC is :{0}'.format(round(roc_auc, 2)))\n",
    "\n",
    "# Create and print a confusion matrix \n",
    "print('\\nConfusion Matrix')\n",
    "print('----------------')\n",
    "#pd.crosstab(y_test, y_pred, rownames=['True'], colnames=['Predicted'], margins=True)\n",
    "from sklearn.metrics import plot_confusion_matrix\n",
    "\n",
    "\n",
    "plot_confusion_matrix(model1_pipe,x_test,y_test,display_labels = status_labels)\n",
    "plt.grid(False)\n",
    "plt.title('Confusion Matrix - Logistic Regression ')\n",
    "plt.show()\n",
    "logreg_classification_report = classification_report(y_test, y_pred)\n",
    "print(logreg_classification_report)"
   ]
  },
  {
   "cell_type": "code",
   "execution_count": 1094,
   "id": "f12588d4",
   "metadata": {},
   "outputs": [
    {
     "name": "stdout",
     "output_type": "stream",
     "text": [
      "0.9192270658263305\n",
      "0.9191504726890757\n"
     ]
    }
   ],
   "source": [
    "print(model1_pipe.score(x_train,y_train))\n",
    "print(model1_pipe.score(x_test,y_test))"
   ]
  },
  {
   "cell_type": "code",
   "execution_count": 1095,
   "id": "1897ad20",
   "metadata": {},
   "outputs": [],
   "source": [
    "steps = [('preprocess', ct),\n",
    "         ('PCA',PCA(n_components= .90)),\n",
    "         ('knn',KNeighborsClassifier())]\n",
    "\n",
    "\n",
    "model2_pipe = Pipeline(steps)"
   ]
  },
  {
   "cell_type": "code",
   "execution_count": 1096,
   "id": "7db8055f",
   "metadata": {},
   "outputs": [
    {
     "data": {
      "text/plain": [
       "Pipeline(steps=[('preprocess',\n",
       "                 ColumnTransformer(transformers=[('ordinalpipe',\n",
       "                                                  Pipeline(steps=[('ordimputer',\n",
       "                                                                   SimpleImputer(strategy='most_frequent')),\n",
       "                                                                  ('ordenc',\n",
       "                                                                   OrdinalEncoder(categories=[['Junior '\n",
       "                                                                                               'secondary',\n",
       "                                                                                               'Secondary',\n",
       "                                                                                               'Graduation '\n",
       "                                                                                               'dropout',\n",
       "                                                                                               'Graduation',\n",
       "                                                                                               'Post '\n",
       "                                                                                               'Grad']])),\n",
       "                                                                  ('ordnorm',\n",
       "                                                                   StandardScaler())]),\n",
       "                                                  ['Client_Education']),\n",
       "                                                 ('ordinalpipe2',\n",
       "                                                  Pipeline(st...\n",
       "                                                   'Credit_Amount',\n",
       "                                                   'Loan_Annuity',\n",
       "                                                   'Population_Region_Relative',\n",
       "                                                   'Age_Days', 'Employed_Days',\n",
       "                                                   'Registration_Days',\n",
       "                                                   'ID_Days', 'Mobile_Tag',\n",
       "                                                   'Homephone_Tag',\n",
       "                                                   'Workphone_Working',\n",
       "                                                   'Client_Family_Members',\n",
       "                                                   'Cleint_City_Rating',\n",
       "                                                   'Client_Permanent_Match_Tag',\n",
       "                                                   'Client_Contact_Work_Tag',\n",
       "                                                   'Phone_Change',\n",
       "                                                   'Credit_Bureau'])])),\n",
       "                ('PCA', PCA(n_components=0.9)),\n",
       "                ('knn', KNeighborsClassifier())])"
      ]
     },
     "execution_count": 1096,
     "metadata": {},
     "output_type": "execute_result"
    }
   ],
   "source": [
    "model2_pipe.fit(x_train,y_train)"
   ]
  },
  {
   "cell_type": "code",
   "execution_count": 1097,
   "id": "c1d38616",
   "metadata": {},
   "outputs": [],
   "source": [
    "y_pred = model2_pipe.predict(x_test)"
   ]
  },
  {
   "cell_type": "code",
   "execution_count": 1098,
   "id": "526bcdcf",
   "metadata": {
    "scrolled": false
   },
   "outputs": [
    {
     "name": "stdout",
     "output_type": "stream",
     "text": [
      "Accuracy is :91.20601365546219\n",
      "precision is :18.313953488372093\n",
      "\n",
      "AUC is :0.51\n",
      "\n",
      "Confusion Matrix\n",
      "----------------\n"
     ]
    },
    {
     "name": "stderr",
     "output_type": "stream",
     "text": [
      "C:\\Users\\eggfr\\anaconda3\\lib\\site-packages\\sklearn\\utils\\deprecation.py:87: FutureWarning: Function plot_confusion_matrix is deprecated; Function `plot_confusion_matrix` is deprecated in 1.0 and will be removed in 1.2. Use one of the class methods: ConfusionMatrixDisplay.from_predictions or ConfusionMatrixDisplay.from_estimator.\n",
      "  warnings.warn(msg, category=FutureWarning)\n"
     ]
    },
    {
     "data": {
      "image/png": "[encoded data removed]",
      "text/plain": [
       "<Figure size 432x288 with 2 Axes>"
      ]
     },
     "metadata": {
      "needs_background": "light"
     },
     "output_type": "display_data"
    },
    {
     "name": "stdout",
     "output_type": "stream",
     "text": [
      "              precision    recall  f1-score   support\n",
      "\n",
      "           0       0.92      0.99      0.95     28003\n",
      "           1       0.18      0.03      0.04      2461\n",
      "\n",
      "    accuracy                           0.91     30464\n",
      "   macro avg       0.55      0.51      0.50     30464\n",
      "weighted avg       0.86      0.91      0.88     30464\n",
      "\n"
     ]
    }
   ],
   "source": [
    "acc = accuracy_score(y_test,y_pred) * 100\n",
    "print('Accuracy is :{0}'.format(acc))\n",
    "\n",
    "pre = precision_score(y_test,y_pred) * 100\n",
    "print('precision is :{0}'.format(pre))\n",
    "\n",
    "# Check the AUC for predictions\n",
    "false_positive_rate, true_positive_rate, thresholds = roc_curve(y_test, y_pred)\n",
    "roc_auc = auc(false_positive_rate, true_positive_rate)\n",
    "print('\\nAUC is :{0}'.format(round(roc_auc, 2)))\n",
    "\n",
    "# Create and print a confusion matrix \n",
    "print('\\nConfusion Matrix')\n",
    "print('----------------')\n",
    "#pd.crosstab(y_test, y_pred, rownames=['True'], colnames=['Predicted'], margins=True)\n",
    "from sklearn.metrics import plot_confusion_matrix\n",
    "\n",
    "\n",
    "plot_confusion_matrix(model2_pipe,x_test,y_test,display_labels = status_labels)\n",
    "plt.grid(False)\n",
    "plt.title('Confusion Matrix - KNN Regression ')\n",
    "plt.show()\n",
    "logreg_classification_report = classification_report(y_test, y_pred)\n",
    "print(logreg_classification_report)"
   ]
  },
  {
   "cell_type": "code",
   "execution_count": 1099,
   "id": "99bf2a0c",
   "metadata": {},
   "outputs": [
    {
     "name": "stdout",
     "output_type": "stream",
     "text": [
      "0.9229035364145658\n",
      "0.9120601365546218\n"
     ]
    }
   ],
   "source": [
    "print(model2_pipe.score(x_train,y_train))\n",
    "print(model2_pipe.score(x_test,y_test))"
   ]
  },
  {
   "cell_type": "code",
   "execution_count": null,
   "id": "078eed1f",
   "metadata": {},
   "outputs": [],
   "source": []
  },
  {
   "cell_type": "code",
   "execution_count": null,
   "id": "1636be23",
   "metadata": {},
   "outputs": [],
   "source": []
  },
  {
   "cell_type": "code",
   "execution_count": null,
   "id": "16230497",
   "metadata": {},
   "outputs": [],
   "source": []
  },
  {
   "cell_type": "code",
   "execution_count": 1100,
   "id": "4871ff0c",
   "metadata": {},
   "outputs": [],
   "source": [
    "#ordi =OrdinalEncoder(categories=[Client_Education_list])"
   ]
  },
  {
   "cell_type": "code",
   "execution_count": 1101,
   "id": "47df91ca",
   "metadata": {},
   "outputs": [],
   "source": [
    "#x_train['Client_Education'] = x_train['Client_Education'].fillna(value = 'Secondary')"
   ]
  },
  {
   "cell_type": "code",
   "execution_count": null,
   "id": "94352ca0",
   "metadata": {},
   "outputs": [],
   "source": []
  },
  {
   "cell_type": "code",
   "execution_count": null,
   "id": "568408fa",
   "metadata": {},
   "outputs": [],
   "source": []
  },
  {
   "cell_type": "code",
   "execution_count": null,
   "id": "d3a0e43e",
   "metadata": {},
   "outputs": [],
   "source": []
  },
  {
   "cell_type": "code",
   "execution_count": null,
   "id": "4d0a5e73",
   "metadata": {},
   "outputs": [],
   "source": []
  },
  {
   "cell_type": "code",
   "execution_count": null,
   "id": "d83cf7ec",
   "metadata": {},
   "outputs": [],
   "source": []
  },
  {
   "cell_type": "code",
   "execution_count": 1102,
   "id": "91714832",
   "metadata": {},
   "outputs": [],
   "source": [
    "#ordi.fit(x_train[['Client_Education']])"
   ]
  },
  {
   "cell_type": "code",
   "execution_count": 1103,
   "id": "7f7621ab",
   "metadata": {},
   "outputs": [],
   "source": [
    "#x_train['Client_Education']"
   ]
  },
  {
   "cell_type": "code",
   "execution_count": 1104,
   "id": "c030d0c5",
   "metadata": {},
   "outputs": [],
   "source": [
    "#pd.DataFrame(ordi.transform(x_train[['Client_Education']]))"
   ]
  },
  {
   "cell_type": "code",
   "execution_count": null,
   "id": "5710265b",
   "metadata": {},
   "outputs": [],
   "source": []
  },
  {
   "cell_type": "code",
   "execution_count": null,
   "id": "77c09289",
   "metadata": {},
   "outputs": [],
   "source": []
  }
 ],
 "metadata": {
  "kernelspec": {
   "display_name": "Python 3 (ipykernel)",
   "language": "python",
   "name": "python3"
  },
  "language_info": {
   "codemirror_mode": {
    "name": "ipython",
    "version": 3
   },
   "file_extension": ".py",
   "mimetype": "text/x-python",
   "name": "python",
   "nbconvert_exporter": "python",
   "pygments_lexer": "ipython3",
   "version": "3.9.12"
  }
 },
 "nbformat": 4,
 "nbformat_minor": 5
}
